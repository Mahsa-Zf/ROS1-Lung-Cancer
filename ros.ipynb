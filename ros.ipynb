{
 "cells": [
  {
   "cell_type": "markdown",
   "metadata": {},
   "source": [
    "# Introduction\n",
    "## What is ROS1?\n",
    "\n",
    "ROS1 is a gene that encodes a type of protein known as a receptor tyrosine kinase. Under normal circumstances, these proteins help regulate cell growth and division. However:\n",
    "\n",
    "In ROS1+ lung cancer, part of the ROS1 gene gets fused with another gene (a fusion partner), due to a chromosomal translocation.\n",
    "\n",
    "This fusion causes the ROS1 protein to be constantly active (even without external signals), leading to uncontrolled cell growth — a process called oncogenesis.\n",
    "\n",
    "Common fusion partners for ROS1 include:\n",
    "\n",
    "- CD74\n",
    "\n",
    "- EZR\n",
    "\n",
    "- SDC4\n",
    "\n",
    "## What is the significance in lung cancer?\n",
    "ROS1+ cases account for only 1–2% of all lung cancers, but identifying them is important because they respond well to targeted treatments.\n",
    "\n",
    "These are often non-small cell lung cancers (NSCLC).\n",
    "\n",
    "## How are ROS1+ cancers treated?\n",
    "Patients are treated with Tyrosine Kinase Inhibitors (TKIs) such as:\n",
    "\n",
    "- Crizotinib\n",
    "\n",
    "- Entrectinib\n",
    "\n",
    "These drugs block the activity of the abnormal ROS1 protein, slowing or stopping cancer growth.\n",
    "\n",
    "## What’s the problem with TKIs?\n",
    "Unfortunately, TKIs aren't a cure. Patients often develop resistance over time:\n",
    "\n",
    "On-target resistance: Mutations directly in ROS1 that make the TKI less effective.\n",
    "\n",
    "Off-target resistance: Other pathways in the cell take over to drive cancer growth (bypass mechanisms).\n",
    "\n",
    "## What’s the goal of this project?\n",
    "The project aims to unravel the mechanisms behind TKI resistance in ROS1+ lung cancer using patient-derived cell lines (PDCLs).\n",
    "\n",
    "We’ll focus on:\n",
    "\n",
    "- Transcriptomics: studying RNA expression to see which genes are turned on/off during TKI treatment.\n",
    "\n",
    "Specifically, we'll look at changes in gene expression after treatment with crizotinib or entrectinib.\n",
    "\n",
    "The goal is to:\n",
    "\n",
    "- Understand which genes are up- or down-regulated upon TKI treatment.\n",
    "\n",
    "- Identify potential new resistance mechanisms or biomarkers for treatment response."
   ]
  },
  {
   "cell_type": "markdown",
   "metadata": {},
   "source": [
    "# Preliminary Data Handling"
   ]
  },
  {
   "cell_type": "code",
   "execution_count": 1,
   "metadata": {
    "vscode": {
     "languageId": "r"
    }
   },
   "outputs": [],
   "source": [
    "# install.packages(\"BiocManager\")\n",
    "# BiocManager::install(\"GEOquery\")\n",
    "# BiocManager::install(\"DESeq2\")\n"
   ]
  },
  {
   "cell_type": "code",
   "execution_count": 2,
   "metadata": {
    "vscode": {
     "languageId": "r"
    }
   },
   "outputs": [],
   "source": [
    "# if (!requireNamespace(\"BiocManager\", quietly = TRUE))\n",
    "#   install.packages(\"BiocManager\")\n",
    "\n",
    "# BiocManager::install(\"org.Hs.eg.db\")  # Human gene annotation package\n",
    "# BiocManager::install(\"EnhancedVolcano\")\n"
   ]
  },
  {
   "cell_type": "code",
   "execution_count": 3,
   "metadata": {
    "vscode": {
     "languageId": "r"
    }
   },
   "outputs": [],
   "source": [
    "# install.packages(\"tinytex\")"
   ]
  },
  {
   "cell_type": "code",
   "execution_count": 4,
   "metadata": {
    "vscode": {
     "languageId": "r"
    }
   },
   "outputs": [
    {
     "name": "stderr",
     "output_type": "stream",
     "text": [
      "Loading required package: Biobase\n",
      "\n",
      "Loading required package: BiocGenerics\n",
      "\n"
     ]
    },
    {
     "name": "stderr",
     "output_type": "stream",
     "text": [
      "\n",
      "Attaching package: ‘BiocGenerics’\n",
      "\n",
      "\n",
      "The following objects are masked from ‘package:stats’:\n",
      "\n",
      "    IQR, mad, sd, var, xtabs\n",
      "\n",
      "\n",
      "The following objects are masked from ‘package:base’:\n",
      "\n",
      "    Filter, Find, Map, Position, Reduce, anyDuplicated, aperm, append,\n",
      "    as.data.frame, basename, cbind, colnames, dirname, do.call,\n",
      "    duplicated, eval, evalq, get, grep, grepl, intersect, is.unsorted,\n",
      "    lapply, mapply, match, mget, order, paste, pmax, pmax.int, pmin,\n",
      "    pmin.int, rank, rbind, rownames, sapply, setdiff, sort, table,\n",
      "    tapply, union, unique, unsplit, which.max, which.min\n",
      "\n",
      "\n",
      "Welcome to Bioconductor\n",
      "\n",
      "    Vignettes contain introductory material; view with\n",
      "    'browseVignettes()'. To cite Bioconductor, see\n",
      "    'citation(\"Biobase\")', and for packages 'citation(\"pkgname\")'.\n",
      "\n",
      "\n",
      "Setting options('download.file.method.GEOquery'='auto')\n",
      "\n",
      "Setting options('GEOquery.inmemory.gpl'=FALSE)\n",
      "\n",
      "\n",
      "Attaching package: ‘dplyr’\n",
      "\n",
      "\n",
      "The following objects are masked from ‘package:data.table’:\n",
      "\n",
      "    between, first, last\n",
      "\n",
      "\n",
      "The following object is masked from ‘package:Biobase’:\n",
      "\n",
      "    combine\n",
      "\n",
      "\n",
      "The following objects are masked from ‘package:BiocGenerics’:\n",
      "\n",
      "    combine, intersect, setdiff, union\n",
      "\n",
      "\n",
      "The following objects are masked from ‘package:stats’:\n",
      "\n",
      "    filter, lag\n",
      "\n",
      "\n",
      "The following objects are masked from ‘package:base’:\n",
      "\n",
      "    intersect, setdiff, setequal, union\n",
      "\n",
      "\n",
      "Loading required package: AnnotationDbi\n",
      "\n",
      "Loading required package: stats4\n",
      "\n",
      "Loading required package: IRanges\n",
      "\n",
      "Loading required package: S4Vectors\n",
      "\n",
      "\n",
      "Attaching package: ‘S4Vectors’\n",
      "\n",
      "\n",
      "The following object is masked from ‘package:tidyr’:\n",
      "\n",
      "    expand\n",
      "\n",
      "\n",
      "The following objects are masked from ‘package:dplyr’:\n",
      "\n",
      "    first, rename\n",
      "\n",
      "\n",
      "The following objects are masked from ‘package:data.table’:\n",
      "\n",
      "    first, second\n",
      "\n",
      "\n",
      "The following objects are masked from ‘package:base’:\n",
      "\n",
      "    I, expand.grid, unname\n",
      "\n",
      "\n",
      "\n",
      "Attaching package: ‘IRanges’\n",
      "\n",
      "\n",
      "The following objects are masked from ‘package:dplyr’:\n",
      "\n",
      "    collapse, desc, slice\n",
      "\n",
      "\n",
      "The following object is masked from ‘package:data.table’:\n",
      "\n",
      "    shift\n",
      "\n",
      "\n",
      "\n",
      "Attaching package: ‘AnnotationDbi’\n",
      "\n",
      "\n",
      "The following object is masked from ‘package:dplyr’:\n",
      "\n",
      "    select\n",
      "\n",
      "\n",
      "\n",
      "\n",
      "Loading required package: GenomicRanges\n",
      "\n",
      "Loading required package: GenomeInfoDb\n",
      "\n",
      "Loading required package: SummarizedExperiment\n",
      "\n",
      "Loading required package: MatrixGenerics\n",
      "\n",
      "Loading required package: matrixStats\n",
      "\n",
      "\n",
      "Attaching package: ‘matrixStats’\n",
      "\n",
      "\n",
      "The following object is masked from ‘package:dplyr’:\n",
      "\n",
      "    count\n",
      "\n",
      "\n",
      "The following objects are masked from ‘package:Biobase’:\n",
      "\n",
      "    anyMissing, rowMedians\n",
      "\n",
      "\n",
      "\n",
      "Attaching package: ‘MatrixGenerics’\n",
      "\n",
      "\n",
      "The following objects are masked from ‘package:matrixStats’:\n",
      "\n",
      "    colAlls, colAnyNAs, colAnys, colAvgsPerRowSet, colCollapse,\n",
      "    colCounts, colCummaxs, colCummins, colCumprods, colCumsums,\n",
      "    colDiffs, colIQRDiffs, colIQRs, colLogSumExps, colMadDiffs,\n",
      "    colMads, colMaxs, colMeans2, colMedians, colMins, colOrderStats,\n",
      "    colProds, colQuantiles, colRanges, colRanks, colSdDiffs, colSds,\n",
      "    colSums2, colTabulates, colVarDiffs, colVars, colWeightedMads,\n",
      "    colWeightedMeans, colWeightedMedians, colWeightedSds,\n",
      "    colWeightedVars, rowAlls, rowAnyNAs, rowAnys, rowAvgsPerColSet,\n",
      "    rowCollapse, rowCounts, rowCummaxs, rowCummins, rowCumprods,\n",
      "    rowCumsums, rowDiffs, rowIQRDiffs, rowIQRs, rowLogSumExps,\n",
      "    rowMadDiffs, rowMads, rowMaxs, rowMeans2, rowMedians, rowMins,\n",
      "    rowOrderStats, rowProds, rowQuantiles, rowRanges, rowRanks,\n",
      "    rowSdDiffs, rowSds, rowSums2, rowTabulates, rowVarDiffs, rowVars,\n",
      "    rowWeightedMads, rowWeightedMeans, rowWeightedMedians,\n",
      "    rowWeightedSds, rowWeightedVars\n",
      "\n",
      "\n",
      "The following object is masked from ‘package:Biobase’:\n",
      "\n",
      "    rowMedians\n",
      "\n",
      "\n",
      "── \u001b[1mAttaching core tidyverse packages\u001b[22m ──────────────────────── tidyverse 2.0.0 ──\n",
      "\u001b[32m✔\u001b[39m \u001b[34mforcats  \u001b[39m 1.0.0     \u001b[32m✔\u001b[39m \u001b[34mpurrr    \u001b[39m 1.0.4\n",
      "\u001b[32m✔\u001b[39m \u001b[34mggplot2  \u001b[39m 3.5.2     \u001b[32m✔\u001b[39m \u001b[34mreadr    \u001b[39m 2.1.4\n",
      "\u001b[32m✔\u001b[39m \u001b[34mlubridate\u001b[39m 1.9.3     \u001b[32m✔\u001b[39m \u001b[34mstringr  \u001b[39m 1.5.0\n",
      "── \u001b[1mConflicts\u001b[22m ────────────────────────────────────────── tidyverse_conflicts() ──\n",
      "\u001b[31m✖\u001b[39m \u001b[34mlubridate\u001b[39m::\u001b[32m%within%()\u001b[39m   masks \u001b[34mIRanges\u001b[39m::%within%()\n",
      "\u001b[31m✖\u001b[39m \u001b[34mggplot2\u001b[39m::\u001b[32mPosition()\u001b[39m     masks \u001b[34mBiocGenerics\u001b[39m::Position(), \u001b[34mbase\u001b[39m::Position()\n",
      "\u001b[31m✖\u001b[39m \u001b[34mdplyr\u001b[39m::\u001b[32mbetween()\u001b[39m        masks \u001b[34mdata.table\u001b[39m::between()\n",
      "\u001b[31m✖\u001b[39m \u001b[34mIRanges\u001b[39m::\u001b[32mcollapse()\u001b[39m     masks \u001b[34mdplyr\u001b[39m::collapse()\n",
      "\u001b[31m✖\u001b[39m \u001b[34mdplyr\u001b[39m::\u001b[32mcombine()\u001b[39m        masks \u001b[34mBiobase\u001b[39m::combine(), \u001b[34mBiocGenerics\u001b[39m::combine()\n",
      "\u001b[31m✖\u001b[39m \u001b[34mmatrixStats\u001b[39m::\u001b[32mcount()\u001b[39m    masks \u001b[34mdplyr\u001b[39m::count()\n",
      "\u001b[31m✖\u001b[39m \u001b[34mIRanges\u001b[39m::\u001b[32mdesc()\u001b[39m         masks \u001b[34mdplyr\u001b[39m::desc()\n",
      "\u001b[31m✖\u001b[39m \u001b[34mS4Vectors\u001b[39m::\u001b[32mexpand()\u001b[39m     masks \u001b[34mtidyr\u001b[39m::expand()\n",
      "\u001b[31m✖\u001b[39m \u001b[34mdplyr\u001b[39m::\u001b[32mfilter()\u001b[39m         masks \u001b[34mstats\u001b[39m::filter()\n",
      "\u001b[31m✖\u001b[39m \u001b[34mS4Vectors\u001b[39m::\u001b[32mfirst()\u001b[39m      masks \u001b[34mdplyr\u001b[39m::first(), \u001b[34mdata.table\u001b[39m::first()\n",
      "\u001b[31m✖\u001b[39m \u001b[34mlubridate\u001b[39m::\u001b[32mhour()\u001b[39m       masks \u001b[34mdata.table\u001b[39m::hour()\n",
      "\u001b[31m✖\u001b[39m \u001b[34mlubridate\u001b[39m::\u001b[32misoweek()\u001b[39m    masks \u001b[34mdata.table\u001b[39m::isoweek()\n",
      "\u001b[31m✖\u001b[39m \u001b[34mdplyr\u001b[39m::\u001b[32mlag()\u001b[39m            masks \u001b[34mstats\u001b[39m::lag()\n",
      "\u001b[31m✖\u001b[39m \u001b[34mdplyr\u001b[39m::\u001b[32mlast()\u001b[39m           masks \u001b[34mdata.table\u001b[39m::last()\n",
      "\u001b[31m✖\u001b[39m \u001b[34mlubridate\u001b[39m::\u001b[32mmday()\u001b[39m       masks \u001b[34mdata.table\u001b[39m::mday()\n",
      "\u001b[31m✖\u001b[39m \u001b[34mlubridate\u001b[39m::\u001b[32mminute()\u001b[39m     masks \u001b[34mdata.table\u001b[39m::minute()\n",
      "\u001b[31m✖\u001b[39m \u001b[34mlubridate\u001b[39m::\u001b[32mmonth()\u001b[39m      masks \u001b[34mdata.table\u001b[39m::month()\n",
      "\u001b[31m✖\u001b[39m \u001b[34mlubridate\u001b[39m::\u001b[32mquarter()\u001b[39m    masks \u001b[34mdata.table\u001b[39m::quarter()\n",
      "\u001b[31m✖\u001b[39m \u001b[34mpurrr\u001b[39m::\u001b[32mreduce()\u001b[39m         masks \u001b[34mGenomicRanges\u001b[39m::reduce(), \u001b[34mIRanges\u001b[39m::reduce()\n",
      "\u001b[31m✖\u001b[39m \u001b[34mS4Vectors\u001b[39m::\u001b[32mrename()\u001b[39m     masks \u001b[34mdplyr\u001b[39m::rename()\n",
      "\u001b[31m✖\u001b[39m \u001b[34mlubridate\u001b[39m::\u001b[32msecond()\u001b[39m     masks \u001b[34mS4Vectors\u001b[39m::second(), \u001b[34mdata.table\u001b[39m::second()\n",
      "\u001b[31m✖\u001b[39m \u001b[34mlubridate\u001b[39m::\u001b[32msecond<-()\u001b[39m   masks \u001b[34mS4Vectors\u001b[39m::second<-()\n",
      "\u001b[31m✖\u001b[39m \u001b[34mAnnotationDbi\u001b[39m::\u001b[32mselect()\u001b[39m masks \u001b[34mdplyr\u001b[39m::select()\n",
      "\u001b[31m✖\u001b[39m \u001b[34mIRanges\u001b[39m::\u001b[32mslice()\u001b[39m        masks \u001b[34mdplyr\u001b[39m::slice()\n",
      "\u001b[31m✖\u001b[39m \u001b[34mpurrr\u001b[39m::\u001b[32mtranspose()\u001b[39m      masks \u001b[34mdata.table\u001b[39m::transpose()\n",
      "\u001b[31m✖\u001b[39m \u001b[34mlubridate\u001b[39m::\u001b[32mwday()\u001b[39m       masks \u001b[34mdata.table\u001b[39m::wday()\n",
      "\u001b[31m✖\u001b[39m \u001b[34mlubridate\u001b[39m::\u001b[32mweek()\u001b[39m       masks \u001b[34mdata.table\u001b[39m::week()\n",
      "\u001b[31m✖\u001b[39m \u001b[34mlubridate\u001b[39m::\u001b[32myday()\u001b[39m       masks \u001b[34mdata.table\u001b[39m::yday()\n",
      "\u001b[31m✖\u001b[39m \u001b[34mlubridate\u001b[39m::\u001b[32myear()\u001b[39m       masks \u001b[34mdata.table\u001b[39m::year()\n",
      "\u001b[36mℹ\u001b[39m Use the conflicted package (\u001b[3m\u001b[34m<http://conflicted.r-lib.org/>\u001b[39m\u001b[23m) to force all conflicts to become errors\n",
      "Loading required package: ggrepel\n",
      "\n"
     ]
    }
   ],
   "source": [
    "# allows you to interact with the NCBI GEO (Gene Expression Omnibus) database from within R\n",
    "library(GEOquery)\n",
    "# Load required libraries\n",
    "library(data.table)\n",
    "\n",
    "# tibble provides an enhanced version of data frames called tibbles.\n",
    "# designed to make data analysis in R easier and more consistent.\n",
    "library(tibble)\n",
    "\n",
    "# data manipulation e.g. filtering, selecting, and summarizing data\n",
    "library(dplyr)\n",
    "# data reshaping e.g. joining, pivoting, and unpivoting data\n",
    "library(tidyr)\n",
    "\n",
    "# To add gene names\n",
    "library(org.Hs.eg.db)\n",
    "\n",
    "# To perform differential expression analysis\n",
    "library(DESeq2)\n",
    "# tidyverse is a collection of R packages designed for data science\n",
    "library(tidyverse)\n",
    "\n",
    "library(EnhancedVolcano)\n",
    "\n"
   ]
  },
  {
   "cell_type": "code",
   "execution_count": 5,
   "metadata": {
    "vscode": {
     "languageId": "r"
    }
   },
   "outputs": [
    {
     "name": "stderr",
     "output_type": "stream",
     "text": [
      "Found 1 file(s)\n",
      "\n",
      "GSE239844_series_matrix.txt.gz\n",
      "\n",
      "Found 1 file(s)\n",
      "\n",
      "GSE214715_series_matrix.txt.gz\n",
      "\n"
     ]
    }
   ],
   "source": [
    "# GSE239844 is the GEO Series accession number peter et.al 2023\n",
    "# GSE214715 chen et.al 2024\n",
    "# gse is a list with only 1 element\n",
    "gse239844 <- getGEO(\"GSE239844\", GSEMatrix = TRUE)\n",
    "gse214715 <- getGEO(\"GSE214715\", GSEMatrix = TRUE)"
   ]
  },
  {
   "cell_type": "code",
   "execution_count": 6,
   "metadata": {
    "vscode": {
     "languageId": "r"
    }
   },
   "outputs": [],
   "source": [
    "# The information is in this index\n",
    "gse239844 <- gse239844[[1]]\n",
    "gse214715 <- gse214715[[1]]"
   ]
  },
  {
   "cell_type": "code",
   "execution_count": 7,
   "metadata": {
    "vscode": {
     "languageId": "r"
    }
   },
   "outputs": [],
   "source": [
    "gse239844 <- pData(gse239844)  # to get sample metadata\n",
    "gse214715 <- pData(gse214715)"
   ]
  },
  {
   "cell_type": "code",
   "execution_count": null,
   "metadata": {
    "vscode": {
     "languageId": "r"
    }
   },
   "outputs": [],
   "source": [
    "# write.csv(gse239844, file = \"gse239844_metadata.csv\")\n",
    "# write.csv(gse214715, file = \"gse214715_metadata.csv\")"
   ]
  },
  {
   "cell_type": "code",
   "execution_count": 9,
   "metadata": {
    "vscode": {
     "languageId": "r"
    }
   },
   "outputs": [
    {
     "data": {
      "text/html": [
       "<style>\n",
       ".list-inline {list-style: none; margin:0; padding: 0}\n",
       ".list-inline>li {display: inline-block}\n",
       ".list-inline>li:not(:last-child)::after {content: \"\\00b7\"; padding: 0 .5ex}\n",
       "</style>\n",
       "<ol class=list-inline><li>42</li><li>48</li></ol>\n"
      ],
      "text/latex": [
       "\\begin{enumerate*}\n",
       "\\item 42\n",
       "\\item 48\n",
       "\\end{enumerate*}\n"
      ],
      "text/markdown": [
       "1. 42\n",
       "2. 48\n",
       "\n",
       "\n"
      ],
      "text/plain": [
       "[1] 42 48"
      ]
     },
     "metadata": {},
     "output_type": "display_data"
    },
    {
     "data": {
      "text/html": [
       "<style>\n",
       ".list-inline {list-style: none; margin:0; padding: 0}\n",
       ".list-inline>li {display: inline-block}\n",
       ".list-inline>li:not(:last-child)::after {content: \"\\00b7\"; padding: 0 .5ex}\n",
       "</style>\n",
       "<ol class=list-inline><li>20</li><li>46</li></ol>\n"
      ],
      "text/latex": [
       "\\begin{enumerate*}\n",
       "\\item 20\n",
       "\\item 46\n",
       "\\end{enumerate*}\n"
      ],
      "text/markdown": [
       "1. 20\n",
       "2. 46\n",
       "\n",
       "\n"
      ],
      "text/plain": [
       "[1] 20 46"
      ]
     },
     "metadata": {},
     "output_type": "display_data"
    }
   ],
   "source": [
    "dim(gse239844)\n",
    "dim(gse214715)"
   ]
  },
  {
   "cell_type": "code",
   "execution_count": 10,
   "metadata": {
    "vscode": {
     "languageId": "r"
    }
   },
   "outputs": [
    {
     "data": {
      "text/html": [
       "<table class=\"dataframe\">\n",
       "<caption>A data.frame: 6 × 48</caption>\n",
       "<thead>\n",
       "\t<tr><th></th><th scope=col>title</th><th scope=col>geo_accession</th><th scope=col>status</th><th scope=col>submission_date</th><th scope=col>last_update_date</th><th scope=col>type</th><th scope=col>channel_count</th><th scope=col>source_name_ch1</th><th scope=col>organism_ch1</th><th scope=col>characteristics_ch1</th><th scope=col>⋯</th><th scope=col>library_selection</th><th scope=col>library_source</th><th scope=col>library_strategy</th><th scope=col>relation</th><th scope=col>relation.1</th><th scope=col>supplementary_file_1</th><th scope=col>cell line:ch1</th><th scope=col>cell type:ch1</th><th scope=col>genotype:ch1</th><th scope=col>treatment:ch1</th></tr>\n",
       "\t<tr><th></th><th scope=col>&lt;chr&gt;</th><th scope=col>&lt;chr&gt;</th><th scope=col>&lt;chr&gt;</th><th scope=col>&lt;chr&gt;</th><th scope=col>&lt;chr&gt;</th><th scope=col>&lt;chr&gt;</th><th scope=col>&lt;chr&gt;</th><th scope=col>&lt;chr&gt;</th><th scope=col>&lt;chr&gt;</th><th scope=col>&lt;chr&gt;</th><th scope=col>⋯</th><th scope=col>&lt;chr&gt;</th><th scope=col>&lt;chr&gt;</th><th scope=col>&lt;chr&gt;</th><th scope=col>&lt;chr&gt;</th><th scope=col>&lt;chr&gt;</th><th scope=col>&lt;chr&gt;</th><th scope=col>&lt;chr&gt;</th><th scope=col>&lt;chr&gt;</th><th scope=col>&lt;chr&gt;</th><th scope=col>&lt;chr&gt;</th></tr>\n",
       "</thead>\n",
       "<tbody>\n",
       "\t<tr><th scope=row>GSM7675355</th><td>CUTO23_Ctl1 </td><td>GSM7675355</td><td>Public on Aug 07 2023</td><td>Aug 01 2023</td><td>Aug 07 2023</td><td>SRA</td><td>1</td><td>CUTO23</td><td>Homo sapiens</td><td>cell line: CUTO23</td><td>⋯</td><td>cDNA</td><td>transcriptomic</td><td>RNA-Seq</td><td>BioSample: https://www.ncbi.nlm.nih.gov/biosample/SAMN36794715</td><td>SRA: https://www.ncbi.nlm.nih.gov/sra?term=SRX21218278</td><td>NONE</td><td>CUTO23</td><td>Lung adenocarcinoma</td><td>CD74-ROS1</td><td>DMSO             </td></tr>\n",
       "\t<tr><th scope=row>GSM7675356</th><td>CUTO23_Ctl2 </td><td>GSM7675356</td><td>Public on Aug 07 2023</td><td>Aug 01 2023</td><td>Aug 07 2023</td><td>SRA</td><td>1</td><td>CUTO23</td><td>Homo sapiens</td><td>cell line: CUTO23</td><td>⋯</td><td>cDNA</td><td>transcriptomic</td><td>RNA-Seq</td><td>BioSample: https://www.ncbi.nlm.nih.gov/biosample/SAMN36794714</td><td>SRA: https://www.ncbi.nlm.nih.gov/sra?term=SRX21218279</td><td>NONE</td><td>CUTO23</td><td>Lung adenocarcinoma</td><td>CD74-ROS1</td><td>DMSO             </td></tr>\n",
       "\t<tr><th scope=row>GSM7675357</th><td>CUTO23_Ctl3 </td><td>GSM7675357</td><td>Public on Aug 07 2023</td><td>Aug 01 2023</td><td>Aug 07 2023</td><td>SRA</td><td>1</td><td>CUTO23</td><td>Homo sapiens</td><td>cell line: CUTO23</td><td>⋯</td><td>cDNA</td><td>transcriptomic</td><td>RNA-Seq</td><td>BioSample: https://www.ncbi.nlm.nih.gov/biosample/SAMN36794713</td><td>SRA: https://www.ncbi.nlm.nih.gov/sra?term=SRX21218280</td><td>NONE</td><td>CUTO23</td><td>Lung adenocarcinoma</td><td>CD74-ROS1</td><td>DMSO             </td></tr>\n",
       "\t<tr><th scope=row>GSM7675358</th><td>CUTO23_Criz1</td><td>GSM7675358</td><td>Public on Aug 07 2023</td><td>Aug 01 2023</td><td>Aug 07 2023</td><td>SRA</td><td>1</td><td>CUTO23</td><td>Homo sapiens</td><td>cell line: CUTO23</td><td>⋯</td><td>cDNA</td><td>transcriptomic</td><td>RNA-Seq</td><td>BioSample: https://www.ncbi.nlm.nih.gov/biosample/SAMN36794712</td><td>SRA: https://www.ncbi.nlm.nih.gov/sra?term=SRX21218281</td><td>NONE</td><td>CUTO23</td><td>Lung adenocarcinoma</td><td>CD74-ROS1</td><td>250 nM crizotinib</td></tr>\n",
       "\t<tr><th scope=row>GSM7675359</th><td>CUTO23_Criz2</td><td>GSM7675359</td><td>Public on Aug 07 2023</td><td>Aug 01 2023</td><td>Aug 07 2023</td><td>SRA</td><td>1</td><td>CUTO23</td><td>Homo sapiens</td><td>cell line: CUTO23</td><td>⋯</td><td>cDNA</td><td>transcriptomic</td><td>RNA-Seq</td><td>BioSample: https://www.ncbi.nlm.nih.gov/biosample/SAMN36794711</td><td>SRA: https://www.ncbi.nlm.nih.gov/sra?term=SRX21218282</td><td>NONE</td><td>CUTO23</td><td>Lung adenocarcinoma</td><td>CD74-ROS1</td><td>250 nM crizotinib</td></tr>\n",
       "\t<tr><th scope=row>GSM7675360</th><td>CUTO23_Criz3</td><td>GSM7675360</td><td>Public on Aug 07 2023</td><td>Aug 01 2023</td><td>Aug 07 2023</td><td>SRA</td><td>1</td><td>CUTO23</td><td>Homo sapiens</td><td>cell line: CUTO23</td><td>⋯</td><td>cDNA</td><td>transcriptomic</td><td>RNA-Seq</td><td>BioSample: https://www.ncbi.nlm.nih.gov/biosample/SAMN36794710</td><td>SRA: https://www.ncbi.nlm.nih.gov/sra?term=SRX21218283</td><td>NONE</td><td>CUTO23</td><td>Lung adenocarcinoma</td><td>CD74-ROS1</td><td>250 nM crizotinib</td></tr>\n",
       "</tbody>\n",
       "</table>\n"
      ],
      "text/latex": [
       "A data.frame: 6 × 48\n",
       "\\begin{tabular}{r|lllllllllllllllllllll}\n",
       "  & title & geo\\_accession & status & submission\\_date & last\\_update\\_date & type & channel\\_count & source\\_name\\_ch1 & organism\\_ch1 & characteristics\\_ch1 & ⋯ & library\\_selection & library\\_source & library\\_strategy & relation & relation.1 & supplementary\\_file\\_1 & cell line:ch1 & cell type:ch1 & genotype:ch1 & treatment:ch1\\\\\n",
       "  & <chr> & <chr> & <chr> & <chr> & <chr> & <chr> & <chr> & <chr> & <chr> & <chr> & ⋯ & <chr> & <chr> & <chr> & <chr> & <chr> & <chr> & <chr> & <chr> & <chr> & <chr>\\\\\n",
       "\\hline\n",
       "\tGSM7675355 & CUTO23\\_Ctl1  & GSM7675355 & Public on Aug 07 2023 & Aug 01 2023 & Aug 07 2023 & SRA & 1 & CUTO23 & Homo sapiens & cell line: CUTO23 & ⋯ & cDNA & transcriptomic & RNA-Seq & BioSample: https://www.ncbi.nlm.nih.gov/biosample/SAMN36794715 & SRA: https://www.ncbi.nlm.nih.gov/sra?term=SRX21218278 & NONE & CUTO23 & Lung adenocarcinoma & CD74-ROS1 & DMSO             \\\\\n",
       "\tGSM7675356 & CUTO23\\_Ctl2  & GSM7675356 & Public on Aug 07 2023 & Aug 01 2023 & Aug 07 2023 & SRA & 1 & CUTO23 & Homo sapiens & cell line: CUTO23 & ⋯ & cDNA & transcriptomic & RNA-Seq & BioSample: https://www.ncbi.nlm.nih.gov/biosample/SAMN36794714 & SRA: https://www.ncbi.nlm.nih.gov/sra?term=SRX21218279 & NONE & CUTO23 & Lung adenocarcinoma & CD74-ROS1 & DMSO             \\\\\n",
       "\tGSM7675357 & CUTO23\\_Ctl3  & GSM7675357 & Public on Aug 07 2023 & Aug 01 2023 & Aug 07 2023 & SRA & 1 & CUTO23 & Homo sapiens & cell line: CUTO23 & ⋯ & cDNA & transcriptomic & RNA-Seq & BioSample: https://www.ncbi.nlm.nih.gov/biosample/SAMN36794713 & SRA: https://www.ncbi.nlm.nih.gov/sra?term=SRX21218280 & NONE & CUTO23 & Lung adenocarcinoma & CD74-ROS1 & DMSO             \\\\\n",
       "\tGSM7675358 & CUTO23\\_Criz1 & GSM7675358 & Public on Aug 07 2023 & Aug 01 2023 & Aug 07 2023 & SRA & 1 & CUTO23 & Homo sapiens & cell line: CUTO23 & ⋯ & cDNA & transcriptomic & RNA-Seq & BioSample: https://www.ncbi.nlm.nih.gov/biosample/SAMN36794712 & SRA: https://www.ncbi.nlm.nih.gov/sra?term=SRX21218281 & NONE & CUTO23 & Lung adenocarcinoma & CD74-ROS1 & 250 nM crizotinib\\\\\n",
       "\tGSM7675359 & CUTO23\\_Criz2 & GSM7675359 & Public on Aug 07 2023 & Aug 01 2023 & Aug 07 2023 & SRA & 1 & CUTO23 & Homo sapiens & cell line: CUTO23 & ⋯ & cDNA & transcriptomic & RNA-Seq & BioSample: https://www.ncbi.nlm.nih.gov/biosample/SAMN36794711 & SRA: https://www.ncbi.nlm.nih.gov/sra?term=SRX21218282 & NONE & CUTO23 & Lung adenocarcinoma & CD74-ROS1 & 250 nM crizotinib\\\\\n",
       "\tGSM7675360 & CUTO23\\_Criz3 & GSM7675360 & Public on Aug 07 2023 & Aug 01 2023 & Aug 07 2023 & SRA & 1 & CUTO23 & Homo sapiens & cell line: CUTO23 & ⋯ & cDNA & transcriptomic & RNA-Seq & BioSample: https://www.ncbi.nlm.nih.gov/biosample/SAMN36794710 & SRA: https://www.ncbi.nlm.nih.gov/sra?term=SRX21218283 & NONE & CUTO23 & Lung adenocarcinoma & CD74-ROS1 & 250 nM crizotinib\\\\\n",
       "\\end{tabular}\n"
      ],
      "text/markdown": [
       "\n",
       "A data.frame: 6 × 48\n",
       "\n",
       "| <!--/--> | title &lt;chr&gt; | geo_accession &lt;chr&gt; | status &lt;chr&gt; | submission_date &lt;chr&gt; | last_update_date &lt;chr&gt; | type &lt;chr&gt; | channel_count &lt;chr&gt; | source_name_ch1 &lt;chr&gt; | organism_ch1 &lt;chr&gt; | characteristics_ch1 &lt;chr&gt; | ⋯ ⋯ | library_selection &lt;chr&gt; | library_source &lt;chr&gt; | library_strategy &lt;chr&gt; | relation &lt;chr&gt; | relation.1 &lt;chr&gt; | supplementary_file_1 &lt;chr&gt; | cell line:ch1 &lt;chr&gt; | cell type:ch1 &lt;chr&gt; | genotype:ch1 &lt;chr&gt; | treatment:ch1 &lt;chr&gt; |\n",
       "|---|---|---|---|---|---|---|---|---|---|---|---|---|---|---|---|---|---|---|---|---|---|\n",
       "| GSM7675355 | CUTO23_Ctl1  | GSM7675355 | Public on Aug 07 2023 | Aug 01 2023 | Aug 07 2023 | SRA | 1 | CUTO23 | Homo sapiens | cell line: CUTO23 | ⋯ | cDNA | transcriptomic | RNA-Seq | BioSample: https://www.ncbi.nlm.nih.gov/biosample/SAMN36794715 | SRA: https://www.ncbi.nlm.nih.gov/sra?term=SRX21218278 | NONE | CUTO23 | Lung adenocarcinoma | CD74-ROS1 | DMSO              |\n",
       "| GSM7675356 | CUTO23_Ctl2  | GSM7675356 | Public on Aug 07 2023 | Aug 01 2023 | Aug 07 2023 | SRA | 1 | CUTO23 | Homo sapiens | cell line: CUTO23 | ⋯ | cDNA | transcriptomic | RNA-Seq | BioSample: https://www.ncbi.nlm.nih.gov/biosample/SAMN36794714 | SRA: https://www.ncbi.nlm.nih.gov/sra?term=SRX21218279 | NONE | CUTO23 | Lung adenocarcinoma | CD74-ROS1 | DMSO              |\n",
       "| GSM7675357 | CUTO23_Ctl3  | GSM7675357 | Public on Aug 07 2023 | Aug 01 2023 | Aug 07 2023 | SRA | 1 | CUTO23 | Homo sapiens | cell line: CUTO23 | ⋯ | cDNA | transcriptomic | RNA-Seq | BioSample: https://www.ncbi.nlm.nih.gov/biosample/SAMN36794713 | SRA: https://www.ncbi.nlm.nih.gov/sra?term=SRX21218280 | NONE | CUTO23 | Lung adenocarcinoma | CD74-ROS1 | DMSO              |\n",
       "| GSM7675358 | CUTO23_Criz1 | GSM7675358 | Public on Aug 07 2023 | Aug 01 2023 | Aug 07 2023 | SRA | 1 | CUTO23 | Homo sapiens | cell line: CUTO23 | ⋯ | cDNA | transcriptomic | RNA-Seq | BioSample: https://www.ncbi.nlm.nih.gov/biosample/SAMN36794712 | SRA: https://www.ncbi.nlm.nih.gov/sra?term=SRX21218281 | NONE | CUTO23 | Lung adenocarcinoma | CD74-ROS1 | 250 nM crizotinib |\n",
       "| GSM7675359 | CUTO23_Criz2 | GSM7675359 | Public on Aug 07 2023 | Aug 01 2023 | Aug 07 2023 | SRA | 1 | CUTO23 | Homo sapiens | cell line: CUTO23 | ⋯ | cDNA | transcriptomic | RNA-Seq | BioSample: https://www.ncbi.nlm.nih.gov/biosample/SAMN36794711 | SRA: https://www.ncbi.nlm.nih.gov/sra?term=SRX21218282 | NONE | CUTO23 | Lung adenocarcinoma | CD74-ROS1 | 250 nM crizotinib |\n",
       "| GSM7675360 | CUTO23_Criz3 | GSM7675360 | Public on Aug 07 2023 | Aug 01 2023 | Aug 07 2023 | SRA | 1 | CUTO23 | Homo sapiens | cell line: CUTO23 | ⋯ | cDNA | transcriptomic | RNA-Seq | BioSample: https://www.ncbi.nlm.nih.gov/biosample/SAMN36794710 | SRA: https://www.ncbi.nlm.nih.gov/sra?term=SRX21218283 | NONE | CUTO23 | Lung adenocarcinoma | CD74-ROS1 | 250 nM crizotinib |\n",
       "\n"
      ],
      "text/plain": [
       "           title        geo_accession status                submission_date\n",
       "GSM7675355 CUTO23_Ctl1  GSM7675355    Public on Aug 07 2023 Aug 01 2023    \n",
       "GSM7675356 CUTO23_Ctl2  GSM7675356    Public on Aug 07 2023 Aug 01 2023    \n",
       "GSM7675357 CUTO23_Ctl3  GSM7675357    Public on Aug 07 2023 Aug 01 2023    \n",
       "GSM7675358 CUTO23_Criz1 GSM7675358    Public on Aug 07 2023 Aug 01 2023    \n",
       "GSM7675359 CUTO23_Criz2 GSM7675359    Public on Aug 07 2023 Aug 01 2023    \n",
       "GSM7675360 CUTO23_Criz3 GSM7675360    Public on Aug 07 2023 Aug 01 2023    \n",
       "           last_update_date type channel_count source_name_ch1 organism_ch1\n",
       "GSM7675355 Aug 07 2023      SRA  1             CUTO23          Homo sapiens\n",
       "GSM7675356 Aug 07 2023      SRA  1             CUTO23          Homo sapiens\n",
       "GSM7675357 Aug 07 2023      SRA  1             CUTO23          Homo sapiens\n",
       "GSM7675358 Aug 07 2023      SRA  1             CUTO23          Homo sapiens\n",
       "GSM7675359 Aug 07 2023      SRA  1             CUTO23          Homo sapiens\n",
       "GSM7675360 Aug 07 2023      SRA  1             CUTO23          Homo sapiens\n",
       "           characteristics_ch1 ⋯ library_selection library_source\n",
       "GSM7675355 cell line: CUTO23   ⋯ cDNA              transcriptomic\n",
       "GSM7675356 cell line: CUTO23   ⋯ cDNA              transcriptomic\n",
       "GSM7675357 cell line: CUTO23   ⋯ cDNA              transcriptomic\n",
       "GSM7675358 cell line: CUTO23   ⋯ cDNA              transcriptomic\n",
       "GSM7675359 cell line: CUTO23   ⋯ cDNA              transcriptomic\n",
       "GSM7675360 cell line: CUTO23   ⋯ cDNA              transcriptomic\n",
       "           library_strategy\n",
       "GSM7675355 RNA-Seq         \n",
       "GSM7675356 RNA-Seq         \n",
       "GSM7675357 RNA-Seq         \n",
       "GSM7675358 RNA-Seq         \n",
       "GSM7675359 RNA-Seq         \n",
       "GSM7675360 RNA-Seq         \n",
       "           relation                                                      \n",
       "GSM7675355 BioSample: https://www.ncbi.nlm.nih.gov/biosample/SAMN36794715\n",
       "GSM7675356 BioSample: https://www.ncbi.nlm.nih.gov/biosample/SAMN36794714\n",
       "GSM7675357 BioSample: https://www.ncbi.nlm.nih.gov/biosample/SAMN36794713\n",
       "GSM7675358 BioSample: https://www.ncbi.nlm.nih.gov/biosample/SAMN36794712\n",
       "GSM7675359 BioSample: https://www.ncbi.nlm.nih.gov/biosample/SAMN36794711\n",
       "GSM7675360 BioSample: https://www.ncbi.nlm.nih.gov/biosample/SAMN36794710\n",
       "           relation.1                                            \n",
       "GSM7675355 SRA: https://www.ncbi.nlm.nih.gov/sra?term=SRX21218278\n",
       "GSM7675356 SRA: https://www.ncbi.nlm.nih.gov/sra?term=SRX21218279\n",
       "GSM7675357 SRA: https://www.ncbi.nlm.nih.gov/sra?term=SRX21218280\n",
       "GSM7675358 SRA: https://www.ncbi.nlm.nih.gov/sra?term=SRX21218281\n",
       "GSM7675359 SRA: https://www.ncbi.nlm.nih.gov/sra?term=SRX21218282\n",
       "GSM7675360 SRA: https://www.ncbi.nlm.nih.gov/sra?term=SRX21218283\n",
       "           supplementary_file_1 cell line:ch1 cell type:ch1       genotype:ch1\n",
       "GSM7675355 NONE                 CUTO23        Lung adenocarcinoma CD74-ROS1   \n",
       "GSM7675356 NONE                 CUTO23        Lung adenocarcinoma CD74-ROS1   \n",
       "GSM7675357 NONE                 CUTO23        Lung adenocarcinoma CD74-ROS1   \n",
       "GSM7675358 NONE                 CUTO23        Lung adenocarcinoma CD74-ROS1   \n",
       "GSM7675359 NONE                 CUTO23        Lung adenocarcinoma CD74-ROS1   \n",
       "GSM7675360 NONE                 CUTO23        Lung adenocarcinoma CD74-ROS1   \n",
       "           treatment:ch1    \n",
       "GSM7675355 DMSO             \n",
       "GSM7675356 DMSO             \n",
       "GSM7675357 DMSO             \n",
       "GSM7675358 250 nM crizotinib\n",
       "GSM7675359 250 nM crizotinib\n",
       "GSM7675360 250 nM crizotinib"
      ]
     },
     "metadata": {},
     "output_type": "display_data"
    }
   ],
   "source": [
    "head(gse239844)"
   ]
  },
  {
   "cell_type": "code",
   "execution_count": 11,
   "metadata": {
    "vscode": {
     "languageId": "r"
    }
   },
   "outputs": [
    {
     "data": {
      "text/html": [
       "<table class=\"dataframe\">\n",
       "<caption>A data.frame: 6 × 46</caption>\n",
       "<thead>\n",
       "\t<tr><th></th><th scope=col>title</th><th scope=col>geo_accession</th><th scope=col>status</th><th scope=col>submission_date</th><th scope=col>last_update_date</th><th scope=col>type</th><th scope=col>channel_count</th><th scope=col>source_name_ch1</th><th scope=col>organism_ch1</th><th scope=col>characteristics_ch1</th><th scope=col>⋯</th><th scope=col>library_source</th><th scope=col>library_strategy</th><th scope=col>relation</th><th scope=col>relation.1</th><th scope=col>supplementary_file_1</th><th scope=col>cell line:ch1</th><th scope=col>cell type:ch1</th><th scope=col>genotype:ch1</th><th scope=col>tissue:ch1</th><th scope=col>treatment:ch1</th></tr>\n",
       "\t<tr><th></th><th scope=col>&lt;chr&gt;</th><th scope=col>&lt;chr&gt;</th><th scope=col>&lt;chr&gt;</th><th scope=col>&lt;chr&gt;</th><th scope=col>&lt;chr&gt;</th><th scope=col>&lt;chr&gt;</th><th scope=col>&lt;chr&gt;</th><th scope=col>&lt;chr&gt;</th><th scope=col>&lt;chr&gt;</th><th scope=col>&lt;chr&gt;</th><th scope=col>⋯</th><th scope=col>&lt;chr&gt;</th><th scope=col>&lt;chr&gt;</th><th scope=col>&lt;chr&gt;</th><th scope=col>&lt;chr&gt;</th><th scope=col>&lt;chr&gt;</th><th scope=col>&lt;chr&gt;</th><th scope=col>&lt;chr&gt;</th><th scope=col>&lt;chr&gt;</th><th scope=col>&lt;chr&gt;</th><th scope=col>&lt;chr&gt;</th></tr>\n",
       "</thead>\n",
       "<tbody>\n",
       "\t<tr><th scope=row>GSM6614824</th><td>CUTO28_SAMPLE1   </td><td>GSM6614824</td><td>Public on Oct 06 2022</td><td>Oct 03 2022</td><td>Oct 06 2022</td><td>SRA</td><td>1</td><td>adenocarcinoma</td><td>Homo sapiens</td><td>tissue: adenocarcinoma</td><td>⋯</td><td>transcriptomic</td><td>RNA-Seq</td><td>BioSample: https://www.ncbi.nlm.nih.gov/biosample/SAMN31140397</td><td>SRA: https://www.ncbi.nlm.nih.gov/sra?term=SRX17783610</td><td>NONE</td><td>CUTO28 (TPM3-ROS1)</td><td>NSCLC</td><td>TPM3-ROS1</td><td>adenocarcinoma</td><td>none            </td></tr>\n",
       "\t<tr><th scope=row>GSM6614825</th><td>CUTO28_SAMPLE2   </td><td>GSM6614825</td><td>Public on Oct 06 2022</td><td>Oct 03 2022</td><td>Oct 06 2022</td><td>SRA</td><td>1</td><td>adenocarcinoma</td><td>Homo sapiens</td><td>tissue: adenocarcinoma</td><td>⋯</td><td>transcriptomic</td><td>RNA-Seq</td><td>BioSample: https://www.ncbi.nlm.nih.gov/biosample/SAMN31140396</td><td>SRA: https://www.ncbi.nlm.nih.gov/sra?term=SRX17783611</td><td>NONE</td><td>CUTO28 (TPM3-ROS1)</td><td>NSCLC</td><td>TPM3-ROS1</td><td>adenocarcinoma</td><td>none            </td></tr>\n",
       "\t<tr><th scope=row>GSM6614826</th><td>CUTO28_SAMPLE3   </td><td>GSM6614826</td><td>Public on Oct 06 2022</td><td>Oct 03 2022</td><td>Oct 06 2022</td><td>SRA</td><td>1</td><td>adenocarcinoma</td><td>Homo sapiens</td><td>tissue: adenocarcinoma</td><td>⋯</td><td>transcriptomic</td><td>RNA-Seq</td><td>BioSample: https://www.ncbi.nlm.nih.gov/biosample/SAMN31140395</td><td>SRA: https://www.ncbi.nlm.nih.gov/sra?term=SRX17783612</td><td>NONE</td><td>CUTO28 (TPM3-ROS1)</td><td>NSCLC</td><td>TPM3-ROS1</td><td>adenocarcinoma</td><td>none            </td></tr>\n",
       "\t<tr><th scope=row>GSM6614827</th><td>CUTO28-CR_SAMPLE1</td><td>GSM6614827</td><td>Public on Oct 06 2022</td><td>Oct 03 2022</td><td>Oct 06 2022</td><td>SRA</td><td>1</td><td>adenocarcinoma</td><td>Homo sapiens</td><td>tissue: adenocarcinoma</td><td>⋯</td><td>transcriptomic</td><td>RNA-Seq</td><td>BioSample: https://www.ncbi.nlm.nih.gov/biosample/SAMN31140394</td><td>SRA: https://www.ncbi.nlm.nih.gov/sra?term=SRX17783613</td><td>NONE</td><td>CUTO28 (TPM3-ROS1)</td><td>NSCLC</td><td>TPM3-ROS1</td><td>adenocarcinoma</td><td>500nM crizotinib</td></tr>\n",
       "\t<tr><th scope=row>GSM6614828</th><td>CUTO28-CR_SAMPLE2</td><td>GSM6614828</td><td>Public on Oct 06 2022</td><td>Oct 03 2022</td><td>Oct 06 2022</td><td>SRA</td><td>1</td><td>adenocarcinoma</td><td>Homo sapiens</td><td>tissue: adenocarcinoma</td><td>⋯</td><td>transcriptomic</td><td>RNA-Seq</td><td>BioSample: https://www.ncbi.nlm.nih.gov/biosample/SAMN31140393</td><td>SRA: https://www.ncbi.nlm.nih.gov/sra?term=SRX17783614</td><td>NONE</td><td>CUTO28 (TPM3-ROS1)</td><td>NSCLC</td><td>TPM3-ROS1</td><td>adenocarcinoma</td><td>500nM crizotinib</td></tr>\n",
       "\t<tr><th scope=row>GSM6614829</th><td>CUTO28-CR_SAMPLE3</td><td>GSM6614829</td><td>Public on Oct 06 2022</td><td>Oct 03 2022</td><td>Oct 06 2022</td><td>SRA</td><td>1</td><td>adenocarcinoma</td><td>Homo sapiens</td><td>tissue: adenocarcinoma</td><td>⋯</td><td>transcriptomic</td><td>RNA-Seq</td><td>BioSample: https://www.ncbi.nlm.nih.gov/biosample/SAMN31140392</td><td>SRA: https://www.ncbi.nlm.nih.gov/sra?term=SRX17783615</td><td>NONE</td><td>CUTO28 (TPM3-ROS1)</td><td>NSCLC</td><td>TPM3-ROS1</td><td>adenocarcinoma</td><td>500nM crizotinib</td></tr>\n",
       "</tbody>\n",
       "</table>\n"
      ],
      "text/latex": [
       "A data.frame: 6 × 46\n",
       "\\begin{tabular}{r|lllllllllllllllllllll}\n",
       "  & title & geo\\_accession & status & submission\\_date & last\\_update\\_date & type & channel\\_count & source\\_name\\_ch1 & organism\\_ch1 & characteristics\\_ch1 & ⋯ & library\\_source & library\\_strategy & relation & relation.1 & supplementary\\_file\\_1 & cell line:ch1 & cell type:ch1 & genotype:ch1 & tissue:ch1 & treatment:ch1\\\\\n",
       "  & <chr> & <chr> & <chr> & <chr> & <chr> & <chr> & <chr> & <chr> & <chr> & <chr> & ⋯ & <chr> & <chr> & <chr> & <chr> & <chr> & <chr> & <chr> & <chr> & <chr> & <chr>\\\\\n",
       "\\hline\n",
       "\tGSM6614824 & CUTO28\\_SAMPLE1    & GSM6614824 & Public on Oct 06 2022 & Oct 03 2022 & Oct 06 2022 & SRA & 1 & adenocarcinoma & Homo sapiens & tissue: adenocarcinoma & ⋯ & transcriptomic & RNA-Seq & BioSample: https://www.ncbi.nlm.nih.gov/biosample/SAMN31140397 & SRA: https://www.ncbi.nlm.nih.gov/sra?term=SRX17783610 & NONE & CUTO28 (TPM3-ROS1) & NSCLC & TPM3-ROS1 & adenocarcinoma & none            \\\\\n",
       "\tGSM6614825 & CUTO28\\_SAMPLE2    & GSM6614825 & Public on Oct 06 2022 & Oct 03 2022 & Oct 06 2022 & SRA & 1 & adenocarcinoma & Homo sapiens & tissue: adenocarcinoma & ⋯ & transcriptomic & RNA-Seq & BioSample: https://www.ncbi.nlm.nih.gov/biosample/SAMN31140396 & SRA: https://www.ncbi.nlm.nih.gov/sra?term=SRX17783611 & NONE & CUTO28 (TPM3-ROS1) & NSCLC & TPM3-ROS1 & adenocarcinoma & none            \\\\\n",
       "\tGSM6614826 & CUTO28\\_SAMPLE3    & GSM6614826 & Public on Oct 06 2022 & Oct 03 2022 & Oct 06 2022 & SRA & 1 & adenocarcinoma & Homo sapiens & tissue: adenocarcinoma & ⋯ & transcriptomic & RNA-Seq & BioSample: https://www.ncbi.nlm.nih.gov/biosample/SAMN31140395 & SRA: https://www.ncbi.nlm.nih.gov/sra?term=SRX17783612 & NONE & CUTO28 (TPM3-ROS1) & NSCLC & TPM3-ROS1 & adenocarcinoma & none            \\\\\n",
       "\tGSM6614827 & CUTO28-CR\\_SAMPLE1 & GSM6614827 & Public on Oct 06 2022 & Oct 03 2022 & Oct 06 2022 & SRA & 1 & adenocarcinoma & Homo sapiens & tissue: adenocarcinoma & ⋯ & transcriptomic & RNA-Seq & BioSample: https://www.ncbi.nlm.nih.gov/biosample/SAMN31140394 & SRA: https://www.ncbi.nlm.nih.gov/sra?term=SRX17783613 & NONE & CUTO28 (TPM3-ROS1) & NSCLC & TPM3-ROS1 & adenocarcinoma & 500nM crizotinib\\\\\n",
       "\tGSM6614828 & CUTO28-CR\\_SAMPLE2 & GSM6614828 & Public on Oct 06 2022 & Oct 03 2022 & Oct 06 2022 & SRA & 1 & adenocarcinoma & Homo sapiens & tissue: adenocarcinoma & ⋯ & transcriptomic & RNA-Seq & BioSample: https://www.ncbi.nlm.nih.gov/biosample/SAMN31140393 & SRA: https://www.ncbi.nlm.nih.gov/sra?term=SRX17783614 & NONE & CUTO28 (TPM3-ROS1) & NSCLC & TPM3-ROS1 & adenocarcinoma & 500nM crizotinib\\\\\n",
       "\tGSM6614829 & CUTO28-CR\\_SAMPLE3 & GSM6614829 & Public on Oct 06 2022 & Oct 03 2022 & Oct 06 2022 & SRA & 1 & adenocarcinoma & Homo sapiens & tissue: adenocarcinoma & ⋯ & transcriptomic & RNA-Seq & BioSample: https://www.ncbi.nlm.nih.gov/biosample/SAMN31140392 & SRA: https://www.ncbi.nlm.nih.gov/sra?term=SRX17783615 & NONE & CUTO28 (TPM3-ROS1) & NSCLC & TPM3-ROS1 & adenocarcinoma & 500nM crizotinib\\\\\n",
       "\\end{tabular}\n"
      ],
      "text/markdown": [
       "\n",
       "A data.frame: 6 × 46\n",
       "\n",
       "| <!--/--> | title &lt;chr&gt; | geo_accession &lt;chr&gt; | status &lt;chr&gt; | submission_date &lt;chr&gt; | last_update_date &lt;chr&gt; | type &lt;chr&gt; | channel_count &lt;chr&gt; | source_name_ch1 &lt;chr&gt; | organism_ch1 &lt;chr&gt; | characteristics_ch1 &lt;chr&gt; | ⋯ ⋯ | library_source &lt;chr&gt; | library_strategy &lt;chr&gt; | relation &lt;chr&gt; | relation.1 &lt;chr&gt; | supplementary_file_1 &lt;chr&gt; | cell line:ch1 &lt;chr&gt; | cell type:ch1 &lt;chr&gt; | genotype:ch1 &lt;chr&gt; | tissue:ch1 &lt;chr&gt; | treatment:ch1 &lt;chr&gt; |\n",
       "|---|---|---|---|---|---|---|---|---|---|---|---|---|---|---|---|---|---|---|---|---|---|\n",
       "| GSM6614824 | CUTO28_SAMPLE1    | GSM6614824 | Public on Oct 06 2022 | Oct 03 2022 | Oct 06 2022 | SRA | 1 | adenocarcinoma | Homo sapiens | tissue: adenocarcinoma | ⋯ | transcriptomic | RNA-Seq | BioSample: https://www.ncbi.nlm.nih.gov/biosample/SAMN31140397 | SRA: https://www.ncbi.nlm.nih.gov/sra?term=SRX17783610 | NONE | CUTO28 (TPM3-ROS1) | NSCLC | TPM3-ROS1 | adenocarcinoma | none             |\n",
       "| GSM6614825 | CUTO28_SAMPLE2    | GSM6614825 | Public on Oct 06 2022 | Oct 03 2022 | Oct 06 2022 | SRA | 1 | adenocarcinoma | Homo sapiens | tissue: adenocarcinoma | ⋯ | transcriptomic | RNA-Seq | BioSample: https://www.ncbi.nlm.nih.gov/biosample/SAMN31140396 | SRA: https://www.ncbi.nlm.nih.gov/sra?term=SRX17783611 | NONE | CUTO28 (TPM3-ROS1) | NSCLC | TPM3-ROS1 | adenocarcinoma | none             |\n",
       "| GSM6614826 | CUTO28_SAMPLE3    | GSM6614826 | Public on Oct 06 2022 | Oct 03 2022 | Oct 06 2022 | SRA | 1 | adenocarcinoma | Homo sapiens | tissue: adenocarcinoma | ⋯ | transcriptomic | RNA-Seq | BioSample: https://www.ncbi.nlm.nih.gov/biosample/SAMN31140395 | SRA: https://www.ncbi.nlm.nih.gov/sra?term=SRX17783612 | NONE | CUTO28 (TPM3-ROS1) | NSCLC | TPM3-ROS1 | adenocarcinoma | none             |\n",
       "| GSM6614827 | CUTO28-CR_SAMPLE1 | GSM6614827 | Public on Oct 06 2022 | Oct 03 2022 | Oct 06 2022 | SRA | 1 | adenocarcinoma | Homo sapiens | tissue: adenocarcinoma | ⋯ | transcriptomic | RNA-Seq | BioSample: https://www.ncbi.nlm.nih.gov/biosample/SAMN31140394 | SRA: https://www.ncbi.nlm.nih.gov/sra?term=SRX17783613 | NONE | CUTO28 (TPM3-ROS1) | NSCLC | TPM3-ROS1 | adenocarcinoma | 500nM crizotinib |\n",
       "| GSM6614828 | CUTO28-CR_SAMPLE2 | GSM6614828 | Public on Oct 06 2022 | Oct 03 2022 | Oct 06 2022 | SRA | 1 | adenocarcinoma | Homo sapiens | tissue: adenocarcinoma | ⋯ | transcriptomic | RNA-Seq | BioSample: https://www.ncbi.nlm.nih.gov/biosample/SAMN31140393 | SRA: https://www.ncbi.nlm.nih.gov/sra?term=SRX17783614 | NONE | CUTO28 (TPM3-ROS1) | NSCLC | TPM3-ROS1 | adenocarcinoma | 500nM crizotinib |\n",
       "| GSM6614829 | CUTO28-CR_SAMPLE3 | GSM6614829 | Public on Oct 06 2022 | Oct 03 2022 | Oct 06 2022 | SRA | 1 | adenocarcinoma | Homo sapiens | tissue: adenocarcinoma | ⋯ | transcriptomic | RNA-Seq | BioSample: https://www.ncbi.nlm.nih.gov/biosample/SAMN31140392 | SRA: https://www.ncbi.nlm.nih.gov/sra?term=SRX17783615 | NONE | CUTO28 (TPM3-ROS1) | NSCLC | TPM3-ROS1 | adenocarcinoma | 500nM crizotinib |\n",
       "\n"
      ],
      "text/plain": [
       "           title             geo_accession status               \n",
       "GSM6614824 CUTO28_SAMPLE1    GSM6614824    Public on Oct 06 2022\n",
       "GSM6614825 CUTO28_SAMPLE2    GSM6614825    Public on Oct 06 2022\n",
       "GSM6614826 CUTO28_SAMPLE3    GSM6614826    Public on Oct 06 2022\n",
       "GSM6614827 CUTO28-CR_SAMPLE1 GSM6614827    Public on Oct 06 2022\n",
       "GSM6614828 CUTO28-CR_SAMPLE2 GSM6614828    Public on Oct 06 2022\n",
       "GSM6614829 CUTO28-CR_SAMPLE3 GSM6614829    Public on Oct 06 2022\n",
       "           submission_date last_update_date type channel_count source_name_ch1\n",
       "GSM6614824 Oct 03 2022     Oct 06 2022      SRA  1             adenocarcinoma \n",
       "GSM6614825 Oct 03 2022     Oct 06 2022      SRA  1             adenocarcinoma \n",
       "GSM6614826 Oct 03 2022     Oct 06 2022      SRA  1             adenocarcinoma \n",
       "GSM6614827 Oct 03 2022     Oct 06 2022      SRA  1             adenocarcinoma \n",
       "GSM6614828 Oct 03 2022     Oct 06 2022      SRA  1             adenocarcinoma \n",
       "GSM6614829 Oct 03 2022     Oct 06 2022      SRA  1             adenocarcinoma \n",
       "           organism_ch1 characteristics_ch1    ⋯ library_source\n",
       "GSM6614824 Homo sapiens tissue: adenocarcinoma ⋯ transcriptomic\n",
       "GSM6614825 Homo sapiens tissue: adenocarcinoma ⋯ transcriptomic\n",
       "GSM6614826 Homo sapiens tissue: adenocarcinoma ⋯ transcriptomic\n",
       "GSM6614827 Homo sapiens tissue: adenocarcinoma ⋯ transcriptomic\n",
       "GSM6614828 Homo sapiens tissue: adenocarcinoma ⋯ transcriptomic\n",
       "GSM6614829 Homo sapiens tissue: adenocarcinoma ⋯ transcriptomic\n",
       "           library_strategy\n",
       "GSM6614824 RNA-Seq         \n",
       "GSM6614825 RNA-Seq         \n",
       "GSM6614826 RNA-Seq         \n",
       "GSM6614827 RNA-Seq         \n",
       "GSM6614828 RNA-Seq         \n",
       "GSM6614829 RNA-Seq         \n",
       "           relation                                                      \n",
       "GSM6614824 BioSample: https://www.ncbi.nlm.nih.gov/biosample/SAMN31140397\n",
       "GSM6614825 BioSample: https://www.ncbi.nlm.nih.gov/biosample/SAMN31140396\n",
       "GSM6614826 BioSample: https://www.ncbi.nlm.nih.gov/biosample/SAMN31140395\n",
       "GSM6614827 BioSample: https://www.ncbi.nlm.nih.gov/biosample/SAMN31140394\n",
       "GSM6614828 BioSample: https://www.ncbi.nlm.nih.gov/biosample/SAMN31140393\n",
       "GSM6614829 BioSample: https://www.ncbi.nlm.nih.gov/biosample/SAMN31140392\n",
       "           relation.1                                            \n",
       "GSM6614824 SRA: https://www.ncbi.nlm.nih.gov/sra?term=SRX17783610\n",
       "GSM6614825 SRA: https://www.ncbi.nlm.nih.gov/sra?term=SRX17783611\n",
       "GSM6614826 SRA: https://www.ncbi.nlm.nih.gov/sra?term=SRX17783612\n",
       "GSM6614827 SRA: https://www.ncbi.nlm.nih.gov/sra?term=SRX17783613\n",
       "GSM6614828 SRA: https://www.ncbi.nlm.nih.gov/sra?term=SRX17783614\n",
       "GSM6614829 SRA: https://www.ncbi.nlm.nih.gov/sra?term=SRX17783615\n",
       "           supplementary_file_1 cell line:ch1      cell type:ch1 genotype:ch1\n",
       "GSM6614824 NONE                 CUTO28 (TPM3-ROS1) NSCLC         TPM3-ROS1   \n",
       "GSM6614825 NONE                 CUTO28 (TPM3-ROS1) NSCLC         TPM3-ROS1   \n",
       "GSM6614826 NONE                 CUTO28 (TPM3-ROS1) NSCLC         TPM3-ROS1   \n",
       "GSM6614827 NONE                 CUTO28 (TPM3-ROS1) NSCLC         TPM3-ROS1   \n",
       "GSM6614828 NONE                 CUTO28 (TPM3-ROS1) NSCLC         TPM3-ROS1   \n",
       "GSM6614829 NONE                 CUTO28 (TPM3-ROS1) NSCLC         TPM3-ROS1   \n",
       "           tissue:ch1     treatment:ch1   \n",
       "GSM6614824 adenocarcinoma none            \n",
       "GSM6614825 adenocarcinoma none            \n",
       "GSM6614826 adenocarcinoma none            \n",
       "GSM6614827 adenocarcinoma 500nM crizotinib\n",
       "GSM6614828 adenocarcinoma 500nM crizotinib\n",
       "GSM6614829 adenocarcinoma 500nM crizotinib"
      ]
     },
     "metadata": {},
     "output_type": "display_data"
    }
   ],
   "source": [
    "head(gse214715)"
   ]
  },
  {
   "cell_type": "markdown",
   "metadata": {},
   "source": [
    "## GSE214715 Data Structure\n",
    "\n",
    "| Cell line | Fusion partner | Treatment              | N | Treatment   | Meaning                 |\n",
    "|-----------|----------------|------------------------|---|-------------|--------------------------|\n",
    "| Cuto-28   | TPM3           | ctrl                   | 3 | CUTO28      | Parental (TKI-sensitive) |\n",
    "| Cuto-28   | TPM3           | 500 nM crizotinib      | 3 | CUTO28-CR   | Crizotinib-resistant     |\n",
    "| Cuto-28   | TPM3           | 500 nM entrectinib     | 2 | CUTO28-ER   | Entrectinib-resistant    |\n",
    "| Cuto-37   | CD74           | ctrl                   | 3 | CUTO37      | Parental                 |\n",
    "| Cuto-37   | CD74           | 500 nM crizotinib      | 3 | CUTO37-CR   | Crizotinib-resistant     |\n",
    "| Cuto-37   | CD74           | 500 nM entrectinib     | 3 | CUTO37-ER   | Entrectinib-resistant    |\n",
    "\n",
    "2 samples(Cuto-28, Cuto-37), 2 fusion partners(TPM3, CD74), 2 treatments (500 nM crizotinib, 500 nM entrectinib)  \n",
    "For `Cuto-28` one sample was found to be an outlier and thus duplicates were analyzed.\n",
    "\n",
    "\n",
    "## GSE239844 Data Structure\n",
    "| Cell line | Fusion partner | Treatment           | N |\n",
    "|-----------|----------------|---------------------|---|\n",
    "| Cuto-23   | CD74           | Ctrl (DMSO)         | 3 |\n",
    "| Cuto-23   | CD74           | 250nM crizotinib    | 3 |\n",
    "| Cuto-27   | CD74           | Ctrl (DMSO)         | 3 |\n",
    "| Cuto-27   | CD74           | 250nM crizotinib    | 3 |\n",
    "| Cuto-28   | TPM3           | Ctrl (DMSO)         | 3 |\n",
    "| Cuto-28   | TPM3           | 250nM crizotinib    | 3 |\n",
    "| Cuto-33   | CD74           | Ctrl (DMSO)         | 3 |\n",
    "| Cuto-33   | CD74           | 250nM crizotinib    | 3 |\n",
    "| Cuto-37   | CD74           | Ctrl (DMSO)         | 3 |\n",
    "| Cuto-37   | CD74           | 250nM crizotinib    | 3 |\n",
    "| Cuto-38   | CD74           | Ctrl (DMSO)         | 3 |\n",
    "| Cuto-38   | CD74           | 250nM crizotinib    | 3 |\n",
    "| HCC78     | SLC34A2        | Ctrl (DMSO)         | 3 |\n",
    "| HCC78     | SLC34A2        | 250nM crizotinib    | 3 |\n",
    "\n",
    "7 samples (Cuto-23, Cuto-27, Cuto-28, Cuto-33, Cuto-37, Cuto-38, HCC78), 3 fusion partners(TPM3, CD74, SLC34A2 ), 1 treatment(250nM crizotinib)"
   ]
  },
  {
   "cell_type": "code",
   "execution_count": 12,
   "metadata": {
    "vscode": {
     "languageId": "r"
    }
   },
   "outputs": [],
   "source": [
    "# This is the gene expression matrix that brings together all of these samples.\n",
    "# Read the count matrix\n",
    "raw_counts_gse239844 <- fread(\"GSE239844_raw_counts.tsv\") %>% as_tibble()\n",
    "raw_counts_gse214715 <- fread(\"GSE214715_raw_counts.tsv\") %>% as_tibble()"
   ]
  },
  {
   "cell_type": "code",
   "execution_count": 13,
   "metadata": {
    "vscode": {
     "languageId": "r"
    }
   },
   "outputs": [
    {
     "data": {
      "text/html": [
       "<table class=\"dataframe\">\n",
       "<caption>A tibble: 6 × 43</caption>\n",
       "<thead>\n",
       "\t<tr><th scope=col>GeneID</th><th scope=col>GSM7675355</th><th scope=col>GSM7675356</th><th scope=col>GSM7675357</th><th scope=col>GSM7675358</th><th scope=col>GSM7675359</th><th scope=col>GSM7675360</th><th scope=col>GSM7675361</th><th scope=col>GSM7675362</th><th scope=col>GSM7675363</th><th scope=col>⋯</th><th scope=col>GSM7675387</th><th scope=col>GSM7675388</th><th scope=col>GSM7675389</th><th scope=col>GSM7675390</th><th scope=col>GSM7675391</th><th scope=col>GSM7675392</th><th scope=col>GSM7675393</th><th scope=col>GSM7675394</th><th scope=col>GSM7675395</th><th scope=col>GSM7675396</th></tr>\n",
       "\t<tr><th scope=col>&lt;int&gt;</th><th scope=col>&lt;int&gt;</th><th scope=col>&lt;int&gt;</th><th scope=col>&lt;int&gt;</th><th scope=col>&lt;int&gt;</th><th scope=col>&lt;int&gt;</th><th scope=col>&lt;int&gt;</th><th scope=col>&lt;int&gt;</th><th scope=col>&lt;int&gt;</th><th scope=col>&lt;int&gt;</th><th scope=col>⋯</th><th scope=col>&lt;int&gt;</th><th scope=col>&lt;int&gt;</th><th scope=col>&lt;int&gt;</th><th scope=col>&lt;int&gt;</th><th scope=col>&lt;int&gt;</th><th scope=col>&lt;int&gt;</th><th scope=col>&lt;int&gt;</th><th scope=col>&lt;int&gt;</th><th scope=col>&lt;int&gt;</th><th scope=col>&lt;int&gt;</th></tr>\n",
       "</thead>\n",
       "<tbody>\n",
       "\t<tr><td>100287102</td><td>  3</td><td>  1</td><td>  1</td><td>  7</td><td>  1</td><td>  1</td><td>  1</td><td>  1</td><td>  0</td><td>⋯</td><td>  0</td><td>  1</td><td>  1</td><td>  2</td><td>  2</td><td>  1</td><td>  0</td><td>  1</td><td>  0</td><td>  1</td></tr>\n",
       "\t<tr><td>   653635</td><td>522</td><td>442</td><td>219</td><td>536</td><td>417</td><td>325</td><td>289</td><td>289</td><td>246</td><td>⋯</td><td>165</td><td>322</td><td>235</td><td>183</td><td>298</td><td>371</td><td>291</td><td>313</td><td>405</td><td>427</td></tr>\n",
       "\t<tr><td>102466751</td><td> 20</td><td>  8</td><td>  2</td><td> 16</td><td>  7</td><td>  4</td><td>  9</td><td>  2</td><td>  4</td><td>⋯</td><td>  0</td><td>  2</td><td>  2</td><td>  3</td><td>  3</td><td> 11</td><td>  8</td><td>  5</td><td> 14</td><td>  6</td></tr>\n",
       "\t<tr><td>107985730</td><td>  1</td><td>  0</td><td>  0</td><td>  1</td><td>  0</td><td>  1</td><td>  0</td><td>  1</td><td>  0</td><td>⋯</td><td>  0</td><td>  1</td><td>  0</td><td>  1</td><td>  0</td><td>  0</td><td>  0</td><td>  0</td><td>  0</td><td>  0</td></tr>\n",
       "\t<tr><td>100302278</td><td>  1</td><td>  0</td><td>  0</td><td>  0</td><td>  0</td><td>  1</td><td>  0</td><td>  0</td><td>  1</td><td>⋯</td><td>  0</td><td>  0</td><td>  0</td><td>  0</td><td>  0</td><td>  0</td><td>  0</td><td>  0</td><td>  0</td><td>  0</td></tr>\n",
       "\t<tr><td>   645520</td><td>  0</td><td>  0</td><td>  0</td><td>  0</td><td>  0</td><td>  0</td><td>  0</td><td>  1</td><td>  0</td><td>⋯</td><td>  0</td><td>  0</td><td>  0</td><td>  0</td><td>  0</td><td>  0</td><td>  0</td><td>  0</td><td>  0</td><td>  0</td></tr>\n",
       "</tbody>\n",
       "</table>\n"
      ],
      "text/latex": [
       "A tibble: 6 × 43\n",
       "\\begin{tabular}{lllllllllllllllllllll}\n",
       " GeneID & GSM7675355 & GSM7675356 & GSM7675357 & GSM7675358 & GSM7675359 & GSM7675360 & GSM7675361 & GSM7675362 & GSM7675363 & ⋯ & GSM7675387 & GSM7675388 & GSM7675389 & GSM7675390 & GSM7675391 & GSM7675392 & GSM7675393 & GSM7675394 & GSM7675395 & GSM7675396\\\\\n",
       " <int> & <int> & <int> & <int> & <int> & <int> & <int> & <int> & <int> & <int> & ⋯ & <int> & <int> & <int> & <int> & <int> & <int> & <int> & <int> & <int> & <int>\\\\\n",
       "\\hline\n",
       "\t 100287102 &   3 &   1 &   1 &   7 &   1 &   1 &   1 &   1 &   0 & ⋯ &   0 &   1 &   1 &   2 &   2 &   1 &   0 &   1 &   0 &   1\\\\\n",
       "\t    653635 & 522 & 442 & 219 & 536 & 417 & 325 & 289 & 289 & 246 & ⋯ & 165 & 322 & 235 & 183 & 298 & 371 & 291 & 313 & 405 & 427\\\\\n",
       "\t 102466751 &  20 &   8 &   2 &  16 &   7 &   4 &   9 &   2 &   4 & ⋯ &   0 &   2 &   2 &   3 &   3 &  11 &   8 &   5 &  14 &   6\\\\\n",
       "\t 107985730 &   1 &   0 &   0 &   1 &   0 &   1 &   0 &   1 &   0 & ⋯ &   0 &   1 &   0 &   1 &   0 &   0 &   0 &   0 &   0 &   0\\\\\n",
       "\t 100302278 &   1 &   0 &   0 &   0 &   0 &   1 &   0 &   0 &   1 & ⋯ &   0 &   0 &   0 &   0 &   0 &   0 &   0 &   0 &   0 &   0\\\\\n",
       "\t    645520 &   0 &   0 &   0 &   0 &   0 &   0 &   0 &   1 &   0 & ⋯ &   0 &   0 &   0 &   0 &   0 &   0 &   0 &   0 &   0 &   0\\\\\n",
       "\\end{tabular}\n"
      ],
      "text/markdown": [
       "\n",
       "A tibble: 6 × 43\n",
       "\n",
       "| GeneID &lt;int&gt; | GSM7675355 &lt;int&gt; | GSM7675356 &lt;int&gt; | GSM7675357 &lt;int&gt; | GSM7675358 &lt;int&gt; | GSM7675359 &lt;int&gt; | GSM7675360 &lt;int&gt; | GSM7675361 &lt;int&gt; | GSM7675362 &lt;int&gt; | GSM7675363 &lt;int&gt; | ⋯ ⋯ | GSM7675387 &lt;int&gt; | GSM7675388 &lt;int&gt; | GSM7675389 &lt;int&gt; | GSM7675390 &lt;int&gt; | GSM7675391 &lt;int&gt; | GSM7675392 &lt;int&gt; | GSM7675393 &lt;int&gt; | GSM7675394 &lt;int&gt; | GSM7675395 &lt;int&gt; | GSM7675396 &lt;int&gt; |\n",
       "|---|---|---|---|---|---|---|---|---|---|---|---|---|---|---|---|---|---|---|---|---|\n",
       "| 100287102 |   3 |   1 |   1 |   7 |   1 |   1 |   1 |   1 |   0 | ⋯ |   0 |   1 |   1 |   2 |   2 |   1 |   0 |   1 |   0 |   1 |\n",
       "|    653635 | 522 | 442 | 219 | 536 | 417 | 325 | 289 | 289 | 246 | ⋯ | 165 | 322 | 235 | 183 | 298 | 371 | 291 | 313 | 405 | 427 |\n",
       "| 102466751 |  20 |   8 |   2 |  16 |   7 |   4 |   9 |   2 |   4 | ⋯ |   0 |   2 |   2 |   3 |   3 |  11 |   8 |   5 |  14 |   6 |\n",
       "| 107985730 |   1 |   0 |   0 |   1 |   0 |   1 |   0 |   1 |   0 | ⋯ |   0 |   1 |   0 |   1 |   0 |   0 |   0 |   0 |   0 |   0 |\n",
       "| 100302278 |   1 |   0 |   0 |   0 |   0 |   1 |   0 |   0 |   1 | ⋯ |   0 |   0 |   0 |   0 |   0 |   0 |   0 |   0 |   0 |   0 |\n",
       "|    645520 |   0 |   0 |   0 |   0 |   0 |   0 |   0 |   1 |   0 | ⋯ |   0 |   0 |   0 |   0 |   0 |   0 |   0 |   0 |   0 |   0 |\n",
       "\n"
      ],
      "text/plain": [
       "  GeneID    GSM7675355 GSM7675356 GSM7675357 GSM7675358 GSM7675359 GSM7675360\n",
       "1 100287102   3          1          1          7          1          1       \n",
       "2    653635 522        442        219        536        417        325       \n",
       "3 102466751  20          8          2         16          7          4       \n",
       "4 107985730   1          0          0          1          0          1       \n",
       "5 100302278   1          0          0          0          0          1       \n",
       "6    645520   0          0          0          0          0          0       \n",
       "  GSM7675361 GSM7675362 GSM7675363 ⋯ GSM7675387 GSM7675388 GSM7675389\n",
       "1   1          1          0        ⋯   0          1          1       \n",
       "2 289        289        246        ⋯ 165        322        235       \n",
       "3   9          2          4        ⋯   0          2          2       \n",
       "4   0          1          0        ⋯   0          1          0       \n",
       "5   0          0          1        ⋯   0          0          0       \n",
       "6   0          1          0        ⋯   0          0          0       \n",
       "  GSM7675390 GSM7675391 GSM7675392 GSM7675393 GSM7675394 GSM7675395 GSM7675396\n",
       "1   2          2          1          0          1          0          1       \n",
       "2 183        298        371        291        313        405        427       \n",
       "3   3          3         11          8          5         14          6       \n",
       "4   1          0          0          0          0          0          0       \n",
       "5   0          0          0          0          0          0          0       \n",
       "6   0          0          0          0          0          0          0       "
      ]
     },
     "metadata": {},
     "output_type": "display_data"
    },
    {
     "data": {
      "text/html": [
       "<table class=\"dataframe\">\n",
       "<caption>A tibble: 6 × 18</caption>\n",
       "<thead>\n",
       "\t<tr><th scope=col>GeneID</th><th scope=col>GSM6614824</th><th scope=col>GSM6614825</th><th scope=col>GSM6614826</th><th scope=col>GSM6614827</th><th scope=col>GSM6614828</th><th scope=col>GSM6614829</th><th scope=col>GSM6614830</th><th scope=col>GSM6614831</th><th scope=col>GSM6614832</th><th scope=col>GSM6614833</th><th scope=col>GSM6614834</th><th scope=col>GSM6614835</th><th scope=col>GSM6614836</th><th scope=col>GSM6614837</th><th scope=col>GSM6614838</th><th scope=col>GSM6614839</th><th scope=col>GSM6614840</th></tr>\n",
       "\t<tr><th scope=col>&lt;int&gt;</th><th scope=col>&lt;int&gt;</th><th scope=col>&lt;int&gt;</th><th scope=col>&lt;int&gt;</th><th scope=col>&lt;int&gt;</th><th scope=col>&lt;int&gt;</th><th scope=col>&lt;int&gt;</th><th scope=col>&lt;int&gt;</th><th scope=col>&lt;int&gt;</th><th scope=col>&lt;int&gt;</th><th scope=col>&lt;int&gt;</th><th scope=col>&lt;int&gt;</th><th scope=col>&lt;int&gt;</th><th scope=col>&lt;int&gt;</th><th scope=col>&lt;int&gt;</th><th scope=col>&lt;int&gt;</th><th scope=col>&lt;int&gt;</th><th scope=col>&lt;int&gt;</th></tr>\n",
       "</thead>\n",
       "<tbody>\n",
       "\t<tr><td>100287102</td><td>  1</td><td>  0</td><td>  0</td><td>  0</td><td>  1</td><td>  0</td><td>  0</td><td>  0</td><td>  1</td><td>  0</td><td>  1</td><td>  0</td><td>  0</td><td>  0</td><td>  0</td><td>  1</td><td>  0</td></tr>\n",
       "\t<tr><td>   653635</td><td>189</td><td>136</td><td>175</td><td>234</td><td>314</td><td>210</td><td>497</td><td>293</td><td>321</td><td>243</td><td>237</td><td>166</td><td>168</td><td>218</td><td>180</td><td>249</td><td>128</td></tr>\n",
       "\t<tr><td>102466751</td><td>  4</td><td>  1</td><td>  2</td><td>  3</td><td>  8</td><td>  2</td><td> 23</td><td> 10</td><td> 15</td><td>  8</td><td> 10</td><td>  1</td><td>  2</td><td>  1</td><td>  2</td><td>  2</td><td>  2</td></tr>\n",
       "\t<tr><td>107985730</td><td>  0</td><td>  0</td><td>  0</td><td>  1</td><td>  0</td><td>  1</td><td>  0</td><td>  1</td><td>  1</td><td>  1</td><td>  0</td><td>  0</td><td>  0</td><td>  0</td><td>  0</td><td>  0</td><td>  0</td></tr>\n",
       "\t<tr><td>100302278</td><td>  0</td><td>  0</td><td>  0</td><td>  0</td><td>  0</td><td>  1</td><td>  0</td><td>  0</td><td>  0</td><td>  0</td><td>  0</td><td>  0</td><td>  0</td><td>  0</td><td>  0</td><td>  0</td><td>  0</td></tr>\n",
       "\t<tr><td>   645520</td><td>  0</td><td>  0</td><td>  0</td><td>  0</td><td>  0</td><td>  0</td><td>  0</td><td>  0</td><td>  1</td><td>  3</td><td>  0</td><td>  1</td><td>  0</td><td>  0</td><td>  0</td><td>  0</td><td>  0</td></tr>\n",
       "</tbody>\n",
       "</table>\n"
      ],
      "text/latex": [
       "A tibble: 6 × 18\n",
       "\\begin{tabular}{llllllllllllllllll}\n",
       " GeneID & GSM6614824 & GSM6614825 & GSM6614826 & GSM6614827 & GSM6614828 & GSM6614829 & GSM6614830 & GSM6614831 & GSM6614832 & GSM6614833 & GSM6614834 & GSM6614835 & GSM6614836 & GSM6614837 & GSM6614838 & GSM6614839 & GSM6614840\\\\\n",
       " <int> & <int> & <int> & <int> & <int> & <int> & <int> & <int> & <int> & <int> & <int> & <int> & <int> & <int> & <int> & <int> & <int> & <int>\\\\\n",
       "\\hline\n",
       "\t 100287102 &   1 &   0 &   0 &   0 &   1 &   0 &   0 &   0 &   1 &   0 &   1 &   0 &   0 &   0 &   0 &   1 &   0\\\\\n",
       "\t    653635 & 189 & 136 & 175 & 234 & 314 & 210 & 497 & 293 & 321 & 243 & 237 & 166 & 168 & 218 & 180 & 249 & 128\\\\\n",
       "\t 102466751 &   4 &   1 &   2 &   3 &   8 &   2 &  23 &  10 &  15 &   8 &  10 &   1 &   2 &   1 &   2 &   2 &   2\\\\\n",
       "\t 107985730 &   0 &   0 &   0 &   1 &   0 &   1 &   0 &   1 &   1 &   1 &   0 &   0 &   0 &   0 &   0 &   0 &   0\\\\\n",
       "\t 100302278 &   0 &   0 &   0 &   0 &   0 &   1 &   0 &   0 &   0 &   0 &   0 &   0 &   0 &   0 &   0 &   0 &   0\\\\\n",
       "\t    645520 &   0 &   0 &   0 &   0 &   0 &   0 &   0 &   0 &   1 &   3 &   0 &   1 &   0 &   0 &   0 &   0 &   0\\\\\n",
       "\\end{tabular}\n"
      ],
      "text/markdown": [
       "\n",
       "A tibble: 6 × 18\n",
       "\n",
       "| GeneID &lt;int&gt; | GSM6614824 &lt;int&gt; | GSM6614825 &lt;int&gt; | GSM6614826 &lt;int&gt; | GSM6614827 &lt;int&gt; | GSM6614828 &lt;int&gt; | GSM6614829 &lt;int&gt; | GSM6614830 &lt;int&gt; | GSM6614831 &lt;int&gt; | GSM6614832 &lt;int&gt; | GSM6614833 &lt;int&gt; | GSM6614834 &lt;int&gt; | GSM6614835 &lt;int&gt; | GSM6614836 &lt;int&gt; | GSM6614837 &lt;int&gt; | GSM6614838 &lt;int&gt; | GSM6614839 &lt;int&gt; | GSM6614840 &lt;int&gt; |\n",
       "|---|---|---|---|---|---|---|---|---|---|---|---|---|---|---|---|---|---|\n",
       "| 100287102 |   1 |   0 |   0 |   0 |   1 |   0 |   0 |   0 |   1 |   0 |   1 |   0 |   0 |   0 |   0 |   1 |   0 |\n",
       "|    653635 | 189 | 136 | 175 | 234 | 314 | 210 | 497 | 293 | 321 | 243 | 237 | 166 | 168 | 218 | 180 | 249 | 128 |\n",
       "| 102466751 |   4 |   1 |   2 |   3 |   8 |   2 |  23 |  10 |  15 |   8 |  10 |   1 |   2 |   1 |   2 |   2 |   2 |\n",
       "| 107985730 |   0 |   0 |   0 |   1 |   0 |   1 |   0 |   1 |   1 |   1 |   0 |   0 |   0 |   0 |   0 |   0 |   0 |\n",
       "| 100302278 |   0 |   0 |   0 |   0 |   0 |   1 |   0 |   0 |   0 |   0 |   0 |   0 |   0 |   0 |   0 |   0 |   0 |\n",
       "|    645520 |   0 |   0 |   0 |   0 |   0 |   0 |   0 |   0 |   1 |   3 |   0 |   1 |   0 |   0 |   0 |   0 |   0 |\n",
       "\n"
      ],
      "text/plain": [
       "  GeneID    GSM6614824 GSM6614825 GSM6614826 GSM6614827 GSM6614828 GSM6614829\n",
       "1 100287102   1          0          0          0          1          0       \n",
       "2    653635 189        136        175        234        314        210       \n",
       "3 102466751   4          1          2          3          8          2       \n",
       "4 107985730   0          0          0          1          0          1       \n",
       "5 100302278   0          0          0          0          0          1       \n",
       "6    645520   0          0          0          0          0          0       \n",
       "  GSM6614830 GSM6614831 GSM6614832 GSM6614833 GSM6614834 GSM6614835 GSM6614836\n",
       "1   0          0          1          0          1          0          0       \n",
       "2 497        293        321        243        237        166        168       \n",
       "3  23         10         15          8         10          1          2       \n",
       "4   0          1          1          1          0          0          0       \n",
       "5   0          0          0          0          0          0          0       \n",
       "6   0          0          1          3          0          1          0       \n",
       "  GSM6614837 GSM6614838 GSM6614839 GSM6614840\n",
       "1   0          0          1          0       \n",
       "2 218        180        249        128       \n",
       "3   1          2          2          2       \n",
       "4   0          0          0          0       \n",
       "5   0          0          0          0       \n",
       "6   0          0          0          0       "
      ]
     },
     "metadata": {},
     "output_type": "display_data"
    }
   ],
   "source": [
    "# Peek at the data\n",
    "head(raw_counts_gse239844)\n",
    "head(raw_counts_gse214715)\n",
    "\n",
    "\n",
    "# Cols:  GEO Sample IDs (aka GSM IDs) → one per biological sample.\n",
    "# Rows: Gene ID"
   ]
  },
  {
   "cell_type": "code",
   "execution_count": 10,
   "metadata": {
    "vscode": {
     "languageId": "r"
    }
   },
   "outputs": [
    {
     "data": {
      "text/html": [
       "<style>\n",
       ".list-inline {list-style: none; margin:0; padding: 0}\n",
       ".list-inline>li {display: inline-block}\n",
       ".list-inline>li:not(:last-child)::after {content: \"\\00b7\"; padding: 0 .5ex}\n",
       "</style>\n",
       "<ol class=list-inline><li>39376</li><li>43</li></ol>\n"
      ],
      "text/latex": [
       "\\begin{enumerate*}\n",
       "\\item 39376\n",
       "\\item 43\n",
       "\\end{enumerate*}\n"
      ],
      "text/markdown": [
       "1. 39376\n",
       "2. 43\n",
       "\n",
       "\n"
      ],
      "text/plain": [
       "[1] 39376    43"
      ]
     },
     "metadata": {},
     "output_type": "display_data"
    },
    {
     "data": {
      "text/html": [
       "<style>\n",
       ".list-inline {list-style: none; margin:0; padding: 0}\n",
       ".list-inline>li {display: inline-block}\n",
       ".list-inline>li:not(:last-child)::after {content: \"\\00b7\"; padding: 0 .5ex}\n",
       "</style>\n",
       "<ol class=list-inline><li>39376</li><li>18</li></ol>\n"
      ],
      "text/latex": [
       "\\begin{enumerate*}\n",
       "\\item 39376\n",
       "\\item 18\n",
       "\\end{enumerate*}\n"
      ],
      "text/markdown": [
       "1. 39376\n",
       "2. 18\n",
       "\n",
       "\n"
      ],
      "text/plain": [
       "[1] 39376    18"
      ]
     },
     "metadata": {},
     "output_type": "display_data"
    }
   ],
   "source": [
    "dim(raw_counts_gse239844)\n",
    "dim(raw_counts_gse214715)"
   ]
  },
  {
   "cell_type": "markdown",
   "metadata": {},
   "source": [
    "**What are the values in the cells?**\n",
    "\n",
    "They are called counts. A count is the number of RNA fragments (reads) that were mapped to a specific gene in a specific sample during RNA-seq. It’s measuring gene expression indirectly.\n",
    "\n",
    "A higher count = higher expression of that gene in that sample.\n",
    "\n",
    "Genes that are actively transcribed into mRNA produce more RNA molecules\n",
    "\n",
    "During RNA-seq, those mRNA molecules are reverse transcribed, fragmented, sequenced, and aligned to a reference genome\n",
    "\n",
    "When a read aligns to a gene, it’s counted for that gene\n",
    "\n",
    "**But raw counts aren’t directly comparable across samples, Why?**\n",
    "\n",
    "Some samples were sequenced more deeply than others (have more total reads)\n",
    "\n",
    "Gene length can affect count (gene length: The number of nucleotides (A, C, G, T) in the gene's RNA transcript.)\n",
    "\n",
    "That’s why we use DESeq2 to normalize and analyze differences correctly\n",
    "\n"
   ]
  },
  {
   "cell_type": "markdown",
   "metadata": {},
   "source": [
    "# Prepare data for DESeq"
   ]
  },
  {
   "cell_type": "markdown",
   "metadata": {
    "vscode": {
     "languageId": "r"
    }
   },
   "source": [
    "## 214715"
   ]
  },
  {
   "cell_type": "code",
   "execution_count": 11,
   "metadata": {
    "vscode": {
     "languageId": "r"
    }
   },
   "outputs": [
    {
     "data": {
      "text/html": [
       "<style>\n",
       ".list-inline {list-style: none; margin:0; padding: 0}\n",
       ".list-inline>li {display: inline-block}\n",
       ".list-inline>li:not(:last-child)::after {content: \"\\00b7\"; padding: 0 .5ex}\n",
       "</style>\n",
       "<ol class=list-inline><li>'none'</li><li>'500nM crizotinib'</li><li>'500nM entrectinib'</li></ol>\n"
      ],
      "text/latex": [
       "\\begin{enumerate*}\n",
       "\\item 'none'\n",
       "\\item '500nM crizotinib'\n",
       "\\item '500nM entrectinib'\n",
       "\\end{enumerate*}\n"
      ],
      "text/markdown": [
       "1. 'none'\n",
       "2. '500nM crizotinib'\n",
       "3. '500nM entrectinib'\n",
       "\n",
       "\n"
      ],
      "text/plain": [
       "[1] \"none\"              \"500nM crizotinib\"  \"500nM entrectinib\""
      ]
     },
     "metadata": {},
     "output_type": "display_data"
    }
   ],
   "source": [
    "# There are ge_accessions in the metadata that are not in the count matrix.\n",
    "# We need to filter the metadata to only include samples\n",
    "# that are present in the count matrix.\n",
    "present_geo_accessions <- intersect(\n",
    "                                    colnames(raw_counts_gse214715),\n",
    "                                    gse214715$geo_accession)\n",
    "\n",
    "# Prepare count matrix\n",
    "count_clean_matrix_214715 <- raw_counts_gse214715 %>%\n",
    "  tibble::column_to_rownames(\"GeneID\") %>%\n",
    "  dplyr::select(all_of(present_geo_accessions)) %>%\n",
    "  as.matrix()\n",
    "\n",
    "# Prepare metadata\n",
    "gse214715 <- gse214715[present_geo_accessions, ]\n",
    "metadata_clean_gse214715 <- gse214715 %>%\n",
    "  dplyr::select(geo_accession, `treatment:ch1`, `cell line:ch1`) %>%\n",
    "  # mutate converts the treatment:ch1 column (character)\n",
    "  #to a factor (categorical variable).\n",
    "  #Example: If treatment:ch1 contains \"none\" and \"250nM_crizotinib\",\n",
    "  # these become factor levels.\n",
    "  # We should ensure that the factor levels are in the correct order.\n",
    "  # The first level is the reference level.\n",
    "  # The reference level is the one that will be used as a baseline\n",
    "  # for comparison in the differential expression analysis.\n",
    "  # Casting Factor type to cell line for later analysis between cell lines\n",
    "  dplyr::mutate(treatment = factor(`treatment:ch1`) %>% relevel(ref = \"none\")) %>%\n",
    "  dplyr::mutate(cell_line = factor(`cell line:ch1`))\n",
    "\n",
    "\n",
    "# Verify levels\n",
    "levels(metadata_clean_gse214715$treatment)  # none should be first\n"
   ]
  },
  {
   "cell_type": "code",
   "execution_count": 20,
   "metadata": {
    "vscode": {
     "languageId": "r"
    }
   },
   "outputs": [
    {
     "data": {
      "text/html": [
       "<table class=\"dataframe\">\n",
       "<caption>A data.frame: 17 × 5</caption>\n",
       "<thead>\n",
       "\t<tr><th></th><th scope=col>geo_accession</th><th scope=col>treatment:ch1</th><th scope=col>cell line:ch1</th><th scope=col>treatment</th><th scope=col>cell_line</th></tr>\n",
       "\t<tr><th></th><th scope=col>&lt;chr&gt;</th><th scope=col>&lt;chr&gt;</th><th scope=col>&lt;chr&gt;</th><th scope=col>&lt;fct&gt;</th><th scope=col>&lt;fct&gt;</th></tr>\n",
       "</thead>\n",
       "<tbody>\n",
       "\t<tr><th scope=row>GSM6614824</th><td>GSM6614824</td><td>none             </td><td>CUTO28 (TPM3-ROS1)</td><td>none             </td><td>CUTO28 (TPM3-ROS1)</td></tr>\n",
       "\t<tr><th scope=row>GSM6614825</th><td>GSM6614825</td><td>none             </td><td>CUTO28 (TPM3-ROS1)</td><td>none             </td><td>CUTO28 (TPM3-ROS1)</td></tr>\n",
       "\t<tr><th scope=row>GSM6614826</th><td>GSM6614826</td><td>none             </td><td>CUTO28 (TPM3-ROS1)</td><td>none             </td><td>CUTO28 (TPM3-ROS1)</td></tr>\n",
       "\t<tr><th scope=row>GSM6614827</th><td>GSM6614827</td><td>500nM crizotinib </td><td>CUTO28 (TPM3-ROS1)</td><td>500nM crizotinib </td><td>CUTO28 (TPM3-ROS1)</td></tr>\n",
       "\t<tr><th scope=row>GSM6614828</th><td>GSM6614828</td><td>500nM crizotinib </td><td>CUTO28 (TPM3-ROS1)</td><td>500nM crizotinib </td><td>CUTO28 (TPM3-ROS1)</td></tr>\n",
       "\t<tr><th scope=row>GSM6614829</th><td>GSM6614829</td><td>500nM crizotinib </td><td>CUTO28 (TPM3-ROS1)</td><td>500nM crizotinib </td><td>CUTO28 (TPM3-ROS1)</td></tr>\n",
       "\t<tr><th scope=row>GSM6614830</th><td>GSM6614830</td><td>500nM entrectinib</td><td>CUTO28 (TPM3-ROS1)</td><td>500nM entrectinib</td><td>CUTO28 (TPM3-ROS1)</td></tr>\n",
       "\t<tr><th scope=row>GSM6614831</th><td>GSM6614831</td><td>500nM entrectinib</td><td>CUTO28 (TPM3-ROS1)</td><td>500nM entrectinib</td><td>CUTO28 (TPM3-ROS1)</td></tr>\n",
       "\t<tr><th scope=row>GSM6614832</th><td>GSM6614832</td><td>none             </td><td>CUTO37 (CD74-ROS1)</td><td>none             </td><td>CUTO37 (CD74-ROS1)</td></tr>\n",
       "\t<tr><th scope=row>GSM6614833</th><td>GSM6614833</td><td>none             </td><td>CUTO37 (CD74-ROS1)</td><td>none             </td><td>CUTO37 (CD74-ROS1)</td></tr>\n",
       "\t<tr><th scope=row>GSM6614834</th><td>GSM6614834</td><td>none             </td><td>CUTO37 (CD74-ROS1)</td><td>none             </td><td>CUTO37 (CD74-ROS1)</td></tr>\n",
       "\t<tr><th scope=row>GSM6614835</th><td>GSM6614835</td><td>500nM crizotinib </td><td>CUTO37 (CD74-ROS1)</td><td>500nM crizotinib </td><td>CUTO37 (CD74-ROS1)</td></tr>\n",
       "\t<tr><th scope=row>GSM6614836</th><td>GSM6614836</td><td>500nM crizotinib </td><td>CUTO37 (CD74-ROS1)</td><td>500nM crizotinib </td><td>CUTO37 (CD74-ROS1)</td></tr>\n",
       "\t<tr><th scope=row>GSM6614837</th><td>GSM6614837</td><td>500nM crizotinib </td><td>CUTO37 (CD74-ROS1)</td><td>500nM crizotinib </td><td>CUTO37 (CD74-ROS1)</td></tr>\n",
       "\t<tr><th scope=row>GSM6614838</th><td>GSM6614838</td><td>500nM entrectinib</td><td>CUTO37 (CD74-ROS1)</td><td>500nM entrectinib</td><td>CUTO37 (CD74-ROS1)</td></tr>\n",
       "\t<tr><th scope=row>GSM6614839</th><td>GSM6614839</td><td>500nM entrectinib</td><td>CUTO37 (CD74-ROS1)</td><td>500nM entrectinib</td><td>CUTO37 (CD74-ROS1)</td></tr>\n",
       "\t<tr><th scope=row>GSM6614840</th><td>GSM6614840</td><td>500nM entrectinib</td><td>CUTO37 (CD74-ROS1)</td><td>500nM entrectinib</td><td>CUTO37 (CD74-ROS1)</td></tr>\n",
       "</tbody>\n",
       "</table>\n"
      ],
      "text/latex": [
       "A data.frame: 17 × 5\n",
       "\\begin{tabular}{r|lllll}\n",
       "  & geo\\_accession & treatment:ch1 & cell line:ch1 & treatment & cell\\_line\\\\\n",
       "  & <chr> & <chr> & <chr> & <fct> & <fct>\\\\\n",
       "\\hline\n",
       "\tGSM6614824 & GSM6614824 & none              & CUTO28 (TPM3-ROS1) & none              & CUTO28 (TPM3-ROS1)\\\\\n",
       "\tGSM6614825 & GSM6614825 & none              & CUTO28 (TPM3-ROS1) & none              & CUTO28 (TPM3-ROS1)\\\\\n",
       "\tGSM6614826 & GSM6614826 & none              & CUTO28 (TPM3-ROS1) & none              & CUTO28 (TPM3-ROS1)\\\\\n",
       "\tGSM6614827 & GSM6614827 & 500nM crizotinib  & CUTO28 (TPM3-ROS1) & 500nM crizotinib  & CUTO28 (TPM3-ROS1)\\\\\n",
       "\tGSM6614828 & GSM6614828 & 500nM crizotinib  & CUTO28 (TPM3-ROS1) & 500nM crizotinib  & CUTO28 (TPM3-ROS1)\\\\\n",
       "\tGSM6614829 & GSM6614829 & 500nM crizotinib  & CUTO28 (TPM3-ROS1) & 500nM crizotinib  & CUTO28 (TPM3-ROS1)\\\\\n",
       "\tGSM6614830 & GSM6614830 & 500nM entrectinib & CUTO28 (TPM3-ROS1) & 500nM entrectinib & CUTO28 (TPM3-ROS1)\\\\\n",
       "\tGSM6614831 & GSM6614831 & 500nM entrectinib & CUTO28 (TPM3-ROS1) & 500nM entrectinib & CUTO28 (TPM3-ROS1)\\\\\n",
       "\tGSM6614832 & GSM6614832 & none              & CUTO37 (CD74-ROS1) & none              & CUTO37 (CD74-ROS1)\\\\\n",
       "\tGSM6614833 & GSM6614833 & none              & CUTO37 (CD74-ROS1) & none              & CUTO37 (CD74-ROS1)\\\\\n",
       "\tGSM6614834 & GSM6614834 & none              & CUTO37 (CD74-ROS1) & none              & CUTO37 (CD74-ROS1)\\\\\n",
       "\tGSM6614835 & GSM6614835 & 500nM crizotinib  & CUTO37 (CD74-ROS1) & 500nM crizotinib  & CUTO37 (CD74-ROS1)\\\\\n",
       "\tGSM6614836 & GSM6614836 & 500nM crizotinib  & CUTO37 (CD74-ROS1) & 500nM crizotinib  & CUTO37 (CD74-ROS1)\\\\\n",
       "\tGSM6614837 & GSM6614837 & 500nM crizotinib  & CUTO37 (CD74-ROS1) & 500nM crizotinib  & CUTO37 (CD74-ROS1)\\\\\n",
       "\tGSM6614838 & GSM6614838 & 500nM entrectinib & CUTO37 (CD74-ROS1) & 500nM entrectinib & CUTO37 (CD74-ROS1)\\\\\n",
       "\tGSM6614839 & GSM6614839 & 500nM entrectinib & CUTO37 (CD74-ROS1) & 500nM entrectinib & CUTO37 (CD74-ROS1)\\\\\n",
       "\tGSM6614840 & GSM6614840 & 500nM entrectinib & CUTO37 (CD74-ROS1) & 500nM entrectinib & CUTO37 (CD74-ROS1)\\\\\n",
       "\\end{tabular}\n"
      ],
      "text/markdown": [
       "\n",
       "A data.frame: 17 × 5\n",
       "\n",
       "| <!--/--> | geo_accession &lt;chr&gt; | treatment:ch1 &lt;chr&gt; | cell line:ch1 &lt;chr&gt; | treatment &lt;fct&gt; | cell_line &lt;fct&gt; |\n",
       "|---|---|---|---|---|---|\n",
       "| GSM6614824 | GSM6614824 | none              | CUTO28 (TPM3-ROS1) | none              | CUTO28 (TPM3-ROS1) |\n",
       "| GSM6614825 | GSM6614825 | none              | CUTO28 (TPM3-ROS1) | none              | CUTO28 (TPM3-ROS1) |\n",
       "| GSM6614826 | GSM6614826 | none              | CUTO28 (TPM3-ROS1) | none              | CUTO28 (TPM3-ROS1) |\n",
       "| GSM6614827 | GSM6614827 | 500nM crizotinib  | CUTO28 (TPM3-ROS1) | 500nM crizotinib  | CUTO28 (TPM3-ROS1) |\n",
       "| GSM6614828 | GSM6614828 | 500nM crizotinib  | CUTO28 (TPM3-ROS1) | 500nM crizotinib  | CUTO28 (TPM3-ROS1) |\n",
       "| GSM6614829 | GSM6614829 | 500nM crizotinib  | CUTO28 (TPM3-ROS1) | 500nM crizotinib  | CUTO28 (TPM3-ROS1) |\n",
       "| GSM6614830 | GSM6614830 | 500nM entrectinib | CUTO28 (TPM3-ROS1) | 500nM entrectinib | CUTO28 (TPM3-ROS1) |\n",
       "| GSM6614831 | GSM6614831 | 500nM entrectinib | CUTO28 (TPM3-ROS1) | 500nM entrectinib | CUTO28 (TPM3-ROS1) |\n",
       "| GSM6614832 | GSM6614832 | none              | CUTO37 (CD74-ROS1) | none              | CUTO37 (CD74-ROS1) |\n",
       "| GSM6614833 | GSM6614833 | none              | CUTO37 (CD74-ROS1) | none              | CUTO37 (CD74-ROS1) |\n",
       "| GSM6614834 | GSM6614834 | none              | CUTO37 (CD74-ROS1) | none              | CUTO37 (CD74-ROS1) |\n",
       "| GSM6614835 | GSM6614835 | 500nM crizotinib  | CUTO37 (CD74-ROS1) | 500nM crizotinib  | CUTO37 (CD74-ROS1) |\n",
       "| GSM6614836 | GSM6614836 | 500nM crizotinib  | CUTO37 (CD74-ROS1) | 500nM crizotinib  | CUTO37 (CD74-ROS1) |\n",
       "| GSM6614837 | GSM6614837 | 500nM crizotinib  | CUTO37 (CD74-ROS1) | 500nM crizotinib  | CUTO37 (CD74-ROS1) |\n",
       "| GSM6614838 | GSM6614838 | 500nM entrectinib | CUTO37 (CD74-ROS1) | 500nM entrectinib | CUTO37 (CD74-ROS1) |\n",
       "| GSM6614839 | GSM6614839 | 500nM entrectinib | CUTO37 (CD74-ROS1) | 500nM entrectinib | CUTO37 (CD74-ROS1) |\n",
       "| GSM6614840 | GSM6614840 | 500nM entrectinib | CUTO37 (CD74-ROS1) | 500nM entrectinib | CUTO37 (CD74-ROS1) |\n",
       "\n"
      ],
      "text/plain": [
       "           geo_accession treatment:ch1     cell line:ch1      treatment        \n",
       "GSM6614824 GSM6614824    none              CUTO28 (TPM3-ROS1) none             \n",
       "GSM6614825 GSM6614825    none              CUTO28 (TPM3-ROS1) none             \n",
       "GSM6614826 GSM6614826    none              CUTO28 (TPM3-ROS1) none             \n",
       "GSM6614827 GSM6614827    500nM crizotinib  CUTO28 (TPM3-ROS1) 500nM crizotinib \n",
       "GSM6614828 GSM6614828    500nM crizotinib  CUTO28 (TPM3-ROS1) 500nM crizotinib \n",
       "GSM6614829 GSM6614829    500nM crizotinib  CUTO28 (TPM3-ROS1) 500nM crizotinib \n",
       "GSM6614830 GSM6614830    500nM entrectinib CUTO28 (TPM3-ROS1) 500nM entrectinib\n",
       "GSM6614831 GSM6614831    500nM entrectinib CUTO28 (TPM3-ROS1) 500nM entrectinib\n",
       "GSM6614832 GSM6614832    none              CUTO37 (CD74-ROS1) none             \n",
       "GSM6614833 GSM6614833    none              CUTO37 (CD74-ROS1) none             \n",
       "GSM6614834 GSM6614834    none              CUTO37 (CD74-ROS1) none             \n",
       "GSM6614835 GSM6614835    500nM crizotinib  CUTO37 (CD74-ROS1) 500nM crizotinib \n",
       "GSM6614836 GSM6614836    500nM crizotinib  CUTO37 (CD74-ROS1) 500nM crizotinib \n",
       "GSM6614837 GSM6614837    500nM crizotinib  CUTO37 (CD74-ROS1) 500nM crizotinib \n",
       "GSM6614838 GSM6614838    500nM entrectinib CUTO37 (CD74-ROS1) 500nM entrectinib\n",
       "GSM6614839 GSM6614839    500nM entrectinib CUTO37 (CD74-ROS1) 500nM entrectinib\n",
       "GSM6614840 GSM6614840    500nM entrectinib CUTO37 (CD74-ROS1) 500nM entrectinib\n",
       "           cell_line         \n",
       "GSM6614824 CUTO28 (TPM3-ROS1)\n",
       "GSM6614825 CUTO28 (TPM3-ROS1)\n",
       "GSM6614826 CUTO28 (TPM3-ROS1)\n",
       "GSM6614827 CUTO28 (TPM3-ROS1)\n",
       "GSM6614828 CUTO28 (TPM3-ROS1)\n",
       "GSM6614829 CUTO28 (TPM3-ROS1)\n",
       "GSM6614830 CUTO28 (TPM3-ROS1)\n",
       "GSM6614831 CUTO28 (TPM3-ROS1)\n",
       "GSM6614832 CUTO37 (CD74-ROS1)\n",
       "GSM6614833 CUTO37 (CD74-ROS1)\n",
       "GSM6614834 CUTO37 (CD74-ROS1)\n",
       "GSM6614835 CUTO37 (CD74-ROS1)\n",
       "GSM6614836 CUTO37 (CD74-ROS1)\n",
       "GSM6614837 CUTO37 (CD74-ROS1)\n",
       "GSM6614838 CUTO37 (CD74-ROS1)\n",
       "GSM6614839 CUTO37 (CD74-ROS1)\n",
       "GSM6614840 CUTO37 (CD74-ROS1)"
      ]
     },
     "metadata": {},
     "output_type": "display_data"
    }
   ],
   "source": [
    "metadata_clean_gse214715"
   ]
  },
  {
   "cell_type": "markdown",
   "metadata": {},
   "source": [
    "## 239844"
   ]
  },
  {
   "cell_type": "code",
   "execution_count": 13,
   "metadata": {
    "vscode": {
     "languageId": "r"
    }
   },
   "outputs": [
    {
     "data": {
      "text/html": [
       "<style>\n",
       ".list-inline {list-style: none; margin:0; padding: 0}\n",
       ".list-inline>li {display: inline-block}\n",
       ".list-inline>li:not(:last-child)::after {content: \"\\00b7\"; padding: 0 .5ex}\n",
       "</style>\n",
       "<ol class=list-inline><li>'DMSO'</li><li>'250 nM crizotinib'</li></ol>\n"
      ],
      "text/latex": [
       "\\begin{enumerate*}\n",
       "\\item 'DMSO'\n",
       "\\item '250 nM crizotinib'\n",
       "\\end{enumerate*}\n"
      ],
      "text/markdown": [
       "1. 'DMSO'\n",
       "2. '250 nM crizotinib'\n",
       "\n",
       "\n"
      ],
      "text/plain": [
       "[1] \"DMSO\"              \"250 nM crizotinib\""
      ]
     },
     "metadata": {},
     "output_type": "display_data"
    }
   ],
   "source": [
    "# Prepare count matrix\n",
    "# We need the transposed matrix\n",
    "count_clean_matrix_239844 <- raw_counts_gse239844 %>%\n",
    "  tibble::column_to_rownames(\"GeneID\") %>%\n",
    "  dplyr::select(all_of(gse239844$geo_accession)) %>%\n",
    "  as.matrix()\n",
    "\n",
    "# Prepare metadata\n",
    "metadata_clean_gse239844 <- gse239844 %>%\n",
    "  dplyr::select(geo_accession, `treatment:ch1`, `cell line:ch1`) %>%\n",
    "  # mutate converts the treatment:ch1 column (character)\n",
    "  #to a factor (categorical variable).\n",
    "  #Example: If treatment:ch1 contains \"none\" and \"250nM_crizotinib\",\n",
    "  # these become factor levels.\n",
    "  # We should ensure that the factor levels are in the correct order.\n",
    "  # The first level is the reference level.\n",
    "  # The reference level is the one that will be used as a baseline\n",
    "  # for comparison in the differential expression analysis.\n",
    "  dplyr::mutate(treatment = factor(`treatment:ch1`) %>% relevel(ref = \"DMSO\")) %>%\n",
    "  dplyr::mutate(cell_line = factor(`cell line:ch1`))\n",
    "\n",
    "# Verify levels\n",
    "levels(metadata_clean_gse239844$treatment)  # none should be first\n"
   ]
  },
  {
   "cell_type": "code",
   "execution_count": 14,
   "metadata": {
    "vscode": {
     "languageId": "r"
    }
   },
   "outputs": [
    {
     "data": {
      "text/html": [
       "<table class=\"dataframe\">\n",
       "<caption>A data.frame: 42 × 5</caption>\n",
       "<thead>\n",
       "\t<tr><th></th><th scope=col>geo_accession</th><th scope=col>treatment:ch1</th><th scope=col>cell line:ch1</th><th scope=col>treatment</th><th scope=col>cell_line</th></tr>\n",
       "\t<tr><th></th><th scope=col>&lt;chr&gt;</th><th scope=col>&lt;chr&gt;</th><th scope=col>&lt;chr&gt;</th><th scope=col>&lt;fct&gt;</th><th scope=col>&lt;fct&gt;</th></tr>\n",
       "</thead>\n",
       "<tbody>\n",
       "\t<tr><th scope=row>GSM7675355</th><td>GSM7675355</td><td>DMSO             </td><td>CUTO23</td><td>DMSO             </td><td>CUTO23</td></tr>\n",
       "\t<tr><th scope=row>GSM7675356</th><td>GSM7675356</td><td>DMSO             </td><td>CUTO23</td><td>DMSO             </td><td>CUTO23</td></tr>\n",
       "\t<tr><th scope=row>GSM7675357</th><td>GSM7675357</td><td>DMSO             </td><td>CUTO23</td><td>DMSO             </td><td>CUTO23</td></tr>\n",
       "\t<tr><th scope=row>GSM7675358</th><td>GSM7675358</td><td>250 nM crizotinib</td><td>CUTO23</td><td>250 nM crizotinib</td><td>CUTO23</td></tr>\n",
       "\t<tr><th scope=row>GSM7675359</th><td>GSM7675359</td><td>250 nM crizotinib</td><td>CUTO23</td><td>250 nM crizotinib</td><td>CUTO23</td></tr>\n",
       "\t<tr><th scope=row>GSM7675360</th><td>GSM7675360</td><td>250 nM crizotinib</td><td>CUTO23</td><td>250 nM crizotinib</td><td>CUTO23</td></tr>\n",
       "\t<tr><th scope=row>GSM7675361</th><td>GSM7675361</td><td>DMSO             </td><td>CUTO27</td><td>DMSO             </td><td>CUTO27</td></tr>\n",
       "\t<tr><th scope=row>GSM7675362</th><td>GSM7675362</td><td>DMSO             </td><td>CUTO27</td><td>DMSO             </td><td>CUTO27</td></tr>\n",
       "\t<tr><th scope=row>GSM7675363</th><td>GSM7675363</td><td>DMSO             </td><td>CUTO27</td><td>DMSO             </td><td>CUTO27</td></tr>\n",
       "\t<tr><th scope=row>GSM7675364</th><td>GSM7675364</td><td>250 nM crizotinib</td><td>CUTO27</td><td>250 nM crizotinib</td><td>CUTO27</td></tr>\n",
       "\t<tr><th scope=row>GSM7675365</th><td>GSM7675365</td><td>250 nM crizotinib</td><td>CUTO27</td><td>250 nM crizotinib</td><td>CUTO27</td></tr>\n",
       "\t<tr><th scope=row>GSM7675366</th><td>GSM7675366</td><td>250 nM crizotinib</td><td>CUTO27</td><td>250 nM crizotinib</td><td>CUTO27</td></tr>\n",
       "\t<tr><th scope=row>GSM7675367</th><td>GSM7675367</td><td>DMSO             </td><td>CUTO28</td><td>DMSO             </td><td>CUTO28</td></tr>\n",
       "\t<tr><th scope=row>GSM7675368</th><td>GSM7675368</td><td>DMSO             </td><td>CUTO28</td><td>DMSO             </td><td>CUTO28</td></tr>\n",
       "\t<tr><th scope=row>GSM7675369</th><td>GSM7675369</td><td>DMSO             </td><td>CUTO28</td><td>DMSO             </td><td>CUTO28</td></tr>\n",
       "\t<tr><th scope=row>GSM7675370</th><td>GSM7675370</td><td>250 nM crizotinib</td><td>CUTO28</td><td>250 nM crizotinib</td><td>CUTO28</td></tr>\n",
       "\t<tr><th scope=row>GSM7675371</th><td>GSM7675371</td><td>250 nM crizotinib</td><td>CUTO28</td><td>250 nM crizotinib</td><td>CUTO28</td></tr>\n",
       "\t<tr><th scope=row>GSM7675372</th><td>GSM7675372</td><td>250 nM crizotinib</td><td>CUTO28</td><td>250 nM crizotinib</td><td>CUTO28</td></tr>\n",
       "\t<tr><th scope=row>GSM7675373</th><td>GSM7675373</td><td>DMSO             </td><td>CUTO33</td><td>DMSO             </td><td>CUTO33</td></tr>\n",
       "\t<tr><th scope=row>GSM7675374</th><td>GSM7675374</td><td>DMSO             </td><td>CUTO33</td><td>DMSO             </td><td>CUTO33</td></tr>\n",
       "\t<tr><th scope=row>GSM7675375</th><td>GSM7675375</td><td>DMSO             </td><td>CUTO33</td><td>DMSO             </td><td>CUTO33</td></tr>\n",
       "\t<tr><th scope=row>GSM7675376</th><td>GSM7675376</td><td>250 nM crizotinib</td><td>CUTO33</td><td>250 nM crizotinib</td><td>CUTO33</td></tr>\n",
       "\t<tr><th scope=row>GSM7675377</th><td>GSM7675377</td><td>250 nM crizotinib</td><td>CUTO33</td><td>250 nM crizotinib</td><td>CUTO33</td></tr>\n",
       "\t<tr><th scope=row>GSM7675378</th><td>GSM7675378</td><td>250 nM crizotinib</td><td>CUTO33</td><td>250 nM crizotinib</td><td>CUTO33</td></tr>\n",
       "\t<tr><th scope=row>GSM7675379</th><td>GSM7675379</td><td>DMSO             </td><td>CUTO37</td><td>DMSO             </td><td>CUTO37</td></tr>\n",
       "\t<tr><th scope=row>GSM7675380</th><td>GSM7675380</td><td>DMSO             </td><td>CUTO37</td><td>DMSO             </td><td>CUTO37</td></tr>\n",
       "\t<tr><th scope=row>GSM7675381</th><td>GSM7675381</td><td>DMSO             </td><td>CUTO37</td><td>DMSO             </td><td>CUTO37</td></tr>\n",
       "\t<tr><th scope=row>GSM7675382</th><td>GSM7675382</td><td>250 nM crizotinib</td><td>CUTO37</td><td>250 nM crizotinib</td><td>CUTO37</td></tr>\n",
       "\t<tr><th scope=row>GSM7675383</th><td>GSM7675383</td><td>250 nM crizotinib</td><td>CUTO37</td><td>250 nM crizotinib</td><td>CUTO37</td></tr>\n",
       "\t<tr><th scope=row>GSM7675384</th><td>GSM7675384</td><td>250 nM crizotinib</td><td>CUTO37</td><td>250 nM crizotinib</td><td>CUTO37</td></tr>\n",
       "\t<tr><th scope=row>GSM7675385</th><td>GSM7675385</td><td>DMSO             </td><td>CUTO38</td><td>DMSO             </td><td>CUTO38</td></tr>\n",
       "\t<tr><th scope=row>GSM7675386</th><td>GSM7675386</td><td>DMSO             </td><td>CUTO38</td><td>DMSO             </td><td>CUTO38</td></tr>\n",
       "\t<tr><th scope=row>GSM7675387</th><td>GSM7675387</td><td>DMSO             </td><td>CUTO38</td><td>DMSO             </td><td>CUTO38</td></tr>\n",
       "\t<tr><th scope=row>GSM7675388</th><td>GSM7675388</td><td>250 nM crizotinib</td><td>CUTO38</td><td>250 nM crizotinib</td><td>CUTO38</td></tr>\n",
       "\t<tr><th scope=row>GSM7675389</th><td>GSM7675389</td><td>250 nM crizotinib</td><td>CUTO38</td><td>250 nM crizotinib</td><td>CUTO38</td></tr>\n",
       "\t<tr><th scope=row>GSM7675390</th><td>GSM7675390</td><td>250 nM crizotinib</td><td>CUTO38</td><td>250 nM crizotinib</td><td>CUTO38</td></tr>\n",
       "\t<tr><th scope=row>GSM7675391</th><td>GSM7675391</td><td>DMSO             </td><td>HCC78 </td><td>DMSO             </td><td>HCC78 </td></tr>\n",
       "\t<tr><th scope=row>GSM7675392</th><td>GSM7675392</td><td>DMSO             </td><td>HCC78 </td><td>DMSO             </td><td>HCC78 </td></tr>\n",
       "\t<tr><th scope=row>GSM7675393</th><td>GSM7675393</td><td>DMSO             </td><td>HCC78 </td><td>DMSO             </td><td>HCC78 </td></tr>\n",
       "\t<tr><th scope=row>GSM7675394</th><td>GSM7675394</td><td>250 nM crizotinib</td><td>HCC78 </td><td>250 nM crizotinib</td><td>HCC78 </td></tr>\n",
       "\t<tr><th scope=row>GSM7675395</th><td>GSM7675395</td><td>250 nM crizotinib</td><td>HCC78 </td><td>250 nM crizotinib</td><td>HCC78 </td></tr>\n",
       "\t<tr><th scope=row>GSM7675396</th><td>GSM7675396</td><td>250 nM crizotinib</td><td>HCC78 </td><td>250 nM crizotinib</td><td>HCC78 </td></tr>\n",
       "</tbody>\n",
       "</table>\n"
      ],
      "text/latex": [
       "A data.frame: 42 × 5\n",
       "\\begin{tabular}{r|lllll}\n",
       "  & geo\\_accession & treatment:ch1 & cell line:ch1 & treatment & cell\\_line\\\\\n",
       "  & <chr> & <chr> & <chr> & <fct> & <fct>\\\\\n",
       "\\hline\n",
       "\tGSM7675355 & GSM7675355 & DMSO              & CUTO23 & DMSO              & CUTO23\\\\\n",
       "\tGSM7675356 & GSM7675356 & DMSO              & CUTO23 & DMSO              & CUTO23\\\\\n",
       "\tGSM7675357 & GSM7675357 & DMSO              & CUTO23 & DMSO              & CUTO23\\\\\n",
       "\tGSM7675358 & GSM7675358 & 250 nM crizotinib & CUTO23 & 250 nM crizotinib & CUTO23\\\\\n",
       "\tGSM7675359 & GSM7675359 & 250 nM crizotinib & CUTO23 & 250 nM crizotinib & CUTO23\\\\\n",
       "\tGSM7675360 & GSM7675360 & 250 nM crizotinib & CUTO23 & 250 nM crizotinib & CUTO23\\\\\n",
       "\tGSM7675361 & GSM7675361 & DMSO              & CUTO27 & DMSO              & CUTO27\\\\\n",
       "\tGSM7675362 & GSM7675362 & DMSO              & CUTO27 & DMSO              & CUTO27\\\\\n",
       "\tGSM7675363 & GSM7675363 & DMSO              & CUTO27 & DMSO              & CUTO27\\\\\n",
       "\tGSM7675364 & GSM7675364 & 250 nM crizotinib & CUTO27 & 250 nM crizotinib & CUTO27\\\\\n",
       "\tGSM7675365 & GSM7675365 & 250 nM crizotinib & CUTO27 & 250 nM crizotinib & CUTO27\\\\\n",
       "\tGSM7675366 & GSM7675366 & 250 nM crizotinib & CUTO27 & 250 nM crizotinib & CUTO27\\\\\n",
       "\tGSM7675367 & GSM7675367 & DMSO              & CUTO28 & DMSO              & CUTO28\\\\\n",
       "\tGSM7675368 & GSM7675368 & DMSO              & CUTO28 & DMSO              & CUTO28\\\\\n",
       "\tGSM7675369 & GSM7675369 & DMSO              & CUTO28 & DMSO              & CUTO28\\\\\n",
       "\tGSM7675370 & GSM7675370 & 250 nM crizotinib & CUTO28 & 250 nM crizotinib & CUTO28\\\\\n",
       "\tGSM7675371 & GSM7675371 & 250 nM crizotinib & CUTO28 & 250 nM crizotinib & CUTO28\\\\\n",
       "\tGSM7675372 & GSM7675372 & 250 nM crizotinib & CUTO28 & 250 nM crizotinib & CUTO28\\\\\n",
       "\tGSM7675373 & GSM7675373 & DMSO              & CUTO33 & DMSO              & CUTO33\\\\\n",
       "\tGSM7675374 & GSM7675374 & DMSO              & CUTO33 & DMSO              & CUTO33\\\\\n",
       "\tGSM7675375 & GSM7675375 & DMSO              & CUTO33 & DMSO              & CUTO33\\\\\n",
       "\tGSM7675376 & GSM7675376 & 250 nM crizotinib & CUTO33 & 250 nM crizotinib & CUTO33\\\\\n",
       "\tGSM7675377 & GSM7675377 & 250 nM crizotinib & CUTO33 & 250 nM crizotinib & CUTO33\\\\\n",
       "\tGSM7675378 & GSM7675378 & 250 nM crizotinib & CUTO33 & 250 nM crizotinib & CUTO33\\\\\n",
       "\tGSM7675379 & GSM7675379 & DMSO              & CUTO37 & DMSO              & CUTO37\\\\\n",
       "\tGSM7675380 & GSM7675380 & DMSO              & CUTO37 & DMSO              & CUTO37\\\\\n",
       "\tGSM7675381 & GSM7675381 & DMSO              & CUTO37 & DMSO              & CUTO37\\\\\n",
       "\tGSM7675382 & GSM7675382 & 250 nM crizotinib & CUTO37 & 250 nM crizotinib & CUTO37\\\\\n",
       "\tGSM7675383 & GSM7675383 & 250 nM crizotinib & CUTO37 & 250 nM crizotinib & CUTO37\\\\\n",
       "\tGSM7675384 & GSM7675384 & 250 nM crizotinib & CUTO37 & 250 nM crizotinib & CUTO37\\\\\n",
       "\tGSM7675385 & GSM7675385 & DMSO              & CUTO38 & DMSO              & CUTO38\\\\\n",
       "\tGSM7675386 & GSM7675386 & DMSO              & CUTO38 & DMSO              & CUTO38\\\\\n",
       "\tGSM7675387 & GSM7675387 & DMSO              & CUTO38 & DMSO              & CUTO38\\\\\n",
       "\tGSM7675388 & GSM7675388 & 250 nM crizotinib & CUTO38 & 250 nM crizotinib & CUTO38\\\\\n",
       "\tGSM7675389 & GSM7675389 & 250 nM crizotinib & CUTO38 & 250 nM crizotinib & CUTO38\\\\\n",
       "\tGSM7675390 & GSM7675390 & 250 nM crizotinib & CUTO38 & 250 nM crizotinib & CUTO38\\\\\n",
       "\tGSM7675391 & GSM7675391 & DMSO              & HCC78  & DMSO              & HCC78 \\\\\n",
       "\tGSM7675392 & GSM7675392 & DMSO              & HCC78  & DMSO              & HCC78 \\\\\n",
       "\tGSM7675393 & GSM7675393 & DMSO              & HCC78  & DMSO              & HCC78 \\\\\n",
       "\tGSM7675394 & GSM7675394 & 250 nM crizotinib & HCC78  & 250 nM crizotinib & HCC78 \\\\\n",
       "\tGSM7675395 & GSM7675395 & 250 nM crizotinib & HCC78  & 250 nM crizotinib & HCC78 \\\\\n",
       "\tGSM7675396 & GSM7675396 & 250 nM crizotinib & HCC78  & 250 nM crizotinib & HCC78 \\\\\n",
       "\\end{tabular}\n"
      ],
      "text/markdown": [
       "\n",
       "A data.frame: 42 × 5\n",
       "\n",
       "| <!--/--> | geo_accession &lt;chr&gt; | treatment:ch1 &lt;chr&gt; | cell line:ch1 &lt;chr&gt; | treatment &lt;fct&gt; | cell_line &lt;fct&gt; |\n",
       "|---|---|---|---|---|---|\n",
       "| GSM7675355 | GSM7675355 | DMSO              | CUTO23 | DMSO              | CUTO23 |\n",
       "| GSM7675356 | GSM7675356 | DMSO              | CUTO23 | DMSO              | CUTO23 |\n",
       "| GSM7675357 | GSM7675357 | DMSO              | CUTO23 | DMSO              | CUTO23 |\n",
       "| GSM7675358 | GSM7675358 | 250 nM crizotinib | CUTO23 | 250 nM crizotinib | CUTO23 |\n",
       "| GSM7675359 | GSM7675359 | 250 nM crizotinib | CUTO23 | 250 nM crizotinib | CUTO23 |\n",
       "| GSM7675360 | GSM7675360 | 250 nM crizotinib | CUTO23 | 250 nM crizotinib | CUTO23 |\n",
       "| GSM7675361 | GSM7675361 | DMSO              | CUTO27 | DMSO              | CUTO27 |\n",
       "| GSM7675362 | GSM7675362 | DMSO              | CUTO27 | DMSO              | CUTO27 |\n",
       "| GSM7675363 | GSM7675363 | DMSO              | CUTO27 | DMSO              | CUTO27 |\n",
       "| GSM7675364 | GSM7675364 | 250 nM crizotinib | CUTO27 | 250 nM crizotinib | CUTO27 |\n",
       "| GSM7675365 | GSM7675365 | 250 nM crizotinib | CUTO27 | 250 nM crizotinib | CUTO27 |\n",
       "| GSM7675366 | GSM7675366 | 250 nM crizotinib | CUTO27 | 250 nM crizotinib | CUTO27 |\n",
       "| GSM7675367 | GSM7675367 | DMSO              | CUTO28 | DMSO              | CUTO28 |\n",
       "| GSM7675368 | GSM7675368 | DMSO              | CUTO28 | DMSO              | CUTO28 |\n",
       "| GSM7675369 | GSM7675369 | DMSO              | CUTO28 | DMSO              | CUTO28 |\n",
       "| GSM7675370 | GSM7675370 | 250 nM crizotinib | CUTO28 | 250 nM crizotinib | CUTO28 |\n",
       "| GSM7675371 | GSM7675371 | 250 nM crizotinib | CUTO28 | 250 nM crizotinib | CUTO28 |\n",
       "| GSM7675372 | GSM7675372 | 250 nM crizotinib | CUTO28 | 250 nM crizotinib | CUTO28 |\n",
       "| GSM7675373 | GSM7675373 | DMSO              | CUTO33 | DMSO              | CUTO33 |\n",
       "| GSM7675374 | GSM7675374 | DMSO              | CUTO33 | DMSO              | CUTO33 |\n",
       "| GSM7675375 | GSM7675375 | DMSO              | CUTO33 | DMSO              | CUTO33 |\n",
       "| GSM7675376 | GSM7675376 | 250 nM crizotinib | CUTO33 | 250 nM crizotinib | CUTO33 |\n",
       "| GSM7675377 | GSM7675377 | 250 nM crizotinib | CUTO33 | 250 nM crizotinib | CUTO33 |\n",
       "| GSM7675378 | GSM7675378 | 250 nM crizotinib | CUTO33 | 250 nM crizotinib | CUTO33 |\n",
       "| GSM7675379 | GSM7675379 | DMSO              | CUTO37 | DMSO              | CUTO37 |\n",
       "| GSM7675380 | GSM7675380 | DMSO              | CUTO37 | DMSO              | CUTO37 |\n",
       "| GSM7675381 | GSM7675381 | DMSO              | CUTO37 | DMSO              | CUTO37 |\n",
       "| GSM7675382 | GSM7675382 | 250 nM crizotinib | CUTO37 | 250 nM crizotinib | CUTO37 |\n",
       "| GSM7675383 | GSM7675383 | 250 nM crizotinib | CUTO37 | 250 nM crizotinib | CUTO37 |\n",
       "| GSM7675384 | GSM7675384 | 250 nM crizotinib | CUTO37 | 250 nM crizotinib | CUTO37 |\n",
       "| GSM7675385 | GSM7675385 | DMSO              | CUTO38 | DMSO              | CUTO38 |\n",
       "| GSM7675386 | GSM7675386 | DMSO              | CUTO38 | DMSO              | CUTO38 |\n",
       "| GSM7675387 | GSM7675387 | DMSO              | CUTO38 | DMSO              | CUTO38 |\n",
       "| GSM7675388 | GSM7675388 | 250 nM crizotinib | CUTO38 | 250 nM crizotinib | CUTO38 |\n",
       "| GSM7675389 | GSM7675389 | 250 nM crizotinib | CUTO38 | 250 nM crizotinib | CUTO38 |\n",
       "| GSM7675390 | GSM7675390 | 250 nM crizotinib | CUTO38 | 250 nM crizotinib | CUTO38 |\n",
       "| GSM7675391 | GSM7675391 | DMSO              | HCC78  | DMSO              | HCC78  |\n",
       "| GSM7675392 | GSM7675392 | DMSO              | HCC78  | DMSO              | HCC78  |\n",
       "| GSM7675393 | GSM7675393 | DMSO              | HCC78  | DMSO              | HCC78  |\n",
       "| GSM7675394 | GSM7675394 | 250 nM crizotinib | HCC78  | 250 nM crizotinib | HCC78  |\n",
       "| GSM7675395 | GSM7675395 | 250 nM crizotinib | HCC78  | 250 nM crizotinib | HCC78  |\n",
       "| GSM7675396 | GSM7675396 | 250 nM crizotinib | HCC78  | 250 nM crizotinib | HCC78  |\n",
       "\n"
      ],
      "text/plain": [
       "           geo_accession treatment:ch1     cell line:ch1 treatment        \n",
       "GSM7675355 GSM7675355    DMSO              CUTO23        DMSO             \n",
       "GSM7675356 GSM7675356    DMSO              CUTO23        DMSO             \n",
       "GSM7675357 GSM7675357    DMSO              CUTO23        DMSO             \n",
       "GSM7675358 GSM7675358    250 nM crizotinib CUTO23        250 nM crizotinib\n",
       "GSM7675359 GSM7675359    250 nM crizotinib CUTO23        250 nM crizotinib\n",
       "GSM7675360 GSM7675360    250 nM crizotinib CUTO23        250 nM crizotinib\n",
       "GSM7675361 GSM7675361    DMSO              CUTO27        DMSO             \n",
       "GSM7675362 GSM7675362    DMSO              CUTO27        DMSO             \n",
       "GSM7675363 GSM7675363    DMSO              CUTO27        DMSO             \n",
       "GSM7675364 GSM7675364    250 nM crizotinib CUTO27        250 nM crizotinib\n",
       "GSM7675365 GSM7675365    250 nM crizotinib CUTO27        250 nM crizotinib\n",
       "GSM7675366 GSM7675366    250 nM crizotinib CUTO27        250 nM crizotinib\n",
       "GSM7675367 GSM7675367    DMSO              CUTO28        DMSO             \n",
       "GSM7675368 GSM7675368    DMSO              CUTO28        DMSO             \n",
       "GSM7675369 GSM7675369    DMSO              CUTO28        DMSO             \n",
       "GSM7675370 GSM7675370    250 nM crizotinib CUTO28        250 nM crizotinib\n",
       "GSM7675371 GSM7675371    250 nM crizotinib CUTO28        250 nM crizotinib\n",
       "GSM7675372 GSM7675372    250 nM crizotinib CUTO28        250 nM crizotinib\n",
       "GSM7675373 GSM7675373    DMSO              CUTO33        DMSO             \n",
       "GSM7675374 GSM7675374    DMSO              CUTO33        DMSO             \n",
       "GSM7675375 GSM7675375    DMSO              CUTO33        DMSO             \n",
       "GSM7675376 GSM7675376    250 nM crizotinib CUTO33        250 nM crizotinib\n",
       "GSM7675377 GSM7675377    250 nM crizotinib CUTO33        250 nM crizotinib\n",
       "GSM7675378 GSM7675378    250 nM crizotinib CUTO33        250 nM crizotinib\n",
       "GSM7675379 GSM7675379    DMSO              CUTO37        DMSO             \n",
       "GSM7675380 GSM7675380    DMSO              CUTO37        DMSO             \n",
       "GSM7675381 GSM7675381    DMSO              CUTO37        DMSO             \n",
       "GSM7675382 GSM7675382    250 nM crizotinib CUTO37        250 nM crizotinib\n",
       "GSM7675383 GSM7675383    250 nM crizotinib CUTO37        250 nM crizotinib\n",
       "GSM7675384 GSM7675384    250 nM crizotinib CUTO37        250 nM crizotinib\n",
       "GSM7675385 GSM7675385    DMSO              CUTO38        DMSO             \n",
       "GSM7675386 GSM7675386    DMSO              CUTO38        DMSO             \n",
       "GSM7675387 GSM7675387    DMSO              CUTO38        DMSO             \n",
       "GSM7675388 GSM7675388    250 nM crizotinib CUTO38        250 nM crizotinib\n",
       "GSM7675389 GSM7675389    250 nM crizotinib CUTO38        250 nM crizotinib\n",
       "GSM7675390 GSM7675390    250 nM crizotinib CUTO38        250 nM crizotinib\n",
       "GSM7675391 GSM7675391    DMSO              HCC78         DMSO             \n",
       "GSM7675392 GSM7675392    DMSO              HCC78         DMSO             \n",
       "GSM7675393 GSM7675393    DMSO              HCC78         DMSO             \n",
       "GSM7675394 GSM7675394    250 nM crizotinib HCC78         250 nM crizotinib\n",
       "GSM7675395 GSM7675395    250 nM crizotinib HCC78         250 nM crizotinib\n",
       "GSM7675396 GSM7675396    250 nM crizotinib HCC78         250 nM crizotinib\n",
       "           cell_line\n",
       "GSM7675355 CUTO23   \n",
       "GSM7675356 CUTO23   \n",
       "GSM7675357 CUTO23   \n",
       "GSM7675358 CUTO23   \n",
       "GSM7675359 CUTO23   \n",
       "GSM7675360 CUTO23   \n",
       "GSM7675361 CUTO27   \n",
       "GSM7675362 CUTO27   \n",
       "GSM7675363 CUTO27   \n",
       "GSM7675364 CUTO27   \n",
       "GSM7675365 CUTO27   \n",
       "GSM7675366 CUTO27   \n",
       "GSM7675367 CUTO28   \n",
       "GSM7675368 CUTO28   \n",
       "GSM7675369 CUTO28   \n",
       "GSM7675370 CUTO28   \n",
       "GSM7675371 CUTO28   \n",
       "GSM7675372 CUTO28   \n",
       "GSM7675373 CUTO33   \n",
       "GSM7675374 CUTO33   \n",
       "GSM7675375 CUTO33   \n",
       "GSM7675376 CUTO33   \n",
       "GSM7675377 CUTO33   \n",
       "GSM7675378 CUTO33   \n",
       "GSM7675379 CUTO37   \n",
       "GSM7675380 CUTO37   \n",
       "GSM7675381 CUTO37   \n",
       "GSM7675382 CUTO37   \n",
       "GSM7675383 CUTO37   \n",
       "GSM7675384 CUTO37   \n",
       "GSM7675385 CUTO38   \n",
       "GSM7675386 CUTO38   \n",
       "GSM7675387 CUTO38   \n",
       "GSM7675388 CUTO38   \n",
       "GSM7675389 CUTO38   \n",
       "GSM7675390 CUTO38   \n",
       "GSM7675391 HCC78    \n",
       "GSM7675392 HCC78    \n",
       "GSM7675393 HCC78    \n",
       "GSM7675394 HCC78    \n",
       "GSM7675395 HCC78    \n",
       "GSM7675396 HCC78    "
      ]
     },
     "metadata": {},
     "output_type": "display_data"
    }
   ],
   "source": [
    "metadata_clean_gse239844"
   ]
  },
  {
   "cell_type": "markdown",
   "metadata": {
    "vscode": {
     "languageId": "r"
    }
   },
   "source": [
    "# DESeq\n",
    "For identifying differentially expressed genes between conditions.\n",
    "It does 3 things:\n",
    "\n",
    "1. Normalizes your data: Adjusts for the fact that some samples have more total sequencing reads than others.\n",
    "2. Estimates variability (Dispersion): Calculates how noisy each gene's measurements are. For genes with little data, it \"borrows\" information from other similar genes to get better estimates.\n",
    " - With only 3 replicates per condition, it's hard to get reliable estimates of variability for each gene. \n",
    " So DESeq \"borrows information\" across genes by fitting a curve to all genes' variability data.\n",
    " Genes with similar expression levels tend to have similar variability. This sharing of information improves the accuracy of your statistical tests\n",
    "3. Tests for differences: Compares expression between your treatment groups, calculating:\n",
    "\n",
    "- How big the difference is (fold change)\n",
    "- Whether the difference is statistically significant (p-value)\n",
    "\n",
    "\n",
    "In the DESeq results table, these two columns provide essential information about the magnitude and reliability of expression changes:\n",
    "\n",
    "**baseMean** is the average of the normalized counts for each gene, calculated across all samples in the dataset, \n",
    "regardless of group assignment; it's a general indicator of how highly a gene is expressed overall.\n",
    "\n",
    "**log2FoldChange** is the logarithm (base 2) of the fold change in expression between your conditions:\n",
    "- It represents how much a gene's expression changed due to your treatment\n",
    "- Using log2 scale makes the values symmetric and easier to interpret\n",
    "- For example:\n",
    "  - log2FoldChange = 1 means the gene is expressed 2× higher in treatment vs control\n",
    "  - log2FoldChange = 2 means 4× higher expression\n",
    "  - log2FoldChange = -1 means 2× lower expression (or 1/2)\n",
    "  - log2FoldChange = 0 means no change\n",
    "\n",
    "**lfcSE** stands for \"log fold change standard error\":\n",
    "- It measures the uncertainty in your log2FoldChange estimate\n",
    "- Smaller lfcSE values indicate more precise estimates\n",
    "- It depends on:\n",
    "  - The variability between your replicates (more consistent replicates = smaller lfcSE)\n",
    "  - The overall expression level (higher counts typically have smaller lfcSE)\n",
    "  - The number of replicates (more replicates = smaller lfcSE)\n",
    "\n",
    "These values work together in significance testing:\n",
    "- The Wald statistic is essentially log2FoldChange ÷ lfcSE\n",
    "- Genes with large fold changes (high absolute log2FoldChange) and low uncertainty (small lfcSE) will have the smallest p-values\n",
    "\n",
    "When interpreting DESeq results, scientists typically look for genes with both:\n",
    "1. A substantial log2FoldChange (often |log2FoldChange| > 1)\n",
    "2. A significant adjusted p-value (padj < 0.05)"
   ]
  },
  {
   "cell_type": "markdown",
   "metadata": {},
   "source": [
    "## 214715 \n",
    "\n",
    "We are going to find the significant difference in expression for this study, using all the control and treatment cell lines."
   ]
  },
  {
   "cell_type": "code",
   "execution_count": 15,
   "metadata": {
    "vscode": {
     "languageId": "r"
    }
   },
   "outputs": [
    {
     "name": "stderr",
     "output_type": "stream",
     "text": [
      "  Note: levels of factors in the design contain characters other than\n",
      "  letters, numbers, '_' and '.'. It is recommended (but not required) to use\n",
      "  only letters, numbers, and delimiters '_' or '.', as these are safe characters\n",
      "  for column names in R. [This is a message, not a warning or an error]\n",
      "\n",
      "estimating size factors\n",
      "\n",
      "  Note: levels of factors in the design contain characters other than\n",
      "  letters, numbers, '_' and '.'. It is recommended (but not required) to use\n",
      "  only letters, numbers, and delimiters '_' or '.', as these are safe characters\n",
      "  for column names in R. [This is a message, not a warning or an error]\n",
      "\n",
      "estimating dispersions\n",
      "\n",
      "gene-wise dispersion estimates\n",
      "\n",
      "mean-dispersion relationship\n",
      "\n",
      "  Note: levels of factors in the design contain characters other than\n",
      "  letters, numbers, '_' and '.'. It is recommended (but not required) to use\n",
      "  only letters, numbers, and delimiters '_' or '.', as these are safe characters\n",
      "  for column names in R. [This is a message, not a warning or an error]\n",
      "\n",
      "final dispersion estimates\n",
      "\n",
      "  Note: levels of factors in the design contain characters other than\n",
      "  letters, numbers, '_' and '.'. It is recommended (but not required) to use\n",
      "  only letters, numbers, and delimiters '_' or '.', as these are safe characters\n",
      "  for column names in R. [This is a message, not a warning or an error]\n",
      "\n",
      "fitting model and testing\n",
      "\n"
     ]
    }
   ],
   "source": [
    "# Create DESeq2 object\n",
    "# DESeqDataSetFromMatrix creates a DESeq2 object from a count matrix and metadata.\n",
    "# The count matrix should have genes as rows and samples as columns.\n",
    "# The metadata should have samples as rows and columns for each variable of interest.\n",
    "# The design formula specifies the variables to be used in the analysis.\n",
    "# In this case, we are interested in the treatment variable.\n",
    "dds_214715 <- DESeqDataSetFromMatrix(\n",
    "  countData = count_clean_matrix_214715,\n",
    "  colData = metadata_clean_gse214715,\n",
    "  design = ~ treatment # treatment MUST be in colData\n",
    ")\n",
    "\n",
    "# Run analysis\n",
    "dds_214715 <- DESeq(dds_214715)\n"
   ]
  },
  {
   "cell_type": "code",
   "execution_count": 168,
   "metadata": {
    "vscode": {
     "languageId": "r"
    }
   },
   "outputs": [
    {
     "name": "stdout",
     "output_type": "stream",
     "text": [
      "\n",
      "out of 29080 with nonzero total read count\n",
      "adjusted p-value < 0.1\n",
      "LFC > 0 (up)       : 932, 3.2%\n",
      "LFC < 0 (down)     : 1003, 3.4%\n",
      "outliers [1]       : 26, 0.089%\n",
      "low counts [2]     : 8298, 29%\n",
      "(mean count < 2)\n",
      "[1] see 'cooksCutoff' argument of ?results\n",
      "[2] see 'independentFiltering' argument of ?results\n",
      "\n"
     ]
    }
   ],
   "source": [
    "# Extract Results\n",
    "res_214715 <- results(dds_214715)\n",
    "\n",
    "# Summarize Results\n",
    "summary(res_214715)\n"
   ]
  },
  {
   "cell_type": "code",
   "execution_count": 169,
   "metadata": {
    "vscode": {
     "languageId": "r"
    }
   },
   "outputs": [
    {
     "data": {
      "text/html": [
       "<style>\n",
       ".list-inline {list-style: none; margin:0; padding: 0}\n",
       ".list-inline>li {display: inline-block}\n",
       ".list-inline>li:not(:last-child)::after {content: \"\\00b7\"; padding: 0 .5ex}\n",
       "</style>\n",
       "<ol class=list-inline><li>'Intercept'</li><li>'treatment_500nM.crizotinib_vs_none'</li><li>'treatment_500nM.entrectinib_vs_none'</li></ol>\n"
      ],
      "text/latex": [
       "\\begin{enumerate*}\n",
       "\\item 'Intercept'\n",
       "\\item 'treatment\\_500nM.crizotinib\\_vs\\_none'\n",
       "\\item 'treatment\\_500nM.entrectinib\\_vs\\_none'\n",
       "\\end{enumerate*}\n"
      ],
      "text/markdown": [
       "1. 'Intercept'\n",
       "2. 'treatment_500nM.crizotinib_vs_none'\n",
       "3. 'treatment_500nM.entrectinib_vs_none'\n",
       "\n",
       "\n"
      ],
      "text/plain": [
       "[1] \"Intercept\"                           \"treatment_500nM.crizotinib_vs_none\" \n",
       "[3] \"treatment_500nM.entrectinib_vs_none\""
      ]
     },
     "metadata": {},
     "output_type": "display_data"
    }
   ],
   "source": [
    "resultsNames(dds_214715)"
   ]
  },
  {
   "cell_type": "code",
   "execution_count": 170,
   "metadata": {
    "vscode": {
     "languageId": "r"
    }
   },
   "outputs": [],
   "source": [
    "# For \"500nM.crizotinib vs none\"\n",
    "res_criz_214715 <- results(\n",
    "                           dds_214715,\n",
    "                           name = \"treatment_500nM.crizotinib_vs_none\")\n",
    "\n",
    "# For \"500nM.entrectinib vs none\"\n",
    "res_entr_214715 <- results(\n",
    "                           dds_214715,\n",
    "                           name = \"treatment_500nM.entrectinib_vs_none\")\n"
   ]
  },
  {
   "cell_type": "code",
   "execution_count": 171,
   "metadata": {
    "vscode": {
     "languageId": "r"
    }
   },
   "outputs": [
    {
     "name": "stderr",
     "output_type": "stream",
     "text": [
      "Warning message:\n",
      "“ggrepel: 2228 unlabeled data points (too many overlaps). Consider increasing max.overlaps”\n"
     ]
    },
    {
     "data": {
      "image/png": "[encoded data removed]",
      "text/plain": [
       "plot without title"
      ]
     },
     "metadata": {
      "image/png": {
       "height": 420,
       "width": 420
      }
     },
     "output_type": "display_data"
    }
   ],
   "source": [
    "EnhancedVolcano(res_criz_214715,\n",
    "  lab = rownames(res_criz_214715),\n",
    "  x = \"log2FoldChange\",\n",
    "  y = \"padj\",\n",
    "  ylab = \"-Log 10 padj\",\n",
    "  xlab = \"Log2 Fold Change\",\n",
    "  title = \"500nM crizotinib vs none\",\n",
    "  subtitle = \"GSE214715\",\n",
    "  pCutoff = 0.05,\n",
    "  FCcutoff = 1,\n",
    "  pointSize = 3,\n",
    "  labSize = 3,\n",
    "  colAlpha = 0.5,\n",
    "  legendPosition = \"right\",\n",
    "  drawConnectors = TRUE,\n",
    "  widthConnectors = 0.3\n",
    ")"
   ]
  },
  {
   "cell_type": "code",
   "execution_count": 172,
   "metadata": {
    "vscode": {
     "languageId": "r"
    }
   },
   "outputs": [
    {
     "name": "stderr",
     "output_type": "stream",
     "text": [
      "Warning message:\n",
      "“ggrepel: 925 unlabeled data points (too many overlaps). Consider increasing max.overlaps”\n"
     ]
    },
    {
     "data": {
      "image/png": "[encoded data removed]",
      "text/plain": [
       "plot without title"
      ]
     },
     "metadata": {
      "image/png": {
       "height": 420,
       "width": 420
      }
     },
     "output_type": "display_data"
    }
   ],
   "source": [
    "EnhancedVolcano(res_entr_214715,\n",
    "  lab = rownames(res_entr_214715),\n",
    "  x = \"log2FoldChange\",\n",
    "  y = \"padj\",\n",
    "  ylab = \"-Log 10 padj\",\n",
    "  xlab = \"Log2 Fold Change\",\n",
    "  title = \"500nM entrectinib vs none\",\n",
    "  subtitle = \"GSE214715\",\n",
    "  pCutoff = 0.05,\n",
    "  FCcutoff = 1,\n",
    "  pointSize = 3,\n",
    "  labSize = 3,\n",
    "  colAlpha = 0.5,\n",
    "  legendPosition = \"right\",\n",
    "  drawConnectors = TRUE,\n",
    "  widthConnectors = 0.3\n",
    ")"
   ]
  },
  {
   "cell_type": "code",
   "execution_count": 205,
   "metadata": {
    "vscode": {
     "languageId": "r"
    }
   },
   "outputs": [],
   "source": [
    "# Filter for padj < 0.05\n",
    "\n",
    "res_criz_214715 <- as.data.frame(res_criz_214715)\n",
    "\n",
    "sig_genes_criz_214715 <- res_criz_214715 %>%\n",
    "  filter(!is.na(padj)) %>%  # Remove NA p-values\n",
    "  filter(padj < 0.05)\n"
   ]
  },
  {
   "cell_type": "code",
   "execution_count": 206,
   "metadata": {
    "vscode": {
     "languageId": "r"
    }
   },
   "outputs": [
    {
     "data": {
      "text/html": [
       "<table class=\"dataframe\">\n",
       "<caption>A data.frame: 6 × 6</caption>\n",
       "<thead>\n",
       "\t<tr><th></th><th scope=col>baseMean</th><th scope=col>log2FoldChange</th><th scope=col>lfcSE</th><th scope=col>stat</th><th scope=col>pvalue</th><th scope=col>padj</th></tr>\n",
       "\t<tr><th></th><th scope=col>&lt;dbl&gt;</th><th scope=col>&lt;dbl&gt;</th><th scope=col>&lt;dbl&gt;</th><th scope=col>&lt;dbl&gt;</th><th scope=col>&lt;dbl&gt;</th><th scope=col>&lt;dbl&gt;</th></tr>\n",
       "</thead>\n",
       "<tbody>\n",
       "\t<tr><th scope=row>8784</th><td>  95.19906</td><td>-2.440678</td><td>0.6803587</td><td>-3.587340</td><td>3.340683e-04</td><td>5.396761e-03</td></tr>\n",
       "\t<tr><th scope=row>6339</th><td>  36.84168</td><td> 1.315764</td><td>0.4474931</td><td> 2.940301</td><td>3.278937e-03</td><td>2.954232e-02</td></tr>\n",
       "\t<tr><th scope=row>102724312</th><td>  29.88056</td><td>-2.228541</td><td>0.6059125</td><td>-3.677991</td><td>2.350784e-04</td><td>4.099059e-03</td></tr>\n",
       "\t<tr><th scope=row>107985729</th><td>  21.03980</td><td>-2.421367</td><td>0.5777447</td><td>-4.191068</td><td>2.776448e-05</td><td>7.895789e-04</td></tr>\n",
       "\t<tr><th scope=row>64856</th><td>1415.58807</td><td>-3.501710</td><td>0.6222205</td><td>-5.627764</td><td>1.825611e-08</td><td>1.954780e-06</td></tr>\n",
       "\t<tr><th scope=row>219293</th><td>  65.51481</td><td>-2.324308</td><td>0.5045830</td><td>-4.606395</td><td>4.097107e-06</td><td>1.759171e-04</td></tr>\n",
       "</tbody>\n",
       "</table>\n"
      ],
      "text/latex": [
       "A data.frame: 6 × 6\n",
       "\\begin{tabular}{r|llllll}\n",
       "  & baseMean & log2FoldChange & lfcSE & stat & pvalue & padj\\\\\n",
       "  & <dbl> & <dbl> & <dbl> & <dbl> & <dbl> & <dbl>\\\\\n",
       "\\hline\n",
       "\t8784 &   95.19906 & -2.440678 & 0.6803587 & -3.587340 & 3.340683e-04 & 5.396761e-03\\\\\n",
       "\t6339 &   36.84168 &  1.315764 & 0.4474931 &  2.940301 & 3.278937e-03 & 2.954232e-02\\\\\n",
       "\t102724312 &   29.88056 & -2.228541 & 0.6059125 & -3.677991 & 2.350784e-04 & 4.099059e-03\\\\\n",
       "\t107985729 &   21.03980 & -2.421367 & 0.5777447 & -4.191068 & 2.776448e-05 & 7.895789e-04\\\\\n",
       "\t64856 & 1415.58807 & -3.501710 & 0.6222205 & -5.627764 & 1.825611e-08 & 1.954780e-06\\\\\n",
       "\t219293 &   65.51481 & -2.324308 & 0.5045830 & -4.606395 & 4.097107e-06 & 1.759171e-04\\\\\n",
       "\\end{tabular}\n"
      ],
      "text/markdown": [
       "\n",
       "A data.frame: 6 × 6\n",
       "\n",
       "| <!--/--> | baseMean &lt;dbl&gt; | log2FoldChange &lt;dbl&gt; | lfcSE &lt;dbl&gt; | stat &lt;dbl&gt; | pvalue &lt;dbl&gt; | padj &lt;dbl&gt; |\n",
       "|---|---|---|---|---|---|---|\n",
       "| 8784 |   95.19906 | -2.440678 | 0.6803587 | -3.587340 | 3.340683e-04 | 5.396761e-03 |\n",
       "| 6339 |   36.84168 |  1.315764 | 0.4474931 |  2.940301 | 3.278937e-03 | 2.954232e-02 |\n",
       "| 102724312 |   29.88056 | -2.228541 | 0.6059125 | -3.677991 | 2.350784e-04 | 4.099059e-03 |\n",
       "| 107985729 |   21.03980 | -2.421367 | 0.5777447 | -4.191068 | 2.776448e-05 | 7.895789e-04 |\n",
       "| 64856 | 1415.58807 | -3.501710 | 0.6222205 | -5.627764 | 1.825611e-08 | 1.954780e-06 |\n",
       "| 219293 |   65.51481 | -2.324308 | 0.5045830 | -4.606395 | 4.097107e-06 | 1.759171e-04 |\n",
       "\n"
      ],
      "text/plain": [
       "          baseMean   log2FoldChange lfcSE     stat      pvalue      \n",
       "8784        95.19906 -2.440678      0.6803587 -3.587340 3.340683e-04\n",
       "6339        36.84168  1.315764      0.4474931  2.940301 3.278937e-03\n",
       "102724312   29.88056 -2.228541      0.6059125 -3.677991 2.350784e-04\n",
       "107985729   21.03980 -2.421367      0.5777447 -4.191068 2.776448e-05\n",
       "64856     1415.58807 -3.501710      0.6222205 -5.627764 1.825611e-08\n",
       "219293      65.51481 -2.324308      0.5045830 -4.606395 4.097107e-06\n",
       "          padj        \n",
       "8784      5.396761e-03\n",
       "6339      2.954232e-02\n",
       "102724312 4.099059e-03\n",
       "107985729 7.895789e-04\n",
       "64856     1.954780e-06\n",
       "219293    1.759171e-04"
      ]
     },
     "metadata": {},
     "output_type": "display_data"
    }
   ],
   "source": [
    "head(sig_genes_criz_214715)\n",
    "# <dbl> in R stands for double-precision floating-point numbers."
   ]
  },
  {
   "cell_type": "code",
   "execution_count": 207,
   "metadata": {
    "vscode": {
     "languageId": "r"
    }
   },
   "outputs": [],
   "source": [
    "sorted_sig_genes_criz_214715 <- sig_genes_criz_214715[\n",
    "  order(-abs(sig_genes_criz_214715$log2FoldChange), sig_genes_criz_214715$padj),\n",
    "]"
   ]
  },
  {
   "cell_type": "code",
   "execution_count": 208,
   "metadata": {
    "vscode": {
     "languageId": "r"
    }
   },
   "outputs": [
    {
     "data": {
      "text/html": [
       "<table class=\"dataframe\">\n",
       "<caption>A data.frame: 10 × 6</caption>\n",
       "<thead>\n",
       "\t<tr><th></th><th scope=col>baseMean</th><th scope=col>log2FoldChange</th><th scope=col>lfcSE</th><th scope=col>stat</th><th scope=col>pvalue</th><th scope=col>padj</th></tr>\n",
       "\t<tr><th></th><th scope=col>&lt;dbl&gt;</th><th scope=col>&lt;dbl&gt;</th><th scope=col>&lt;dbl&gt;</th><th scope=col>&lt;dbl&gt;</th><th scope=col>&lt;dbl&gt;</th><th scope=col>&lt;dbl&gt;</th></tr>\n",
       "</thead>\n",
       "<tbody>\n",
       "\t<tr><th scope=row>5275</th><td> 132.28504</td><td>-25.79769</td><td>3.491360</td><td> -7.389010</td><td>1.479263e-13</td><td>9.005753e-11</td></tr>\n",
       "\t<tr><th scope=row>51297</th><td> 154.44708</td><td>-25.73312</td><td>3.533946</td><td> -7.281696</td><td>3.296499e-13</td><td>1.756045e-10</td></tr>\n",
       "\t<tr><th scope=row>389376</th><td> 210.20293</td><td>-25.66192</td><td>1.915151</td><td>-13.399423</td><td>6.093485e-41</td><td>1.298400e-36</td></tr>\n",
       "\t<tr><th scope=row>56649</th><td> 144.97501</td><td>-24.74259</td><td>2.117060</td><td>-11.687241</td><td>1.481199e-31</td><td>1.578069e-27</td></tr>\n",
       "\t<tr><th scope=row>107985349</th><td>  56.11748</td><td> 24.32427</td><td>3.534112</td><td>  6.882710</td><td>5.872462e-12</td><td>2.360951e-09</td></tr>\n",
       "\t<tr><th scope=row>5651</th><td> 136.06201</td><td> 23.99666</td><td>3.072904</td><td>  7.809114</td><td>5.759133e-15</td><td>5.335461e-12</td></tr>\n",
       "\t<tr><th scope=row>101927501</th><td>  73.54748</td><td> 23.86281</td><td>3.167992</td><td>  7.532472</td><td>4.978871e-14</td><td>3.422251e-11</td></tr>\n",
       "\t<tr><th scope=row>79339</th><td> 108.11083</td><td> 23.59095</td><td>2.990317</td><td>  7.889115</td><td>3.043372e-15</td><td>3.088008e-12</td></tr>\n",
       "\t<tr><th scope=row>3240</th><td>2617.81600</td><td>-15.29793</td><td>1.743734</td><td> -8.773086</td><td>1.738350e-18</td><td>4.115640e-15</td></tr>\n",
       "\t<tr><th scope=row>6317</th><td>5722.93996</td><td>-14.56380</td><td>2.168202</td><td> -6.716995</td><td>1.855104e-11</td><td>6.588092e-09</td></tr>\n",
       "</tbody>\n",
       "</table>\n"
      ],
      "text/latex": [
       "A data.frame: 10 × 6\n",
       "\\begin{tabular}{r|llllll}\n",
       "  & baseMean & log2FoldChange & lfcSE & stat & pvalue & padj\\\\\n",
       "  & <dbl> & <dbl> & <dbl> & <dbl> & <dbl> & <dbl>\\\\\n",
       "\\hline\n",
       "\t5275 &  132.28504 & -25.79769 & 3.491360 &  -7.389010 & 1.479263e-13 & 9.005753e-11\\\\\n",
       "\t51297 &  154.44708 & -25.73312 & 3.533946 &  -7.281696 & 3.296499e-13 & 1.756045e-10\\\\\n",
       "\t389376 &  210.20293 & -25.66192 & 1.915151 & -13.399423 & 6.093485e-41 & 1.298400e-36\\\\\n",
       "\t56649 &  144.97501 & -24.74259 & 2.117060 & -11.687241 & 1.481199e-31 & 1.578069e-27\\\\\n",
       "\t107985349 &   56.11748 &  24.32427 & 3.534112 &   6.882710 & 5.872462e-12 & 2.360951e-09\\\\\n",
       "\t5651 &  136.06201 &  23.99666 & 3.072904 &   7.809114 & 5.759133e-15 & 5.335461e-12\\\\\n",
       "\t101927501 &   73.54748 &  23.86281 & 3.167992 &   7.532472 & 4.978871e-14 & 3.422251e-11\\\\\n",
       "\t79339 &  108.11083 &  23.59095 & 2.990317 &   7.889115 & 3.043372e-15 & 3.088008e-12\\\\\n",
       "\t3240 & 2617.81600 & -15.29793 & 1.743734 &  -8.773086 & 1.738350e-18 & 4.115640e-15\\\\\n",
       "\t6317 & 5722.93996 & -14.56380 & 2.168202 &  -6.716995 & 1.855104e-11 & 6.588092e-09\\\\\n",
       "\\end{tabular}\n"
      ],
      "text/markdown": [
       "\n",
       "A data.frame: 10 × 6\n",
       "\n",
       "| <!--/--> | baseMean &lt;dbl&gt; | log2FoldChange &lt;dbl&gt; | lfcSE &lt;dbl&gt; | stat &lt;dbl&gt; | pvalue &lt;dbl&gt; | padj &lt;dbl&gt; |\n",
       "|---|---|---|---|---|---|---|\n",
       "| 5275 |  132.28504 | -25.79769 | 3.491360 |  -7.389010 | 1.479263e-13 | 9.005753e-11 |\n",
       "| 51297 |  154.44708 | -25.73312 | 3.533946 |  -7.281696 | 3.296499e-13 | 1.756045e-10 |\n",
       "| 389376 |  210.20293 | -25.66192 | 1.915151 | -13.399423 | 6.093485e-41 | 1.298400e-36 |\n",
       "| 56649 |  144.97501 | -24.74259 | 2.117060 | -11.687241 | 1.481199e-31 | 1.578069e-27 |\n",
       "| 107985349 |   56.11748 |  24.32427 | 3.534112 |   6.882710 | 5.872462e-12 | 2.360951e-09 |\n",
       "| 5651 |  136.06201 |  23.99666 | 3.072904 |   7.809114 | 5.759133e-15 | 5.335461e-12 |\n",
       "| 101927501 |   73.54748 |  23.86281 | 3.167992 |   7.532472 | 4.978871e-14 | 3.422251e-11 |\n",
       "| 79339 |  108.11083 |  23.59095 | 2.990317 |   7.889115 | 3.043372e-15 | 3.088008e-12 |\n",
       "| 3240 | 2617.81600 | -15.29793 | 1.743734 |  -8.773086 | 1.738350e-18 | 4.115640e-15 |\n",
       "| 6317 | 5722.93996 | -14.56380 | 2.168202 |  -6.716995 | 1.855104e-11 | 6.588092e-09 |\n",
       "\n"
      ],
      "text/plain": [
       "          baseMean   log2FoldChange lfcSE    stat       pvalue      \n",
       "5275       132.28504 -25.79769      3.491360  -7.389010 1.479263e-13\n",
       "51297      154.44708 -25.73312      3.533946  -7.281696 3.296499e-13\n",
       "389376     210.20293 -25.66192      1.915151 -13.399423 6.093485e-41\n",
       "56649      144.97501 -24.74259      2.117060 -11.687241 1.481199e-31\n",
       "107985349   56.11748  24.32427      3.534112   6.882710 5.872462e-12\n",
       "5651       136.06201  23.99666      3.072904   7.809114 5.759133e-15\n",
       "101927501   73.54748  23.86281      3.167992   7.532472 4.978871e-14\n",
       "79339      108.11083  23.59095      2.990317   7.889115 3.043372e-15\n",
       "3240      2617.81600 -15.29793      1.743734  -8.773086 1.738350e-18\n",
       "6317      5722.93996 -14.56380      2.168202  -6.716995 1.855104e-11\n",
       "          padj        \n",
       "5275      9.005753e-11\n",
       "51297     1.756045e-10\n",
       "389376    1.298400e-36\n",
       "56649     1.578069e-27\n",
       "107985349 2.360951e-09\n",
       "5651      5.335461e-12\n",
       "101927501 3.422251e-11\n",
       "79339     3.088008e-12\n",
       "3240      4.115640e-15\n",
       "6317      6.588092e-09"
      ]
     },
     "metadata": {},
     "output_type": "display_data"
    }
   ],
   "source": [
    "head(sorted_sig_genes_criz_214715, n = 10)"
   ]
  },
  {
   "cell_type": "code",
   "execution_count": 209,
   "metadata": {
    "vscode": {
     "languageId": "r"
    }
   },
   "outputs": [
    {
     "data": {
      "text/html": [
       "<style>\n",
       ".list-inline {list-style: none; margin:0; padding: 0}\n",
       ".list-inline>li {display: inline-block}\n",
       ".list-inline>li:not(:last-child)::after {content: \"\\00b7\"; padding: 0 .5ex}\n",
       "</style>\n",
       "<ol class=list-inline><li>2918</li><li>6</li></ol>\n"
      ],
      "text/latex": [
       "\\begin{enumerate*}\n",
       "\\item 2918\n",
       "\\item 6\n",
       "\\end{enumerate*}\n"
      ],
      "text/markdown": [
       "1. 2918\n",
       "2. 6\n",
       "\n",
       "\n"
      ],
      "text/plain": [
       "[1] 2918    6"
      ]
     },
     "metadata": {},
     "output_type": "display_data"
    }
   ],
   "source": [
    "dim(sorted_sig_genes_criz_214715)"
   ]
  },
  {
   "cell_type": "code",
   "execution_count": 210,
   "metadata": {
    "vscode": {
     "languageId": "r"
    }
   },
   "outputs": [],
   "source": [
    "res_entr_214715 <- as.data.frame(res_entr_214715)\n",
    "\n",
    "sig_genes_entr_214715 <- res_entr_214715 %>%\n",
    "  filter(!is.na(padj)) %>%  # Remove NA p-values\n",
    "  filter(padj < 0.05)"
   ]
  },
  {
   "cell_type": "code",
   "execution_count": 211,
   "metadata": {
    "vscode": {
     "languageId": "r"
    }
   },
   "outputs": [
    {
     "data": {
      "text/html": [
       "<table class=\"dataframe\">\n",
       "<caption>A data.frame: 6 × 6</caption>\n",
       "<thead>\n",
       "\t<tr><th></th><th scope=col>baseMean</th><th scope=col>log2FoldChange</th><th scope=col>lfcSE</th><th scope=col>stat</th><th scope=col>pvalue</th><th scope=col>padj</th></tr>\n",
       "\t<tr><th></th><th scope=col>&lt;dbl&gt;</th><th scope=col>&lt;dbl&gt;</th><th scope=col>&lt;dbl&gt;</th><th scope=col>&lt;dbl&gt;</th><th scope=col>&lt;dbl&gt;</th><th scope=col>&lt;dbl&gt;</th></tr>\n",
       "</thead>\n",
       "<tbody>\n",
       "\t<tr><th scope=row>219293</th><td>  65.51481</td><td> -2.290940</td><td>0.5293728</td><td>-4.327649</td><td>1.507095e-05</td><td>1.402747e-03</td></tr>\n",
       "\t<tr><th scope=row>6518</th><td>  20.88368</td><td> -3.894136</td><td>1.2804373</td><td>-3.041255</td><td>2.355945e-03</td><td>4.316635e-02</td></tr>\n",
       "\t<tr><th scope=row>5226</th><td>1752.85347</td><td> -1.020011</td><td>0.2686680</td><td>-3.796550</td><td>1.467239e-04</td><td>7.000924e-03</td></tr>\n",
       "\t<tr><th scope=row>4879</th><td>  42.44190</td><td>-15.253732</td><td>3.8078353</td><td>-4.005880</td><td>6.178694e-05</td><td>3.805489e-03</td></tr>\n",
       "\t<tr><th scope=row>7133</th><td> 674.23763</td><td> -2.909643</td><td>0.4143530</td><td>-7.022136</td><td>2.185011e-12</td><td>5.039120e-09</td></tr>\n",
       "\t<tr><th scope=row>11240</th><td> 284.46508</td><td>  5.176217</td><td>1.0445555</td><td> 4.955426</td><td>7.217205e-07</td><td>1.528574e-04</td></tr>\n",
       "</tbody>\n",
       "</table>\n"
      ],
      "text/latex": [
       "A data.frame: 6 × 6\n",
       "\\begin{tabular}{r|llllll}\n",
       "  & baseMean & log2FoldChange & lfcSE & stat & pvalue & padj\\\\\n",
       "  & <dbl> & <dbl> & <dbl> & <dbl> & <dbl> & <dbl>\\\\\n",
       "\\hline\n",
       "\t219293 &   65.51481 &  -2.290940 & 0.5293728 & -4.327649 & 1.507095e-05 & 1.402747e-03\\\\\n",
       "\t6518 &   20.88368 &  -3.894136 & 1.2804373 & -3.041255 & 2.355945e-03 & 4.316635e-02\\\\\n",
       "\t5226 & 1752.85347 &  -1.020011 & 0.2686680 & -3.796550 & 1.467239e-04 & 7.000924e-03\\\\\n",
       "\t4879 &   42.44190 & -15.253732 & 3.8078353 & -4.005880 & 6.178694e-05 & 3.805489e-03\\\\\n",
       "\t7133 &  674.23763 &  -2.909643 & 0.4143530 & -7.022136 & 2.185011e-12 & 5.039120e-09\\\\\n",
       "\t11240 &  284.46508 &   5.176217 & 1.0445555 &  4.955426 & 7.217205e-07 & 1.528574e-04\\\\\n",
       "\\end{tabular}\n"
      ],
      "text/markdown": [
       "\n",
       "A data.frame: 6 × 6\n",
       "\n",
       "| <!--/--> | baseMean &lt;dbl&gt; | log2FoldChange &lt;dbl&gt; | lfcSE &lt;dbl&gt; | stat &lt;dbl&gt; | pvalue &lt;dbl&gt; | padj &lt;dbl&gt; |\n",
       "|---|---|---|---|---|---|---|\n",
       "| 219293 |   65.51481 |  -2.290940 | 0.5293728 | -4.327649 | 1.507095e-05 | 1.402747e-03 |\n",
       "| 6518 |   20.88368 |  -3.894136 | 1.2804373 | -3.041255 | 2.355945e-03 | 4.316635e-02 |\n",
       "| 5226 | 1752.85347 |  -1.020011 | 0.2686680 | -3.796550 | 1.467239e-04 | 7.000924e-03 |\n",
       "| 4879 |   42.44190 | -15.253732 | 3.8078353 | -4.005880 | 6.178694e-05 | 3.805489e-03 |\n",
       "| 7133 |  674.23763 |  -2.909643 | 0.4143530 | -7.022136 | 2.185011e-12 | 5.039120e-09 |\n",
       "| 11240 |  284.46508 |   5.176217 | 1.0445555 |  4.955426 | 7.217205e-07 | 1.528574e-04 |\n",
       "\n"
      ],
      "text/plain": [
       "       baseMean   log2FoldChange lfcSE     stat      pvalue       padj        \n",
       "219293   65.51481  -2.290940     0.5293728 -4.327649 1.507095e-05 1.402747e-03\n",
       "6518     20.88368  -3.894136     1.2804373 -3.041255 2.355945e-03 4.316635e-02\n",
       "5226   1752.85347  -1.020011     0.2686680 -3.796550 1.467239e-04 7.000924e-03\n",
       "4879     42.44190 -15.253732     3.8078353 -4.005880 6.178694e-05 3.805489e-03\n",
       "7133    674.23763  -2.909643     0.4143530 -7.022136 2.185011e-12 5.039120e-09\n",
       "11240   284.46508   5.176217     1.0445555  4.955426 7.217205e-07 1.528574e-04"
      ]
     },
     "metadata": {},
     "output_type": "display_data"
    }
   ],
   "source": [
    "head(sig_genes_entr_214715)"
   ]
  },
  {
   "cell_type": "code",
   "execution_count": 212,
   "metadata": {
    "vscode": {
     "languageId": "r"
    }
   },
   "outputs": [],
   "source": [
    "sorted_sig_genes_entr_214715 <- sig_genes_entr_214715[\n",
    "  order(-abs(sig_genes_entr_214715$log2FoldChange), sig_genes_entr_214715$padj),\n",
    "]"
   ]
  },
  {
   "cell_type": "code",
   "execution_count": 213,
   "metadata": {
    "vscode": {
     "languageId": "r"
    }
   },
   "outputs": [
    {
     "data": {
      "text/html": [
       "<table class=\"dataframe\">\n",
       "<caption>A data.frame: 10 × 6</caption>\n",
       "<thead>\n",
       "\t<tr><th></th><th scope=col>baseMean</th><th scope=col>log2FoldChange</th><th scope=col>lfcSE</th><th scope=col>stat</th><th scope=col>pvalue</th><th scope=col>padj</th></tr>\n",
       "\t<tr><th></th><th scope=col>&lt;dbl&gt;</th><th scope=col>&lt;dbl&gt;</th><th scope=col>&lt;dbl&gt;</th><th scope=col>&lt;dbl&gt;</th><th scope=col>&lt;dbl&gt;</th><th scope=col>&lt;dbl&gt;</th></tr>\n",
       "</thead>\n",
       "<tbody>\n",
       "\t<tr><th scope=row>57007</th><td> 172.66304</td><td>-24.43285</td><td>2.487601</td><td> -9.821851</td><td>9.066303e-23</td><td>9.409010e-19</td></tr>\n",
       "\t<tr><th scope=row>5651</th><td> 136.06201</td><td> 23.28753</td><td>3.212278</td><td>  7.249537</td><td>4.181978e-13</td><td>1.085014e-09</td></tr>\n",
       "\t<tr><th scope=row>79339</th><td> 108.11083</td><td> 23.24198</td><td>3.125305</td><td>  7.436709</td><td>1.032249e-13</td><td>4.285071e-10</td></tr>\n",
       "\t<tr><th scope=row>54518</th><td>  84.35507</td><td>-21.99548</td><td>2.042805</td><td>-10.767292</td><td>4.912373e-27</td><td>1.019612e-22</td></tr>\n",
       "\t<tr><th scope=row>273</th><td> 122.96445</td><td>-19.82752</td><td>3.035192</td><td> -6.532542</td><td>6.466282e-11</td><td>7.115064e-08</td></tr>\n",
       "\t<tr><th scope=row>6387</th><td> 223.69160</td><td>-17.22407</td><td>2.989070</td><td> -5.762353</td><td>8.294935e-09</td><td>4.304242e-06</td></tr>\n",
       "\t<tr><th scope=row>101927501</th><td>  73.54748</td><td> 16.68144</td><td>3.354827</td><td>  4.972369</td><td>6.613953e-07</td><td>1.415250e-04</td></tr>\n",
       "\t<tr><th scope=row>5673</th><td> 380.91508</td><td>-16.21769</td><td>2.588323</td><td> -6.265713</td><td>3.711231e-10</td><td>2.852975e-07</td></tr>\n",
       "\t<tr><th scope=row>4879</th><td>  42.44190</td><td>-15.25373</td><td>3.807835</td><td> -4.005880</td><td>6.178694e-05</td><td>3.805489e-03</td></tr>\n",
       "\t<tr><th scope=row>3240</th><td>2617.81600</td><td>-11.42415</td><td>1.653058</td><td> -6.910920</td><td>4.815212e-12</td><td>8.328711e-09</td></tr>\n",
       "</tbody>\n",
       "</table>\n"
      ],
      "text/latex": [
       "A data.frame: 10 × 6\n",
       "\\begin{tabular}{r|llllll}\n",
       "  & baseMean & log2FoldChange & lfcSE & stat & pvalue & padj\\\\\n",
       "  & <dbl> & <dbl> & <dbl> & <dbl> & <dbl> & <dbl>\\\\\n",
       "\\hline\n",
       "\t57007 &  172.66304 & -24.43285 & 2.487601 &  -9.821851 & 9.066303e-23 & 9.409010e-19\\\\\n",
       "\t5651 &  136.06201 &  23.28753 & 3.212278 &   7.249537 & 4.181978e-13 & 1.085014e-09\\\\\n",
       "\t79339 &  108.11083 &  23.24198 & 3.125305 &   7.436709 & 1.032249e-13 & 4.285071e-10\\\\\n",
       "\t54518 &   84.35507 & -21.99548 & 2.042805 & -10.767292 & 4.912373e-27 & 1.019612e-22\\\\\n",
       "\t273 &  122.96445 & -19.82752 & 3.035192 &  -6.532542 & 6.466282e-11 & 7.115064e-08\\\\\n",
       "\t6387 &  223.69160 & -17.22407 & 2.989070 &  -5.762353 & 8.294935e-09 & 4.304242e-06\\\\\n",
       "\t101927501 &   73.54748 &  16.68144 & 3.354827 &   4.972369 & 6.613953e-07 & 1.415250e-04\\\\\n",
       "\t5673 &  380.91508 & -16.21769 & 2.588323 &  -6.265713 & 3.711231e-10 & 2.852975e-07\\\\\n",
       "\t4879 &   42.44190 & -15.25373 & 3.807835 &  -4.005880 & 6.178694e-05 & 3.805489e-03\\\\\n",
       "\t3240 & 2617.81600 & -11.42415 & 1.653058 &  -6.910920 & 4.815212e-12 & 8.328711e-09\\\\\n",
       "\\end{tabular}\n"
      ],
      "text/markdown": [
       "\n",
       "A data.frame: 10 × 6\n",
       "\n",
       "| <!--/--> | baseMean &lt;dbl&gt; | log2FoldChange &lt;dbl&gt; | lfcSE &lt;dbl&gt; | stat &lt;dbl&gt; | pvalue &lt;dbl&gt; | padj &lt;dbl&gt; |\n",
       "|---|---|---|---|---|---|---|\n",
       "| 57007 |  172.66304 | -24.43285 | 2.487601 |  -9.821851 | 9.066303e-23 | 9.409010e-19 |\n",
       "| 5651 |  136.06201 |  23.28753 | 3.212278 |   7.249537 | 4.181978e-13 | 1.085014e-09 |\n",
       "| 79339 |  108.11083 |  23.24198 | 3.125305 |   7.436709 | 1.032249e-13 | 4.285071e-10 |\n",
       "| 54518 |   84.35507 | -21.99548 | 2.042805 | -10.767292 | 4.912373e-27 | 1.019612e-22 |\n",
       "| 273 |  122.96445 | -19.82752 | 3.035192 |  -6.532542 | 6.466282e-11 | 7.115064e-08 |\n",
       "| 6387 |  223.69160 | -17.22407 | 2.989070 |  -5.762353 | 8.294935e-09 | 4.304242e-06 |\n",
       "| 101927501 |   73.54748 |  16.68144 | 3.354827 |   4.972369 | 6.613953e-07 | 1.415250e-04 |\n",
       "| 5673 |  380.91508 | -16.21769 | 2.588323 |  -6.265713 | 3.711231e-10 | 2.852975e-07 |\n",
       "| 4879 |   42.44190 | -15.25373 | 3.807835 |  -4.005880 | 6.178694e-05 | 3.805489e-03 |\n",
       "| 3240 | 2617.81600 | -11.42415 | 1.653058 |  -6.910920 | 4.815212e-12 | 8.328711e-09 |\n",
       "\n"
      ],
      "text/plain": [
       "          baseMean   log2FoldChange lfcSE    stat       pvalue      \n",
       "57007      172.66304 -24.43285      2.487601  -9.821851 9.066303e-23\n",
       "5651       136.06201  23.28753      3.212278   7.249537 4.181978e-13\n",
       "79339      108.11083  23.24198      3.125305   7.436709 1.032249e-13\n",
       "54518       84.35507 -21.99548      2.042805 -10.767292 4.912373e-27\n",
       "273        122.96445 -19.82752      3.035192  -6.532542 6.466282e-11\n",
       "6387       223.69160 -17.22407      2.989070  -5.762353 8.294935e-09\n",
       "101927501   73.54748  16.68144      3.354827   4.972369 6.613953e-07\n",
       "5673       380.91508 -16.21769      2.588323  -6.265713 3.711231e-10\n",
       "4879        42.44190 -15.25373      3.807835  -4.005880 6.178694e-05\n",
       "3240      2617.81600 -11.42415      1.653058  -6.910920 4.815212e-12\n",
       "          padj        \n",
       "57007     9.409010e-19\n",
       "5651      1.085014e-09\n",
       "79339     4.285071e-10\n",
       "54518     1.019612e-22\n",
       "273       7.115064e-08\n",
       "6387      4.304242e-06\n",
       "101927501 1.415250e-04\n",
       "5673      2.852975e-07\n",
       "4879      3.805489e-03\n",
       "3240      8.328711e-09"
      ]
     },
     "metadata": {},
     "output_type": "display_data"
    }
   ],
   "source": [
    "head(sorted_sig_genes_entr_214715, n = 10)"
   ]
  },
  {
   "cell_type": "code",
   "execution_count": 214,
   "metadata": {
    "vscode": {
     "languageId": "r"
    }
   },
   "outputs": [
    {
     "data": {
      "text/html": [
       "<style>\n",
       ".list-inline {list-style: none; margin:0; padding: 0}\n",
       ".list-inline>li {display: inline-block}\n",
       ".list-inline>li:not(:last-child)::after {content: \"\\00b7\"; padding: 0 .5ex}\n",
       "</style>\n",
       "<ol class=list-inline><li>1203</li><li>6</li></ol>\n"
      ],
      "text/latex": [
       "\\begin{enumerate*}\n",
       "\\item 1203\n",
       "\\item 6\n",
       "\\end{enumerate*}\n"
      ],
      "text/markdown": [
       "1. 1203\n",
       "2. 6\n",
       "\n",
       "\n"
      ],
      "text/plain": [
       "[1] 1203    6"
      ]
     },
     "metadata": {},
     "output_type": "display_data"
    }
   ],
   "source": [
    "dim(sig_genes_entr_214715)"
   ]
  },
  {
   "cell_type": "code",
   "execution_count": 215,
   "metadata": {
    "vscode": {
     "languageId": "r"
    }
   },
   "outputs": [
    {
     "name": "stderr",
     "output_type": "stream",
     "text": [
      "'select()' returned 1:1 mapping between keys and columns\n",
      "\n"
     ]
    }
   ],
   "source": [
    "# Extract GeneIDs (column names) and map to gene symbols\n",
    "gene_ids <- rownames(sorted_sig_genes_entr_214715)\n",
    "\n",
    "gene_symbols <- mapIds(\n",
    "  org.Hs.eg.db,          # Annotation package\n",
    "  keys = gene_ids,       # Input IDs (e.g., ENTREZID)\n",
    "  column = \"SYMBOL\",     # Output type\n",
    "  keytype = \"ENTREZID\",  # Input ID type\n",
    "  multiVals = \"first\"    # Handling multiple mappings\n",
    ")\n",
    "\n",
    "\n",
    "# Replace column names with gene symbols (if available)\n",
    "# If mapping fails, fall back to original ID\n",
    "new_names <- ifelse(is.na(gene_symbols), gene_ids, gene_symbols)\n",
    "rownames(sorted_sig_genes_entr_214715) <- new_names\n",
    "\n"
   ]
  },
  {
   "cell_type": "code",
   "execution_count": 216,
   "metadata": {
    "vscode": {
     "languageId": "r"
    }
   },
   "outputs": [
    {
     "data": {
      "text/html": [
       "<table class=\"dataframe\">\n",
       "<caption>A data.frame: 6 × 6</caption>\n",
       "<thead>\n",
       "\t<tr><th></th><th scope=col>baseMean</th><th scope=col>log2FoldChange</th><th scope=col>lfcSE</th><th scope=col>stat</th><th scope=col>pvalue</th><th scope=col>padj</th></tr>\n",
       "\t<tr><th></th><th scope=col>&lt;dbl&gt;</th><th scope=col>&lt;dbl&gt;</th><th scope=col>&lt;dbl&gt;</th><th scope=col>&lt;dbl&gt;</th><th scope=col>&lt;dbl&gt;</th><th scope=col>&lt;dbl&gt;</th></tr>\n",
       "</thead>\n",
       "<tbody>\n",
       "\t<tr><th scope=row>ACKR3</th><td>172.66304</td><td>-24.43285</td><td>2.487601</td><td> -9.821851</td><td>9.066303e-23</td><td>9.409010e-19</td></tr>\n",
       "\t<tr><th scope=row>TMPRSS15</th><td>136.06201</td><td> 23.28753</td><td>3.212278</td><td>  7.249537</td><td>4.181978e-13</td><td>1.085014e-09</td></tr>\n",
       "\t<tr><th scope=row>OR51B4</th><td>108.11083</td><td> 23.24198</td><td>3.125305</td><td>  7.436709</td><td>1.032249e-13</td><td>4.285071e-10</td></tr>\n",
       "\t<tr><th scope=row>APBB1IP</th><td> 84.35507</td><td>-21.99548</td><td>2.042805</td><td>-10.767292</td><td>4.912373e-27</td><td>1.019612e-22</td></tr>\n",
       "\t<tr><th scope=row>AMPH</th><td>122.96445</td><td>-19.82752</td><td>3.035192</td><td> -6.532542</td><td>6.466282e-11</td><td>7.115064e-08</td></tr>\n",
       "\t<tr><th scope=row>CXCL12</th><td>223.69160</td><td>-17.22407</td><td>2.989070</td><td> -5.762353</td><td>8.294935e-09</td><td>4.304242e-06</td></tr>\n",
       "</tbody>\n",
       "</table>\n"
      ],
      "text/latex": [
       "A data.frame: 6 × 6\n",
       "\\begin{tabular}{r|llllll}\n",
       "  & baseMean & log2FoldChange & lfcSE & stat & pvalue & padj\\\\\n",
       "  & <dbl> & <dbl> & <dbl> & <dbl> & <dbl> & <dbl>\\\\\n",
       "\\hline\n",
       "\tACKR3 & 172.66304 & -24.43285 & 2.487601 &  -9.821851 & 9.066303e-23 & 9.409010e-19\\\\\n",
       "\tTMPRSS15 & 136.06201 &  23.28753 & 3.212278 &   7.249537 & 4.181978e-13 & 1.085014e-09\\\\\n",
       "\tOR51B4 & 108.11083 &  23.24198 & 3.125305 &   7.436709 & 1.032249e-13 & 4.285071e-10\\\\\n",
       "\tAPBB1IP &  84.35507 & -21.99548 & 2.042805 & -10.767292 & 4.912373e-27 & 1.019612e-22\\\\\n",
       "\tAMPH & 122.96445 & -19.82752 & 3.035192 &  -6.532542 & 6.466282e-11 & 7.115064e-08\\\\\n",
       "\tCXCL12 & 223.69160 & -17.22407 & 2.989070 &  -5.762353 & 8.294935e-09 & 4.304242e-06\\\\\n",
       "\\end{tabular}\n"
      ],
      "text/markdown": [
       "\n",
       "A data.frame: 6 × 6\n",
       "\n",
       "| <!--/--> | baseMean &lt;dbl&gt; | log2FoldChange &lt;dbl&gt; | lfcSE &lt;dbl&gt; | stat &lt;dbl&gt; | pvalue &lt;dbl&gt; | padj &lt;dbl&gt; |\n",
       "|---|---|---|---|---|---|---|\n",
       "| ACKR3 | 172.66304 | -24.43285 | 2.487601 |  -9.821851 | 9.066303e-23 | 9.409010e-19 |\n",
       "| TMPRSS15 | 136.06201 |  23.28753 | 3.212278 |   7.249537 | 4.181978e-13 | 1.085014e-09 |\n",
       "| OR51B4 | 108.11083 |  23.24198 | 3.125305 |   7.436709 | 1.032249e-13 | 4.285071e-10 |\n",
       "| APBB1IP |  84.35507 | -21.99548 | 2.042805 | -10.767292 | 4.912373e-27 | 1.019612e-22 |\n",
       "| AMPH | 122.96445 | -19.82752 | 3.035192 |  -6.532542 | 6.466282e-11 | 7.115064e-08 |\n",
       "| CXCL12 | 223.69160 | -17.22407 | 2.989070 |  -5.762353 | 8.294935e-09 | 4.304242e-06 |\n",
       "\n"
      ],
      "text/plain": [
       "         baseMean  log2FoldChange lfcSE    stat       pvalue       padj        \n",
       "ACKR3    172.66304 -24.43285      2.487601  -9.821851 9.066303e-23 9.409010e-19\n",
       "TMPRSS15 136.06201  23.28753      3.212278   7.249537 4.181978e-13 1.085014e-09\n",
       "OR51B4   108.11083  23.24198      3.125305   7.436709 1.032249e-13 4.285071e-10\n",
       "APBB1IP   84.35507 -21.99548      2.042805 -10.767292 4.912373e-27 1.019612e-22\n",
       "AMPH     122.96445 -19.82752      3.035192  -6.532542 6.466282e-11 7.115064e-08\n",
       "CXCL12   223.69160 -17.22407      2.989070  -5.762353 8.294935e-09 4.304242e-06"
      ]
     },
     "metadata": {},
     "output_type": "display_data"
    }
   ],
   "source": [
    "head(sorted_sig_genes_entr_214715)"
   ]
  },
  {
   "cell_type": "code",
   "execution_count": 217,
   "metadata": {
    "vscode": {
     "languageId": "r"
    }
   },
   "outputs": [],
   "source": [
    "write.csv(sorted_sig_genes_entr_214715, \"sig_genes_entr_214715.csv\")\n"
   ]
  },
  {
   "cell_type": "code",
   "execution_count": 218,
   "metadata": {
    "vscode": {
     "languageId": "r"
    }
   },
   "outputs": [
    {
     "name": "stderr",
     "output_type": "stream",
     "text": [
      "'select()' returned 1:1 mapping between keys and columns\n",
      "\n"
     ]
    }
   ],
   "source": [
    "# Extract GeneIDs (column names) and map to gene symbols\n",
    "gene_ids <- rownames(sorted_sig_genes_criz_214715)\n",
    "\n",
    "gene_symbols <- mapIds(\n",
    "  org.Hs.eg.db,          # Annotation package\n",
    "  keys = gene_ids,       # Input IDs (e.g., ENTREZID)\n",
    "  column = \"SYMBOL\",     # Output type\n",
    "  keytype = \"ENTREZID\",  # Input ID type\n",
    "  multiVals = \"first\"    # Handling multiple mappings\n",
    ")\n",
    "\n",
    "\n",
    "# Replace column names with gene symbols (if available)\n",
    "# If mapping fails, fall back to original ID\n",
    "new_names <- ifelse(is.na(gene_symbols), gene_ids, gene_symbols)\n",
    "rownames(sorted_sig_genes_criz_214715) <- new_names\n"
   ]
  },
  {
   "cell_type": "code",
   "execution_count": 219,
   "metadata": {
    "vscode": {
     "languageId": "r"
    }
   },
   "outputs": [
    {
     "data": {
      "text/html": [
       "<table class=\"dataframe\">\n",
       "<caption>A data.frame: 6 × 6</caption>\n",
       "<thead>\n",
       "\t<tr><th></th><th scope=col>baseMean</th><th scope=col>log2FoldChange</th><th scope=col>lfcSE</th><th scope=col>stat</th><th scope=col>pvalue</th><th scope=col>padj</th></tr>\n",
       "\t<tr><th></th><th scope=col>&lt;dbl&gt;</th><th scope=col>&lt;dbl&gt;</th><th scope=col>&lt;dbl&gt;</th><th scope=col>&lt;dbl&gt;</th><th scope=col>&lt;dbl&gt;</th><th scope=col>&lt;dbl&gt;</th></tr>\n",
       "</thead>\n",
       "<tbody>\n",
       "\t<tr><th scope=row>SERPINB13</th><td>132.28504</td><td>-25.79769</td><td>3.491360</td><td> -7.389010</td><td>1.479263e-13</td><td>9.005753e-11</td></tr>\n",
       "\t<tr><th scope=row>BPIFA1</th><td>154.44708</td><td>-25.73312</td><td>3.533946</td><td> -7.281696</td><td>3.296499e-13</td><td>1.756045e-10</td></tr>\n",
       "\t<tr><th scope=row>SFTA2</th><td>210.20293</td><td>-25.66192</td><td>1.915151</td><td>-13.399423</td><td>6.093485e-41</td><td>1.298400e-36</td></tr>\n",
       "\t<tr><th scope=row>TMPRSS4</th><td>144.97501</td><td>-24.74259</td><td>2.117060</td><td>-11.687241</td><td>1.481199e-31</td><td>1.578069e-27</td></tr>\n",
       "\t<tr><th scope=row>LOC107985349</th><td> 56.11748</td><td> 24.32427</td><td>3.534112</td><td>  6.882710</td><td>5.872462e-12</td><td>2.360951e-09</td></tr>\n",
       "\t<tr><th scope=row>TMPRSS15</th><td>136.06201</td><td> 23.99666</td><td>3.072904</td><td>  7.809114</td><td>5.759133e-15</td><td>5.335461e-12</td></tr>\n",
       "</tbody>\n",
       "</table>\n"
      ],
      "text/latex": [
       "A data.frame: 6 × 6\n",
       "\\begin{tabular}{r|llllll}\n",
       "  & baseMean & log2FoldChange & lfcSE & stat & pvalue & padj\\\\\n",
       "  & <dbl> & <dbl> & <dbl> & <dbl> & <dbl> & <dbl>\\\\\n",
       "\\hline\n",
       "\tSERPINB13 & 132.28504 & -25.79769 & 3.491360 &  -7.389010 & 1.479263e-13 & 9.005753e-11\\\\\n",
       "\tBPIFA1 & 154.44708 & -25.73312 & 3.533946 &  -7.281696 & 3.296499e-13 & 1.756045e-10\\\\\n",
       "\tSFTA2 & 210.20293 & -25.66192 & 1.915151 & -13.399423 & 6.093485e-41 & 1.298400e-36\\\\\n",
       "\tTMPRSS4 & 144.97501 & -24.74259 & 2.117060 & -11.687241 & 1.481199e-31 & 1.578069e-27\\\\\n",
       "\tLOC107985349 &  56.11748 &  24.32427 & 3.534112 &   6.882710 & 5.872462e-12 & 2.360951e-09\\\\\n",
       "\tTMPRSS15 & 136.06201 &  23.99666 & 3.072904 &   7.809114 & 5.759133e-15 & 5.335461e-12\\\\\n",
       "\\end{tabular}\n"
      ],
      "text/markdown": [
       "\n",
       "A data.frame: 6 × 6\n",
       "\n",
       "| <!--/--> | baseMean &lt;dbl&gt; | log2FoldChange &lt;dbl&gt; | lfcSE &lt;dbl&gt; | stat &lt;dbl&gt; | pvalue &lt;dbl&gt; | padj &lt;dbl&gt; |\n",
       "|---|---|---|---|---|---|---|\n",
       "| SERPINB13 | 132.28504 | -25.79769 | 3.491360 |  -7.389010 | 1.479263e-13 | 9.005753e-11 |\n",
       "| BPIFA1 | 154.44708 | -25.73312 | 3.533946 |  -7.281696 | 3.296499e-13 | 1.756045e-10 |\n",
       "| SFTA2 | 210.20293 | -25.66192 | 1.915151 | -13.399423 | 6.093485e-41 | 1.298400e-36 |\n",
       "| TMPRSS4 | 144.97501 | -24.74259 | 2.117060 | -11.687241 | 1.481199e-31 | 1.578069e-27 |\n",
       "| LOC107985349 |  56.11748 |  24.32427 | 3.534112 |   6.882710 | 5.872462e-12 | 2.360951e-09 |\n",
       "| TMPRSS15 | 136.06201 |  23.99666 | 3.072904 |   7.809114 | 5.759133e-15 | 5.335461e-12 |\n",
       "\n"
      ],
      "text/plain": [
       "             baseMean  log2FoldChange lfcSE    stat       pvalue      \n",
       "SERPINB13    132.28504 -25.79769      3.491360  -7.389010 1.479263e-13\n",
       "BPIFA1       154.44708 -25.73312      3.533946  -7.281696 3.296499e-13\n",
       "SFTA2        210.20293 -25.66192      1.915151 -13.399423 6.093485e-41\n",
       "TMPRSS4      144.97501 -24.74259      2.117060 -11.687241 1.481199e-31\n",
       "LOC107985349  56.11748  24.32427      3.534112   6.882710 5.872462e-12\n",
       "TMPRSS15     136.06201  23.99666      3.072904   7.809114 5.759133e-15\n",
       "             padj        \n",
       "SERPINB13    9.005753e-11\n",
       "BPIFA1       1.756045e-10\n",
       "SFTA2        1.298400e-36\n",
       "TMPRSS4      1.578069e-27\n",
       "LOC107985349 2.360951e-09\n",
       "TMPRSS15     5.335461e-12"
      ]
     },
     "metadata": {},
     "output_type": "display_data"
    }
   ],
   "source": [
    "head(sorted_sig_genes_criz_214715)"
   ]
  },
  {
   "cell_type": "code",
   "execution_count": 220,
   "metadata": {
    "vscode": {
     "languageId": "r"
    }
   },
   "outputs": [],
   "source": [
    "write.csv(sorted_sig_genes_criz_214715, \"sig_genes_criz_214715.csv\")"
   ]
  },
  {
   "cell_type": "markdown",
   "metadata": {},
   "source": [
    "## 239844\n",
    "We are going to find the significant difference in expression for this study, using all the control and treatment cell lines."
   ]
  },
  {
   "cell_type": "code",
   "execution_count": 189,
   "metadata": {
    "vscode": {
     "languageId": "r"
    }
   },
   "outputs": [
    {
     "name": "stderr",
     "output_type": "stream",
     "text": [
      "  Note: levels of factors in the design contain characters other than\n",
      "  letters, numbers, '_' and '.'. It is recommended (but not required) to use\n",
      "  only letters, numbers, and delimiters '_' or '.', as these are safe characters\n",
      "  for column names in R. [This is a message, not a warning or an error]\n",
      "\n",
      "estimating size factors\n",
      "\n",
      "  Note: levels of factors in the design contain characters other than\n",
      "  letters, numbers, '_' and '.'. It is recommended (but not required) to use\n",
      "  only letters, numbers, and delimiters '_' or '.', as these are safe characters\n",
      "  for column names in R. [This is a message, not a warning or an error]\n",
      "\n",
      "estimating dispersions\n",
      "\n",
      "gene-wise dispersion estimates\n",
      "\n",
      "mean-dispersion relationship\n",
      "\n",
      "  Note: levels of factors in the design contain characters other than\n",
      "  letters, numbers, '_' and '.'. It is recommended (but not required) to use\n",
      "  only letters, numbers, and delimiters '_' or '.', as these are safe characters\n",
      "  for column names in R. [This is a message, not a warning or an error]\n",
      "\n",
      "final dispersion estimates\n",
      "\n",
      "  Note: levels of factors in the design contain characters other than\n",
      "  letters, numbers, '_' and '.'. It is recommended (but not required) to use\n",
      "  only letters, numbers, and delimiters '_' or '.', as these are safe characters\n",
      "  for column names in R. [This is a message, not a warning or an error]\n",
      "\n",
      "fitting model and testing\n",
      "\n",
      "  Note: levels of factors in the design contain characters other than\n",
      "  letters, numbers, '_' and '.'. It is recommended (but not required) to use\n",
      "  only letters, numbers, and delimiters '_' or '.', as these are safe characters\n",
      "  for column names in R. [This is a message, not a warning or an error]\n",
      "\n",
      "-- replacing outliers and refitting for 1024 genes\n",
      "-- DESeq argument 'minReplicatesForReplace' = 7 \n",
      "-- original counts are preserved in counts(dds)\n",
      "\n",
      "estimating dispersions\n",
      "\n",
      "  Note: levels of factors in the design contain characters other than\n",
      "  letters, numbers, '_' and '.'. It is recommended (but not required) to use\n",
      "  only letters, numbers, and delimiters '_' or '.', as these are safe characters\n",
      "  for column names in R. [This is a message, not a warning or an error]\n",
      "\n",
      "fitting model and testing\n",
      "\n",
      "  Note: levels of factors in the design contain characters other than\n",
      "  letters, numbers, '_' and '.'. It is recommended (but not required) to use\n",
      "  only letters, numbers, and delimiters '_' or '.', as these are safe characters\n",
      "  for column names in R. [This is a message, not a warning or an error]\n",
      "\n"
     ]
    }
   ],
   "source": [
    "dds_239844 <- DESeqDataSetFromMatrix(\n",
    "  countData = count_clean_matrix_239844,\n",
    "  colData = metadata_clean_gse239844,\n",
    "  design = ~ treatment # treatment MUST be in colData\n",
    ")\n",
    "\n",
    "# Run analysis\n",
    "dds_239844 <- DESeq(dds_239844)"
   ]
  },
  {
   "cell_type": "code",
   "execution_count": 190,
   "metadata": {
    "vscode": {
     "languageId": "r"
    }
   },
   "outputs": [
    {
     "name": "stdout",
     "output_type": "stream",
     "text": [
      "\n",
      "out of 33518 with nonzero total read count\n",
      "adjusted p-value < 0.1\n",
      "LFC > 0 (up)       : 2008, 6%\n",
      "LFC < 0 (down)     : 1966, 5.9%\n",
      "outliers [1]       : 0, 0%\n",
      "low counts [2]     : 10952, 33%\n",
      "(mean count < 2)\n",
      "[1] see 'cooksCutoff' argument of ?results\n",
      "[2] see 'independentFiltering' argument of ?results\n",
      "\n"
     ]
    }
   ],
   "source": [
    "# Extract Results\n",
    "res_239844 <- results(dds_239844)\n",
    "\n",
    "# Summarize Results\n",
    "summary(res_239844)"
   ]
  },
  {
   "cell_type": "code",
   "execution_count": 191,
   "metadata": {
    "vscode": {
     "languageId": "r"
    }
   },
   "outputs": [
    {
     "data": {
      "text/html": [
       "<style>\n",
       ".list-inline {list-style: none; margin:0; padding: 0}\n",
       ".list-inline>li {display: inline-block}\n",
       ".list-inline>li:not(:last-child)::after {content: \"\\00b7\"; padding: 0 .5ex}\n",
       "</style>\n",
       "<ol class=list-inline><li>'Intercept'</li><li>'treatment_250.nM.crizotinib_vs_DMSO'</li></ol>\n"
      ],
      "text/latex": [
       "\\begin{enumerate*}\n",
       "\\item 'Intercept'\n",
       "\\item 'treatment\\_250.nM.crizotinib\\_vs\\_DMSO'\n",
       "\\end{enumerate*}\n"
      ],
      "text/markdown": [
       "1. 'Intercept'\n",
       "2. 'treatment_250.nM.crizotinib_vs_DMSO'\n",
       "\n",
       "\n"
      ],
      "text/plain": [
       "[1] \"Intercept\"                           \"treatment_250.nM.crizotinib_vs_DMSO\""
      ]
     },
     "metadata": {},
     "output_type": "display_data"
    }
   ],
   "source": [
    "resultsNames(dds_239844)"
   ]
  },
  {
   "cell_type": "code",
   "execution_count": 192,
   "metadata": {
    "vscode": {
     "languageId": "r"
    }
   },
   "outputs": [],
   "source": [
    "# For \"500nM.crizotinib vs none\"\n",
    "res_criz_239844 <- results(\n",
    "                           dds_239844,\n",
    "                           name = \"treatment_250.nM.crizotinib_vs_DMSO\")"
   ]
  },
  {
   "cell_type": "code",
   "execution_count": 221,
   "metadata": {
    "vscode": {
     "languageId": "r"
    }
   },
   "outputs": [],
   "source": [
    "# Filter for padj < 0.05\n",
    "\n",
    "res_criz_239844 <- as.data.frame(res_criz_239844)\n",
    "\n",
    "sig_res_criz_239844 <- res_criz_239844 %>%\n",
    "  filter(!is.na(padj)) %>%  # Remove NA p-values\n",
    "  filter(padj < 0.05)\n"
   ]
  },
  {
   "cell_type": "code",
   "execution_count": 222,
   "metadata": {
    "vscode": {
     "languageId": "r"
    }
   },
   "outputs": [
    {
     "data": {
      "text/html": [
       "<table class=\"dataframe\">\n",
       "<caption>A data.frame: 6 × 6</caption>\n",
       "<thead>\n",
       "\t<tr><th></th><th scope=col>baseMean</th><th scope=col>log2FoldChange</th><th scope=col>lfcSE</th><th scope=col>stat</th><th scope=col>pvalue</th><th scope=col>padj</th></tr>\n",
       "\t<tr><th></th><th scope=col>&lt;dbl&gt;</th><th scope=col>&lt;dbl&gt;</th><th scope=col>&lt;dbl&gt;</th><th scope=col>&lt;dbl&gt;</th><th scope=col>&lt;dbl&gt;</th><th scope=col>&lt;dbl&gt;</th></tr>\n",
       "</thead>\n",
       "<tbody>\n",
       "\t<tr><th scope=row>26155</th><td>4069.14636</td><td>-0.5332653</td><td>0.13582115</td><td>-3.926231</td><td>8.628715e-05</td><td>2.335340e-03</td></tr>\n",
       "\t<tr><th scope=row>101928895</th><td>  28.81482</td><td> 0.5259797</td><td>0.16894074</td><td> 3.113398</td><td>1.849466e-03</td><td>2.138678e-02</td></tr>\n",
       "\t<tr><th scope=row>6339</th><td>  54.80533</td><td> 0.6028277</td><td>0.16165958</td><td> 3.728995</td><td>1.922451e-04</td><td>4.250104e-03</td></tr>\n",
       "\t<tr><th scope=row>102465435</th><td>  10.94013</td><td>-0.6222313</td><td>0.21290746</td><td>-2.922543</td><td>3.471853e-03</td><td>3.297055e-02</td></tr>\n",
       "\t<tr><th scope=row>54998</th><td>2207.32075</td><td>-0.2957849</td><td>0.09617719</td><td>-3.075416</td><td>2.102093e-03</td><td>2.326400e-02</td></tr>\n",
       "\t<tr><th scope=row>83858</th><td>1151.58899</td><td>-0.7968708</td><td>0.15725282</td><td>-5.067450</td><td>4.031813e-07</td><td>4.193829e-05</td></tr>\n",
       "</tbody>\n",
       "</table>\n"
      ],
      "text/latex": [
       "A data.frame: 6 × 6\n",
       "\\begin{tabular}{r|llllll}\n",
       "  & baseMean & log2FoldChange & lfcSE & stat & pvalue & padj\\\\\n",
       "  & <dbl> & <dbl> & <dbl> & <dbl> & <dbl> & <dbl>\\\\\n",
       "\\hline\n",
       "\t26155 & 4069.14636 & -0.5332653 & 0.13582115 & -3.926231 & 8.628715e-05 & 2.335340e-03\\\\\n",
       "\t101928895 &   28.81482 &  0.5259797 & 0.16894074 &  3.113398 & 1.849466e-03 & 2.138678e-02\\\\\n",
       "\t6339 &   54.80533 &  0.6028277 & 0.16165958 &  3.728995 & 1.922451e-04 & 4.250104e-03\\\\\n",
       "\t102465435 &   10.94013 & -0.6222313 & 0.21290746 & -2.922543 & 3.471853e-03 & 3.297055e-02\\\\\n",
       "\t54998 & 2207.32075 & -0.2957849 & 0.09617719 & -3.075416 & 2.102093e-03 & 2.326400e-02\\\\\n",
       "\t83858 & 1151.58899 & -0.7968708 & 0.15725282 & -5.067450 & 4.031813e-07 & 4.193829e-05\\\\\n",
       "\\end{tabular}\n"
      ],
      "text/markdown": [
       "\n",
       "A data.frame: 6 × 6\n",
       "\n",
       "| <!--/--> | baseMean &lt;dbl&gt; | log2FoldChange &lt;dbl&gt; | lfcSE &lt;dbl&gt; | stat &lt;dbl&gt; | pvalue &lt;dbl&gt; | padj &lt;dbl&gt; |\n",
       "|---|---|---|---|---|---|---|\n",
       "| 26155 | 4069.14636 | -0.5332653 | 0.13582115 | -3.926231 | 8.628715e-05 | 2.335340e-03 |\n",
       "| 101928895 |   28.81482 |  0.5259797 | 0.16894074 |  3.113398 | 1.849466e-03 | 2.138678e-02 |\n",
       "| 6339 |   54.80533 |  0.6028277 | 0.16165958 |  3.728995 | 1.922451e-04 | 4.250104e-03 |\n",
       "| 102465435 |   10.94013 | -0.6222313 | 0.21290746 | -2.922543 | 3.471853e-03 | 3.297055e-02 |\n",
       "| 54998 | 2207.32075 | -0.2957849 | 0.09617719 | -3.075416 | 2.102093e-03 | 2.326400e-02 |\n",
       "| 83858 | 1151.58899 | -0.7968708 | 0.15725282 | -5.067450 | 4.031813e-07 | 4.193829e-05 |\n",
       "\n"
      ],
      "text/plain": [
       "          baseMean   log2FoldChange lfcSE      stat      pvalue      \n",
       "26155     4069.14636 -0.5332653     0.13582115 -3.926231 8.628715e-05\n",
       "101928895   28.81482  0.5259797     0.16894074  3.113398 1.849466e-03\n",
       "6339        54.80533  0.6028277     0.16165958  3.728995 1.922451e-04\n",
       "102465435   10.94013 -0.6222313     0.21290746 -2.922543 3.471853e-03\n",
       "54998     2207.32075 -0.2957849     0.09617719 -3.075416 2.102093e-03\n",
       "83858     1151.58899 -0.7968708     0.15725282 -5.067450 4.031813e-07\n",
       "          padj        \n",
       "26155     2.335340e-03\n",
       "101928895 2.138678e-02\n",
       "6339      4.250104e-03\n",
       "102465435 3.297055e-02\n",
       "54998     2.326400e-02\n",
       "83858     4.193829e-05"
      ]
     },
     "metadata": {},
     "output_type": "display_data"
    }
   ],
   "source": [
    "head(sig_res_criz_239844)\n",
    "# BaseMean: average normalized count value for this gene across all samples.\n",
    "# It indicates the gene's overall expression level\n",
    "# log2FoldChange: This represents the effect size\n",
    "# or how much expression changed with treatment.\n",
    "# A value of 1.17 means MMP23A is approximately 2.26\n",
    "# times more highly expressed in your treatment.\n",
    "# IfcSE: standard error of the log2 fold change estimate.\n",
    "# stat: Wald statistic for the hypothesis test.\n",
    "# Higher values indicate stronger evidence against the null hypothesis.\n",
    "# padj: adjusted p-value for multiple testing.\n",
    "# It indicates the significance of the result\n",
    "# after correcting for multiple comparisons."
   ]
  },
  {
   "cell_type": "code",
   "execution_count": 223,
   "metadata": {
    "vscode": {
     "languageId": "r"
    }
   },
   "outputs": [],
   "source": [
    "sorted_sig_res_criz_239844 <- sig_res_criz_239844[\n",
    "  order(-abs(sig_res_criz_239844$log2FoldChange), sig_res_criz_239844$padj),\n",
    "]\n"
   ]
  },
  {
   "cell_type": "code",
   "execution_count": 224,
   "metadata": {
    "vscode": {
     "languageId": "r"
    }
   },
   "outputs": [
    {
     "data": {
      "text/html": [
       "<table class=\"dataframe\">\n",
       "<caption>A data.frame: 10 × 6</caption>\n",
       "<thead>\n",
       "\t<tr><th></th><th scope=col>baseMean</th><th scope=col>log2FoldChange</th><th scope=col>lfcSE</th><th scope=col>stat</th><th scope=col>pvalue</th><th scope=col>padj</th></tr>\n",
       "\t<tr><th></th><th scope=col>&lt;dbl&gt;</th><th scope=col>&lt;dbl&gt;</th><th scope=col>&lt;dbl&gt;</th><th scope=col>&lt;dbl&gt;</th><th scope=col>&lt;dbl&gt;</th><th scope=col>&lt;dbl&gt;</th></tr>\n",
       "</thead>\n",
       "<tbody>\n",
       "\t<tr><th scope=row>105375767</th><td>14.040343</td><td> 5.432973</td><td>1.4902170</td><td> 3.645760</td><td>2.666029e-04</td><td>5.387432e-03</td></tr>\n",
       "\t<tr><th scope=row>389384</th><td> 8.180690</td><td> 4.564176</td><td>0.8554738</td><td> 5.335261</td><td>9.540732e-08</td><td>1.381152e-05</td></tr>\n",
       "\t<tr><th scope=row>219995</th><td>21.773429</td><td> 4.514836</td><td>0.7605770</td><td> 5.936067</td><td>2.919413e-09</td><td>9.422123e-07</td></tr>\n",
       "\t<tr><th scope=row>4606</th><td>16.797894</td><td>-4.251996</td><td>0.8602991</td><td>-4.942463</td><td>7.714192e-07</td><td>6.788312e-05</td></tr>\n",
       "\t<tr><th scope=row>100288797</th><td> 2.572230</td><td>-4.231906</td><td>1.1382012</td><td>-3.718064</td><td>2.007551e-04</td><td>4.378206e-03</td></tr>\n",
       "\t<tr><th scope=row>731424</th><td> 3.137399</td><td>-4.083749</td><td>1.1532103</td><td>-3.541201</td><td>3.983101e-04</td><td>7.221410e-03</td></tr>\n",
       "\t<tr><th scope=row>105369358</th><td> 2.719362</td><td> 4.003610</td><td>1.4304319</td><td> 2.798882</td><td>5.127991e-03</td><td>4.280659e-02</td></tr>\n",
       "\t<tr><th scope=row>84647</th><td> 3.830704</td><td> 3.827895</td><td>1.0203831</td><td> 3.751429</td><td>1.758292e-04</td><td>3.980759e-03</td></tr>\n",
       "\t<tr><th scope=row>9965</th><td> 2.253126</td><td>-3.732248</td><td>1.2570439</td><td>-2.969068</td><td>2.987049e-03</td><td>2.972825e-02</td></tr>\n",
       "\t<tr><th scope=row>105370793</th><td> 2.005972</td><td> 3.695012</td><td>0.8327971</td><td> 4.436870</td><td>9.127653e-06</td><td>4.403085e-04</td></tr>\n",
       "</tbody>\n",
       "</table>\n"
      ],
      "text/latex": [
       "A data.frame: 10 × 6\n",
       "\\begin{tabular}{r|llllll}\n",
       "  & baseMean & log2FoldChange & lfcSE & stat & pvalue & padj\\\\\n",
       "  & <dbl> & <dbl> & <dbl> & <dbl> & <dbl> & <dbl>\\\\\n",
       "\\hline\n",
       "\t105375767 & 14.040343 &  5.432973 & 1.4902170 &  3.645760 & 2.666029e-04 & 5.387432e-03\\\\\n",
       "\t389384 &  8.180690 &  4.564176 & 0.8554738 &  5.335261 & 9.540732e-08 & 1.381152e-05\\\\\n",
       "\t219995 & 21.773429 &  4.514836 & 0.7605770 &  5.936067 & 2.919413e-09 & 9.422123e-07\\\\\n",
       "\t4606 & 16.797894 & -4.251996 & 0.8602991 & -4.942463 & 7.714192e-07 & 6.788312e-05\\\\\n",
       "\t100288797 &  2.572230 & -4.231906 & 1.1382012 & -3.718064 & 2.007551e-04 & 4.378206e-03\\\\\n",
       "\t731424 &  3.137399 & -4.083749 & 1.1532103 & -3.541201 & 3.983101e-04 & 7.221410e-03\\\\\n",
       "\t105369358 &  2.719362 &  4.003610 & 1.4304319 &  2.798882 & 5.127991e-03 & 4.280659e-02\\\\\n",
       "\t84647 &  3.830704 &  3.827895 & 1.0203831 &  3.751429 & 1.758292e-04 & 3.980759e-03\\\\\n",
       "\t9965 &  2.253126 & -3.732248 & 1.2570439 & -2.969068 & 2.987049e-03 & 2.972825e-02\\\\\n",
       "\t105370793 &  2.005972 &  3.695012 & 0.8327971 &  4.436870 & 9.127653e-06 & 4.403085e-04\\\\\n",
       "\\end{tabular}\n"
      ],
      "text/markdown": [
       "\n",
       "A data.frame: 10 × 6\n",
       "\n",
       "| <!--/--> | baseMean &lt;dbl&gt; | log2FoldChange &lt;dbl&gt; | lfcSE &lt;dbl&gt; | stat &lt;dbl&gt; | pvalue &lt;dbl&gt; | padj &lt;dbl&gt; |\n",
       "|---|---|---|---|---|---|---|\n",
       "| 105375767 | 14.040343 |  5.432973 | 1.4902170 |  3.645760 | 2.666029e-04 | 5.387432e-03 |\n",
       "| 389384 |  8.180690 |  4.564176 | 0.8554738 |  5.335261 | 9.540732e-08 | 1.381152e-05 |\n",
       "| 219995 | 21.773429 |  4.514836 | 0.7605770 |  5.936067 | 2.919413e-09 | 9.422123e-07 |\n",
       "| 4606 | 16.797894 | -4.251996 | 0.8602991 | -4.942463 | 7.714192e-07 | 6.788312e-05 |\n",
       "| 100288797 |  2.572230 | -4.231906 | 1.1382012 | -3.718064 | 2.007551e-04 | 4.378206e-03 |\n",
       "| 731424 |  3.137399 | -4.083749 | 1.1532103 | -3.541201 | 3.983101e-04 | 7.221410e-03 |\n",
       "| 105369358 |  2.719362 |  4.003610 | 1.4304319 |  2.798882 | 5.127991e-03 | 4.280659e-02 |\n",
       "| 84647 |  3.830704 |  3.827895 | 1.0203831 |  3.751429 | 1.758292e-04 | 3.980759e-03 |\n",
       "| 9965 |  2.253126 | -3.732248 | 1.2570439 | -2.969068 | 2.987049e-03 | 2.972825e-02 |\n",
       "| 105370793 |  2.005972 |  3.695012 | 0.8327971 |  4.436870 | 9.127653e-06 | 4.403085e-04 |\n",
       "\n"
      ],
      "text/plain": [
       "          baseMean  log2FoldChange lfcSE     stat      pvalue      \n",
       "105375767 14.040343  5.432973      1.4902170  3.645760 2.666029e-04\n",
       "389384     8.180690  4.564176      0.8554738  5.335261 9.540732e-08\n",
       "219995    21.773429  4.514836      0.7605770  5.936067 2.919413e-09\n",
       "4606      16.797894 -4.251996      0.8602991 -4.942463 7.714192e-07\n",
       "100288797  2.572230 -4.231906      1.1382012 -3.718064 2.007551e-04\n",
       "731424     3.137399 -4.083749      1.1532103 -3.541201 3.983101e-04\n",
       "105369358  2.719362  4.003610      1.4304319  2.798882 5.127991e-03\n",
       "84647      3.830704  3.827895      1.0203831  3.751429 1.758292e-04\n",
       "9965       2.253126 -3.732248      1.2570439 -2.969068 2.987049e-03\n",
       "105370793  2.005972  3.695012      0.8327971  4.436870 9.127653e-06\n",
       "          padj        \n",
       "105375767 5.387432e-03\n",
       "389384    1.381152e-05\n",
       "219995    9.422123e-07\n",
       "4606      6.788312e-05\n",
       "100288797 4.378206e-03\n",
       "731424    7.221410e-03\n",
       "105369358 4.280659e-02\n",
       "84647     3.980759e-03\n",
       "9965      2.972825e-02\n",
       "105370793 4.403085e-04"
      ]
     },
     "metadata": {},
     "output_type": "display_data"
    }
   ],
   "source": [
    "head(sorted_sig_res_criz_239844, n = 10)"
   ]
  },
  {
   "cell_type": "code",
   "execution_count": 225,
   "metadata": {
    "vscode": {
     "languageId": "r"
    }
   },
   "outputs": [
    {
     "data": {
      "text/html": [
       "<style>\n",
       ".list-inline {list-style: none; margin:0; padding: 0}\n",
       ".list-inline>li {display: inline-block}\n",
       ".list-inline>li:not(:last-child)::after {content: \"\\00b7\"; padding: 0 .5ex}\n",
       "</style>\n",
       "<ol class=list-inline><li>2898</li><li>6</li></ol>\n"
      ],
      "text/latex": [
       "\\begin{enumerate*}\n",
       "\\item 2898\n",
       "\\item 6\n",
       "\\end{enumerate*}\n"
      ],
      "text/markdown": [
       "1. 2898\n",
       "2. 6\n",
       "\n",
       "\n"
      ],
      "text/plain": [
       "[1] 2898    6"
      ]
     },
     "metadata": {},
     "output_type": "display_data"
    }
   ],
   "source": [
    "dim(sig_res_criz_239844)"
   ]
  },
  {
   "cell_type": "code",
   "execution_count": null,
   "metadata": {
    "vscode": {
     "languageId": "r"
    }
   },
   "outputs": [
    {
     "name": "stderr",
     "output_type": "stream",
     "text": [
      "Warning message:\n",
      "“ggrepel: 697 unlabeled data points (too many overlaps). Consider increasing max.overlaps”\n"
     ]
    },
    {
     "data": {
      "image/png": "[encoded data removed]",
      "text/plain": [
       "plot without title"
      ]
     },
     "metadata": {
      "image/png": {
       "height": 420,
       "width": 420
      }
     },
     "output_type": "display_data"
    }
   ],
   "source": [
    "EnhancedVolcano(res_criz_239844,\n",
    "  lab = rownames(res_criz_239844),\n",
    "  x = \"log2FoldChange\",\n",
    "  y = \"padj\",\n",
    "  ylab = \"-Log 10 padj\",\n",
    "  xlab = \"Log2 Fold Change\",\n",
    "  title = \"250nM crizotinib vs DMSO\",\n",
    "  subtitle = \"GSE239844\",\n",
    "  pCutoff = 0.05,\n",
    "  FCcutoff = 1,\n",
    "  pointSize = 3,\n",
    "  labSize = 3,\n",
    "  colAlpha = 0.5,\n",
    "  legendPosition = \"right\",\n",
    "  drawConnectors = TRUE,\n",
    "  widthConnectors = 0.3\n",
    ")\n",
    "# NS in EnhancedVolcano stands for Non-Significant, meaning genes didn't meet BOTH of the thresholds for fold change and statistical significance."
   ]
  },
  {
   "cell_type": "code",
   "execution_count": 227,
   "metadata": {
    "vscode": {
     "languageId": "r"
    }
   },
   "outputs": [
    {
     "name": "stderr",
     "output_type": "stream",
     "text": [
      "'select()' returned 1:1 mapping between keys and columns\n",
      "\n"
     ]
    }
   ],
   "source": [
    "# Extract GeneIDs (column names) and map to gene symbols\n",
    "gene_ids <- rownames(sorted_sig_res_criz_239844)\n",
    "\n",
    "gene_symbols <- mapIds(\n",
    "  org.Hs.eg.db,          # Annotation package\n",
    "  keys = gene_ids,       # Input IDs (e.g., ENTREZID)\n",
    "  column = \"SYMBOL\",     # Output type\n",
    "  keytype = \"ENTREZID\",  # Input ID type\n",
    "  multiVals = \"first\"    # Handling multiple mappings\n",
    ")\n",
    "\n",
    "\n",
    "# Replace column names with gene symbols (if available)\n",
    "# If mapping fails, fall back to original ID\n",
    "new_names <- ifelse(is.na(gene_symbols), gene_ids, gene_symbols)\n",
    "rownames(sorted_sig_res_criz_239844) <- new_names\n"
   ]
  },
  {
   "cell_type": "code",
   "execution_count": 228,
   "metadata": {
    "vscode": {
     "languageId": "r"
    }
   },
   "outputs": [
    {
     "data": {
      "text/html": [
       "<table class=\"dataframe\">\n",
       "<caption>A data.frame: 6 × 6</caption>\n",
       "<thead>\n",
       "\t<tr><th></th><th scope=col>baseMean</th><th scope=col>log2FoldChange</th><th scope=col>lfcSE</th><th scope=col>stat</th><th scope=col>pvalue</th><th scope=col>padj</th></tr>\n",
       "\t<tr><th></th><th scope=col>&lt;dbl&gt;</th><th scope=col>&lt;dbl&gt;</th><th scope=col>&lt;dbl&gt;</th><th scope=col>&lt;dbl&gt;</th><th scope=col>&lt;dbl&gt;</th><th scope=col>&lt;dbl&gt;</th></tr>\n",
       "</thead>\n",
       "<tbody>\n",
       "\t<tr><th scope=row>LOC105375767</th><td>14.040343</td><td> 5.432973</td><td>1.4902170</td><td> 3.645760</td><td>2.666029e-04</td><td>5.387432e-03</td></tr>\n",
       "\t<tr><th scope=row>BNIP5</th><td> 8.180690</td><td> 4.564176</td><td>0.8554738</td><td> 5.335261</td><td>9.540732e-08</td><td>1.381152e-05</td></tr>\n",
       "\t<tr><th scope=row>MS4A15</th><td>21.773429</td><td> 4.514836</td><td>0.7605770</td><td> 5.936067</td><td>2.919413e-09</td><td>9.422123e-07</td></tr>\n",
       "\t<tr><th scope=row>MYBPC2</th><td>16.797894</td><td>-4.251996</td><td>0.8602991</td><td>-4.942463</td><td>7.714192e-07</td><td>6.788312e-05</td></tr>\n",
       "\t<tr><th scope=row>TMEM239</th><td> 2.572230</td><td>-4.231906</td><td>1.1382012</td><td>-3.718064</td><td>2.007551e-04</td><td>4.378206e-03</td></tr>\n",
       "\t<tr><th scope=row>MIR3945HG</th><td> 3.137399</td><td>-4.083749</td><td>1.1532103</td><td>-3.541201</td><td>3.983101e-04</td><td>7.221410e-03</td></tr>\n",
       "</tbody>\n",
       "</table>\n"
      ],
      "text/latex": [
       "A data.frame: 6 × 6\n",
       "\\begin{tabular}{r|llllll}\n",
       "  & baseMean & log2FoldChange & lfcSE & stat & pvalue & padj\\\\\n",
       "  & <dbl> & <dbl> & <dbl> & <dbl> & <dbl> & <dbl>\\\\\n",
       "\\hline\n",
       "\tLOC105375767 & 14.040343 &  5.432973 & 1.4902170 &  3.645760 & 2.666029e-04 & 5.387432e-03\\\\\n",
       "\tBNIP5 &  8.180690 &  4.564176 & 0.8554738 &  5.335261 & 9.540732e-08 & 1.381152e-05\\\\\n",
       "\tMS4A15 & 21.773429 &  4.514836 & 0.7605770 &  5.936067 & 2.919413e-09 & 9.422123e-07\\\\\n",
       "\tMYBPC2 & 16.797894 & -4.251996 & 0.8602991 & -4.942463 & 7.714192e-07 & 6.788312e-05\\\\\n",
       "\tTMEM239 &  2.572230 & -4.231906 & 1.1382012 & -3.718064 & 2.007551e-04 & 4.378206e-03\\\\\n",
       "\tMIR3945HG &  3.137399 & -4.083749 & 1.1532103 & -3.541201 & 3.983101e-04 & 7.221410e-03\\\\\n",
       "\\end{tabular}\n"
      ],
      "text/markdown": [
       "\n",
       "A data.frame: 6 × 6\n",
       "\n",
       "| <!--/--> | baseMean &lt;dbl&gt; | log2FoldChange &lt;dbl&gt; | lfcSE &lt;dbl&gt; | stat &lt;dbl&gt; | pvalue &lt;dbl&gt; | padj &lt;dbl&gt; |\n",
       "|---|---|---|---|---|---|---|\n",
       "| LOC105375767 | 14.040343 |  5.432973 | 1.4902170 |  3.645760 | 2.666029e-04 | 5.387432e-03 |\n",
       "| BNIP5 |  8.180690 |  4.564176 | 0.8554738 |  5.335261 | 9.540732e-08 | 1.381152e-05 |\n",
       "| MS4A15 | 21.773429 |  4.514836 | 0.7605770 |  5.936067 | 2.919413e-09 | 9.422123e-07 |\n",
       "| MYBPC2 | 16.797894 | -4.251996 | 0.8602991 | -4.942463 | 7.714192e-07 | 6.788312e-05 |\n",
       "| TMEM239 |  2.572230 | -4.231906 | 1.1382012 | -3.718064 | 2.007551e-04 | 4.378206e-03 |\n",
       "| MIR3945HG |  3.137399 | -4.083749 | 1.1532103 | -3.541201 | 3.983101e-04 | 7.221410e-03 |\n",
       "\n"
      ],
      "text/plain": [
       "             baseMean  log2FoldChange lfcSE     stat      pvalue      \n",
       "LOC105375767 14.040343  5.432973      1.4902170  3.645760 2.666029e-04\n",
       "BNIP5         8.180690  4.564176      0.8554738  5.335261 9.540732e-08\n",
       "MS4A15       21.773429  4.514836      0.7605770  5.936067 2.919413e-09\n",
       "MYBPC2       16.797894 -4.251996      0.8602991 -4.942463 7.714192e-07\n",
       "TMEM239       2.572230 -4.231906      1.1382012 -3.718064 2.007551e-04\n",
       "MIR3945HG     3.137399 -4.083749      1.1532103 -3.541201 3.983101e-04\n",
       "             padj        \n",
       "LOC105375767 5.387432e-03\n",
       "BNIP5        1.381152e-05\n",
       "MS4A15       9.422123e-07\n",
       "MYBPC2       6.788312e-05\n",
       "TMEM239      4.378206e-03\n",
       "MIR3945HG    7.221410e-03"
      ]
     },
     "metadata": {},
     "output_type": "display_data"
    }
   ],
   "source": [
    "head(sorted_sig_res_criz_239844)"
   ]
  },
  {
   "cell_type": "code",
   "execution_count": 229,
   "metadata": {
    "vscode": {
     "languageId": "r"
    }
   },
   "outputs": [],
   "source": [
    "write.csv(sorted_sig_res_criz_239844, \"sig_genes_entr_239844.csv\")"
   ]
  },
  {
   "cell_type": "markdown",
   "metadata": {},
   "source": [
    "# Difference in expression between pairs of samples"
   ]
  },
  {
   "cell_type": "code",
   "execution_count": null,
   "metadata": {
    "vscode": {
     "languageId": "r"
    }
   },
   "outputs": [],
   "source": [
    "# Function to run DESeq2 analysis for a given cell line and treatment\n",
    "run_deseq_analysis <- function(cell_lines,\n",
    "                               treatment_name_ref,\n",
    "                               treatment_name,\n",
    "                               study_code,\n",
    "                               output = FALSE,\n",
    "                               design = ~ treatment) {\n",
    "  # Construct object names based on study code\n",
    "  meta_name <- paste0(\"metadata_clean_gse\", study_code)\n",
    "  count_name <- paste0(\"count_clean_matrix_\", study_code)\n",
    "\n",
    "  # Filter metadata\n",
    "  meta_filtered <- get(meta_name) %>%\n",
    "    filter(`cell line:ch1` %in% cell_lines &\n",
    "             (`treatment:ch1` == treatment_name |\n",
    "                `treatment:ch1` == treatment_name_ref))\n",
    "\n",
    "  # Subset count matrix\n",
    "  count_subset <- get(count_name)[, meta_filtered$geo_accession]\n",
    "\n",
    "  # Create DESeqDataSet\n",
    "  deseq_data <- DESeqDataSetFromMatrix(\n",
    "    countData = count_subset,\n",
    "    colData = meta_filtered,\n",
    "    design = design\n",
    "  )\n",
    "\n",
    "  # Run analysis\n",
    "  deseq_data <- DESeq(deseq_data)\n",
    "\n",
    "  # Process results\n",
    "  res <- results(deseq_data)\n",
    "  summary(res)\n",
    "  res <- as.data.frame(res)\n",
    "  res <- res %>%\n",
    "    filter(!is.na(padj)) %>%  # Remove NA p-values\n",
    "    filter(padj < 0.05)\n",
    "\n",
    "  # Sort results\n",
    "  res <- res[order(-abs(res$log2FoldChange), res$padj), ]\n",
    "\n",
    "  # Extract GeneIDs (column names) and map to gene symbols\n",
    "  gene_ids <- rownames(res)\n",
    "\n",
    "  gene_symbols <- mapIds(\n",
    "    org.Hs.eg.db,          # Annotation package\n",
    "    keys = gene_ids,       # Input IDs (e.g., ENTREZID)\n",
    "    column = \"SYMBOL\",     # Output type\n",
    "    keytype = \"ENTREZID\",  # Input ID type\n",
    "    multiVals = \"first\"    # Handling multiple mappings\n",
    "  )\n",
    "\n",
    "  # Replace column names with gene symbols (if available)\n",
    "  # If mapping fails, fall back to original ID\n",
    "  new_names <- ifelse(is.na(gene_symbols), gene_ids, gene_symbols)\n",
    "  \n",
    "  # Create a new dataframe with gene column as the first column\n",
    "  res_with_gene <- res\n",
    "  res_with_gene$gene <- new_names  # Add gene column\n",
    "  \n",
    "  # Reorder columns to put gene first\n",
    "  res_with_gene <- res_with_gene %>%\n",
    "    dplyr::select(gene, everything())\n",
    "  \n",
    "  # For the returned dataframe, keep the rownames as is\n",
    "  rownames(res) <- new_names\n",
    "\n",
    "  if (output) {\n",
    "    # For the CSV output, write with gene as a named column\n",
    "    write.csv(res_with_gene,\n",
    "              paste0(\n",
    "                     treatment_name_ref,\n",
    "                     treatment_name,\n",
    "                     toString(cell_lines),\n",
    "                     \".csv\"),\n",
    "                     row.names = FALSE)  # Don't include row names since we have a gene column\n",
    "  }\n",
    "\n",
    "  # Return the original dataframe with rownames for use in R\n",
    "  return(res)\n",
    "}\n"
   ]
  },
  {
   "cell_type": "markdown",
   "metadata": {},
   "source": [
    "# Intra-Study Comparisons"
   ]
  },
  {
   "cell_type": "code",
   "execution_count": 85,
   "metadata": {
    "vscode": {
     "languageId": "r"
    }
   },
   "outputs": [],
   "source": [
    "comparisons <- list(\n",
    "  # Cuto-28 TPM3 500 nM crizotinib vs control\n",
    "  list(cell_lines = \"CUTO28 (TPM3-ROS1)\",\n",
    "       treatment_name = \"500nM crizotinib\",\n",
    "       treatment_name_ref = \"none\",\n",
    "       design = ~ treatment,\n",
    "       study_code = \"214715\"),\n",
    "  # Cuto-28 TPM3 500 nM entrectinib vs control\n",
    "  list(cell_lines = \"CUTO28 (TPM3-ROS1)\",\n",
    "       treatment_name = \"500nM entrectinib\",\n",
    "       treatment_name_ref = \"none\",\n",
    "       design = ~ treatment,\n",
    "       study_code = \"214715\"),\n",
    "  # Cuto-37 CD74 500 nM crizotinib vs control\n",
    "  list(cell_lines = \"CUTO37 (CD74-ROS1)\",\n",
    "       treatment_name = \"500nM crizotinib\",\n",
    "       treatment_name_ref = \"none\",\n",
    "       design = ~ treatment,\n",
    "       study_code = \"214715\"),\n",
    "  # Cuto-37 CD74 500 nM entrectinib vs control\n",
    "  list(cell_lines = \"CUTO37 (CD74-ROS1)\",\n",
    "       treatment_name = \"500nM entrectinib\",\n",
    "       treatment_name_ref = \"none\",\n",
    "       design = ~ treatment,\n",
    "       study_code = \"214715\"),\n",
    "  # Cuto-28 TPM3 500 nM crizotinib vs Cuto-37 CD74 500 nM crizotinib\n",
    "  list(cell_lines = c(\"CUTO28 (TPM3-ROS1)\", \"CUTO37 (CD74-ROS1)\"),\n",
    "       treatment_name = \"500nM crizotinib\",\n",
    "       treatment_name_ref = \"500nM crizotinib\",\n",
    "       design = ~ cell_line,\n",
    "       study_code = \"214715\"),\n",
    "  # Cuto-28 TPM3 500 nM entrectinib vs Cuto-37 CD74 500 nM entrectinib\n",
    "  list(cell_lines = c(\"CUTO28 (TPM3-ROS1)\", \"CUTO37 (CD74-ROS1)\"),\n",
    "       treatment_name = \"500nM entrectinib\",\n",
    "       treatment_name_ref = \"500nM entrectinib\",\n",
    "       design = ~ cell_line,\n",
    "       study_code = \"214715\"),\n",
    "\n",
    "#   Cuto-23 CD74 250nM crizotinib vs others\n",
    "  list(cell_lines = c(\"CUTO23\", \"CUTO27\"),\n",
    "       treatment_name = \"250 nM crizotinib\",\n",
    "       treatment_name_ref = \"250 nM crizotinib\",\n",
    "       design = ~ cell_line,\n",
    "       study_code = \"239844\"),\n",
    "\n",
    "  list(cell_lines = c(\"CUTO23\", \"CUTO28\"),\n",
    "       treatment_name = \"250 nM crizotinib\",\n",
    "       treatment_name_ref = \"250 nM crizotinib\",\n",
    "       design = ~ cell_line,\n",
    "       study_code = \"239844\"),\n",
    "\n",
    "  list(cell_lines = c(\"CUTO23\", \"CUTO33\"),\n",
    "       treatment_name = \"250 nM crizotinib\",\n",
    "       treatment_name_ref = \"250 nM crizotinib\",\n",
    "       design = ~ cell_line,\n",
    "       study_code = \"239844\"),\n",
    "  list(cell_lines = c(\"CUTO23\", \"CUTO37\"),\n",
    "       treatment_name = \"250 nM crizotinib\",\n",
    "       treatment_name_ref = \"250 nM crizotinib\",\n",
    "       design = ~ cell_line,\n",
    "       study_code = \"239844\"),\n",
    "  list(cell_lines = c(\"CUTO23\", \"CUTO38\"),\n",
    "       treatment_name = \"250 nM crizotinib\",\n",
    "       treatment_name_ref = \"250 nM crizotinib\",\n",
    "       design = ~ cell_line,\n",
    "       study_code = \"239844\"),\n",
    "\n",
    "  # Cuto-27 CD74 250nM crizotinib vs others\n",
    "  list(cell_lines = c(\"CUTO27\", \"CUTO28\"),\n",
    "       treatment_name = \"250 nM crizotinib\",\n",
    "       treatment_name_ref = \"250 nM crizotinib\",\n",
    "       design = ~ cell_line,\n",
    "       study_code = \"239844\"),\n",
    "\n",
    "  list(cell_lines = c(\"CUTO27\", \"CUTO33\"),\n",
    "       treatment_name = \"250 nM crizotinib\",\n",
    "       treatment_name_ref = \"250 nM crizotinib\",\n",
    "       design = ~ cell_line,\n",
    "       study_code = \"239844\"),\n",
    "  list(cell_lines = c(\"CUTO27\", \"CUTO37\"),\n",
    "       treatment_name = \"250 nM crizotinib\",\n",
    "       treatment_name_ref = \"250 nM crizotinib\",\n",
    "       design = ~ cell_line,\n",
    "       study_code = \"239844\"),\n",
    "  list(cell_lines = c(\"CUTO27\", \"CUTO38\"),\n",
    "       treatment_name = \"250 nM crizotinib\",\n",
    "       treatment_name_ref = \"250 nM crizotinib\",\n",
    "       design = ~ cell_line,\n",
    "       study_code = \"239844\"),\n",
    "\n",
    "  # Cuto-28 TPM3 250nM crizotinib vs others\n",
    "  list(cell_lines = c(\"CUTO28\", \"CUTO33\"),\n",
    "       treatment_name = \"250 nM crizotinib\",\n",
    "       treatment_name_ref = \"250 nM crizotinib\",\n",
    "       design = ~ cell_line,\n",
    "       study_code = \"239844\"),\n",
    "  list(cell_lines = c(\"CUTO28\", \"CUTO37\"),\n",
    "       treatment_name = \"250 nM crizotinib\",\n",
    "       treatment_name_ref = \"250 nM crizotinib\",\n",
    "       design = ~ cell_line,\n",
    "       study_code = \"239844\"),\n",
    "  list(cell_lines = c(\"CUTO28\", \"CUTO38\"),\n",
    "       treatment_name = \"250 nM crizotinib\",\n",
    "       treatment_name_ref = \"250 nM crizotinib\",\n",
    "       design = ~ cell_line,\n",
    "       study_code = \"239844\"),\n",
    "\n",
    "  # Cuto-33 CD74 250nM crizotinib vs others\n",
    "  list(cell_lines = c(\"CUTO33\", \"CUTO37\"),\n",
    "       treatment_name = \"250 nM crizotinib\",\n",
    "       treatment_name_ref = \"250 nM crizotinib\",\n",
    "       design = ~ cell_line,\n",
    "       study_code = \"239844\"),\n",
    "  list(cell_lines = c(\"CUTO33\", \"CUTO38\"),\n",
    "       treatment_name = \"250 nM crizotinib\",\n",
    "       treatment_name_ref = \"250 nM crizotinib\",\n",
    "       design = ~ cell_line,\n",
    "       study_code = \"239844\"),\n",
    "  # Cuto-37 CD74 250nM crizotinib vs others\n",
    "  list(cell_lines = c(\"CUTO37\", \"CUTO38\"),\n",
    "       treatment_name = \"250 nM crizotinib\",\n",
    "       treatment_name_ref = \"250 nM crizotinib\",\n",
    "       design = ~ cell_line,\n",
    "       study_code = \"239844\"),\n",
    "\n",
    "  # Ctrl Vs 250nM crizotinib for each sample\n",
    "  list(cell_lines = \"CUTO23\",\n",
    "       treatment_name = \"250 nM crizotinib\",\n",
    "       treatment_name_ref = \"DMSO\",\n",
    "       study_code = \"239844\",\n",
    "       design = ~ treatment),\n",
    "\n",
    "  list(cell_lines = \"CUTO27\",\n",
    "       treatment_name = \"250 nM crizotinib\",\n",
    "       treatment_name_ref = \"DMSO\",\n",
    "       study_code = \"239844\",\n",
    "       design = ~ treatment),\n",
    "\n",
    "  list(cell_lines = \"CUTO28\",\n",
    "       treatment_name = \"250 nM crizotinib\",\n",
    "       treatment_name_ref = \"DMSO\",\n",
    "       study_code = \"239844\",\n",
    "       design = ~ treatment),\n",
    "\n",
    "  list(cell_lines = \"CUTO33\",\n",
    "       treatment_name = \"250 nM crizotinib\",\n",
    "       treatment_name_ref = \"DMSO\",\n",
    "       study_code = \"239844\",\n",
    "       design = ~ treatment),\n",
    "\n",
    "  list(cell_lines = \"CUTO37\",\n",
    "       treatment_name = \"250 nM crizotinib\",\n",
    "       treatment_name_ref = \"DMSO\",\n",
    "       study_code = \"239844\",\n",
    "       design = ~ treatment),\n",
    "\n",
    "  list(cell_lines = \"CUTO38\",\n",
    "       treatment_name = \"250 nM crizotinib\",\n",
    "       treatment_name_ref = \"DMSO\",\n",
    "       study_code = \"239844\",\n",
    "       design = ~ treatment)\n",
    "\n",
    ")\n"
   ]
  },
  {
   "cell_type": "code",
   "execution_count": null,
   "metadata": {
    "vscode": {
     "languageId": "r"
    }
   },
   "outputs": [],
   "source": [
    "results_list <- list()\n",
    "for (i in seq_along(comparisons)) {\n",
    "  comp <- comparisons[[i]]\n",
    "  message(\"Running comparison \", i, \": \", paste(comp$cell_lines, collapse = \", \"), \" | \", comp$treatment_name_ref, \" vs \", comp$treatment_name)\n",
    "  results_list[[i]] <- run_deseq_analysis(\n",
    "    cell_lines = comp$cell_lines,\n",
    "    treatment_name_ref = comp$treatment_name_ref,\n",
    "    treatment_name = comp$treatment_name,\n",
    "    study_code = comp$study_code,\n",
    "    output = TRUE,\n",
    "    design = comp$design\n",
    "  )\n",
    "}\n"
   ]
  },
  {
   "cell_type": "markdown",
   "metadata": {},
   "source": [
    "# Inter-Study Comparison\n",
    "We are going to compare the effect of different treatments, on the same cell line. To do This, we're going to use both studies, each containing a specific treatment.\n"
   ]
  },
  {
   "cell_type": "code",
   "execution_count": null,
   "metadata": {
    "vscode": {
     "languageId": "r"
    }
   },
   "outputs": [],
   "source": [
    "# Filter metadata\n",
    "meta_filtered_500criz <- metadata_clean_gse214715 %>%\n",
    "  filter(`cell line:ch1` %in% c(\"CUTO28 (TPM3-ROS1)\", \"CUTO37 (CD74-ROS1)\") &\n",
    "           `treatment:ch1` == \"500nM crizotinib\")\n",
    "\n",
    "\n",
    "# Subset count matrix\n",
    "count_subset_500criz <- count_clean_matrix_214715[, meta_filtered_500criz$geo_accession]"
   ]
  },
  {
   "cell_type": "code",
   "execution_count": null,
   "metadata": {
    "vscode": {
     "languageId": "r"
    }
   },
   "outputs": [],
   "source": [
    "meta_filtered_250criz <- metadata_clean_gse239844 %>%\n",
    "  filter(`cell line:ch1` %in% c(\"CUTO28\", \"CUTO37\") &\n",
    "           (`treatment:ch1` == \"250 nM crizotinib\"))\n",
    "\n",
    "# Subset count matrix\n",
    "count_subset_250criz <- count_clean_matrix_239844[, meta_filtered_250criz$geo_accession]\n"
   ]
  },
  {
   "cell_type": "code",
   "execution_count": 90,
   "metadata": {
    "vscode": {
     "languageId": "r"
    }
   },
   "outputs": [],
   "source": [
    "metadata_clean_gse2425 <- rbind(meta_filtered_250criz, meta_filtered_500criz)\n",
    "count_clean_matrix_2425 <- cbind(count_subset_250criz, count_subset_500criz)"
   ]
  },
  {
   "cell_type": "code",
   "execution_count": 91,
   "metadata": {
    "vscode": {
     "languageId": "r"
    }
   },
   "outputs": [],
   "source": [
    "comparisons <- list(\n",
    "                    list(cell_lines = c(\"CUTO28\", \"CUTO28 (TPM3-ROS1)\"),\n",
    "                         treatment_name = \"500nM crizotinib\",\n",
    "                         treatment_name_ref = \"250 nM crizotinib\",\n",
    "                         design = ~ treatment,\n",
    "                         study_code = \"2425\"),\n",
    "\n",
    "                    list(cell_lines = c(\"CUTO37\", \"CUTO37 (CD74-ROS1)\"),\n",
    "                         treatment_name = \"500nM crizotinib\",\n",
    "                         treatment_name_ref = \"250 nM crizotinib\",\n",
    "                         design = ~ treatment,\n",
    "                         study_code = \"2425\")\n",
    ")"
   ]
  },
  {
   "cell_type": "code",
   "execution_count": null,
   "metadata": {
    "vscode": {
     "languageId": "r"
    }
   },
   "outputs": [],
   "source": [
    "results_list <- list()\n",
    "for (i in seq_along(comparisons)) {\n",
    "  comp <- comparisons[[i]]\n",
    "  message(\"Running comparison \", i, \": \", paste(comp$cell_lines, collapse = \", \"), \" | \", comp$treatment_name_ref, \" vs \", comp$treatment_name)\n",
    "  results_list[[i]] <- run_deseq_analysis(\n",
    "    cell_lines = comp$cell_lines,\n",
    "    treatment_name_ref = comp$treatment_name_ref,\n",
    "    treatment_name = comp$treatment_name,\n",
    "    study_code = comp$study_code,\n",
    "    output = TRUE,\n",
    "    design = comp$design\n",
    "  )\n",
    "}"
   ]
  },
  {
   "cell_type": "markdown",
   "metadata": {},
   "source": [
    "# Gene Name Mapping"
   ]
  },
  {
   "cell_type": "code",
   "execution_count": 52,
   "metadata": {
    "vscode": {
     "languageId": "r"
    }
   },
   "outputs": [],
   "source": [
    "library(org.Hs.eg.db)\n",
    "library(AnnotationDbi)\n",
    "library(dplyr)\n",
    "\n",
    "map_gene_ids_to_symbols <- function(count_df, output_file = NULL, id_type = \"ENTREZID\") {\n",
    "    # Check if the GeneID column exists\n",
    "    if (!\"GeneID\" %in% colnames(count_df)) {\n",
    "        stop(\"The 'GeneID' column is not found in the data frame.\")\n",
    "    }\n",
    "    # Ensure GeneID is character, not numeric or factor\n",
    "    gene_ids <- as.character(count_df$GeneID)\n",
    "    \n",
    "    # Map to gene symbols\n",
    "    gene_symbols <- mapIds(\n",
    "        org.Hs.eg.db,\n",
    "        keys = gene_ids,\n",
    "        column = \"SYMBOL\",\n",
    "        keytype = id_type,\n",
    "        multiVals = \"first\"\n",
    "    )\n",
    "    gene_symbols <- unlist(gene_symbols)\n",
    "    new_names <- ifelse(is.na(gene_symbols), gene_ids, gene_symbols)\n",
    "    \n",
    "    # Add gene column and remove GeneID column\n",
    "    count_df <- count_df %>%\n",
    "        mutate(gene = new_names) %>%\n",
    "        dplyr::select(-GeneID) %>%\n",
    "        as.data.frame()\n",
    "    \n",
    "    # Ensure gene names are unique before setting as row names\n",
    "    count_df$gene <- make.unique(count_df$gene)\n",
    "    rownames(count_df) <- count_df$gene\n",
    "    count_df$gene <- NULL\n",
    "    \n",
    "    # Optionally write to CSV\n",
    "    if (!is.null(output_file)) {\n",
    "        write.csv(count_df, file = output_file)\n",
    "    }\n",
    "    \n",
    "    return(count_df)\n",
    "}\n"
   ]
  },
  {
   "cell_type": "code",
   "execution_count": 53,
   "metadata": {
    "vscode": {
     "languageId": "r"
    }
   },
   "outputs": [
    {
     "name": "stderr",
     "output_type": "stream",
     "text": [
      "'select()' returned 1:1 mapping between keys and columns\n",
      "\n",
      "'select()' returned 1:1 mapping between keys and columns\n",
      "\n"
     ]
    }
   ],
   "source": [
    "# Map and save\n",
    "modified_counts_214715 <- map_gene_ids_to_symbols(\n",
    "    raw_counts_gse214715,\n",
    "    output_file = \"raw_count_gse214715.csv\"\n",
    ")\n",
    "modified_counts_239844 <- map_gene_ids_to_symbols(\n",
    "    raw_counts_gse239844,\n",
    "    output_file = \"raw_count_gse239844.csv\"\n",
    ")"
   ]
  },
  {
   "cell_type": "code",
   "execution_count": 54,
   "metadata": {
    "vscode": {
     "languageId": "r"
    }
   },
   "outputs": [
    {
     "data": {
      "text/html": [
       "<table class=\"dataframe\">\n",
       "<caption>A data.frame: 39376 × 17</caption>\n",
       "<thead>\n",
       "\t<tr><th></th><th scope=col>GSM6614824</th><th scope=col>GSM6614825</th><th scope=col>GSM6614826</th><th scope=col>GSM6614827</th><th scope=col>GSM6614828</th><th scope=col>GSM6614829</th><th scope=col>GSM6614830</th><th scope=col>GSM6614831</th><th scope=col>GSM6614832</th><th scope=col>GSM6614833</th><th scope=col>GSM6614834</th><th scope=col>GSM6614835</th><th scope=col>GSM6614836</th><th scope=col>GSM6614837</th><th scope=col>GSM6614838</th><th scope=col>GSM6614839</th><th scope=col>GSM6614840</th></tr>\n",
       "\t<tr><th></th><th scope=col>&lt;int&gt;</th><th scope=col>&lt;int&gt;</th><th scope=col>&lt;int&gt;</th><th scope=col>&lt;int&gt;</th><th scope=col>&lt;int&gt;</th><th scope=col>&lt;int&gt;</th><th scope=col>&lt;int&gt;</th><th scope=col>&lt;int&gt;</th><th scope=col>&lt;int&gt;</th><th scope=col>&lt;int&gt;</th><th scope=col>&lt;int&gt;</th><th scope=col>&lt;int&gt;</th><th scope=col>&lt;int&gt;</th><th scope=col>&lt;int&gt;</th><th scope=col>&lt;int&gt;</th><th scope=col>&lt;int&gt;</th><th scope=col>&lt;int&gt;</th></tr>\n",
       "</thead>\n",
       "<tbody>\n",
       "\t<tr><th scope=row>DDX11L1</th><td>  1</td><td>  0</td><td>  0</td><td>  0</td><td>  1</td><td>  0</td><td>   0</td><td>  0</td><td>  1</td><td>  0</td><td>  1</td><td>  0</td><td>  0</td><td>   0</td><td>  0</td><td>   1</td><td>  0</td></tr>\n",
       "\t<tr><th scope=row>WASH7P</th><td>189</td><td>136</td><td>175</td><td>234</td><td>314</td><td>210</td><td> 497</td><td>293</td><td>321</td><td>243</td><td>237</td><td>166</td><td>168</td><td> 218</td><td>180</td><td> 249</td><td>128</td></tr>\n",
       "\t<tr><th scope=row>MIR6859-1</th><td>  4</td><td>  1</td><td>  2</td><td>  3</td><td>  8</td><td>  2</td><td>  23</td><td> 10</td><td> 15</td><td>  8</td><td> 10</td><td>  1</td><td>  2</td><td>   1</td><td>  2</td><td>   2</td><td>  2</td></tr>\n",
       "\t<tr><th scope=row>MIR1302-2HG</th><td>  0</td><td>  0</td><td>  0</td><td>  1</td><td>  0</td><td>  1</td><td>   0</td><td>  1</td><td>  1</td><td>  1</td><td>  0</td><td>  0</td><td>  0</td><td>   0</td><td>  0</td><td>   0</td><td>  0</td></tr>\n",
       "\t<tr><th scope=row>MIR1302-2</th><td>  0</td><td>  0</td><td>  0</td><td>  0</td><td>  0</td><td>  1</td><td>   0</td><td>  0</td><td>  0</td><td>  0</td><td>  0</td><td>  0</td><td>  0</td><td>   0</td><td>  0</td><td>   0</td><td>  0</td></tr>\n",
       "\t<tr><th scope=row>FAM138A</th><td>  0</td><td>  0</td><td>  0</td><td>  0</td><td>  0</td><td>  0</td><td>   0</td><td>  0</td><td>  1</td><td>  3</td><td>  0</td><td>  1</td><td>  0</td><td>   0</td><td>  0</td><td>   0</td><td>  0</td></tr>\n",
       "\t<tr><th scope=row>OR4F5</th><td>  0</td><td>  0</td><td>  0</td><td>  0</td><td>  0</td><td>  0</td><td>   0</td><td>  0</td><td>  0</td><td>  0</td><td>  0</td><td>  0</td><td>  0</td><td>   0</td><td>  0</td><td>   0</td><td>  0</td></tr>\n",
       "\t<tr><th scope=row>LOC100996442</th><td> 20</td><td>  4</td><td> 14</td><td> 30</td><td> 32</td><td> 16</td><td>  44</td><td> 20</td><td> 33</td><td> 34</td><td> 26</td><td>  7</td><td> 12</td><td>  10</td><td>  6</td><td>   9</td><td>  9</td></tr>\n",
       "\t<tr><th scope=row>LOC729737</th><td>736</td><td>298</td><td>487</td><td>494</td><td>332</td><td>361</td><td>1218</td><td>579</td><td>788</td><td>425</td><td>278</td><td> 56</td><td> 96</td><td>  67</td><td> 28</td><td>  77</td><td> 65</td></tr>\n",
       "\t<tr><th scope=row>DDX11L17</th><td>  1</td><td>  0</td><td>  0</td><td>  0</td><td>  1</td><td>  0</td><td>   0</td><td>  0</td><td>  0</td><td>  0</td><td>  0</td><td>  0</td><td>  0</td><td>   2</td><td>  0</td><td>   0</td><td>  0</td></tr>\n",
       "\t<tr><th scope=row>WASH9P</th><td>242</td><td>184</td><td>211</td><td>264</td><td>395</td><td>251</td><td> 510</td><td>323</td><td>371</td><td>313</td><td>275</td><td>194</td><td>199</td><td> 252</td><td>196</td><td> 334</td><td>183</td></tr>\n",
       "\t<tr><th scope=row>MIR6859-2</th><td>  2</td><td>  1</td><td>  2</td><td>  5</td><td>  5</td><td>  3</td><td>   8</td><td>  8</td><td> 15</td><td>  4</td><td>  6</td><td>  1</td><td>  2</td><td>   2</td><td>  1</td><td>   2</td><td>  1</td></tr>\n",
       "\t<tr><th scope=row>107985721</th><td>  0</td><td>  0</td><td>  0</td><td>  0</td><td>  0</td><td>  1</td><td>   0</td><td>  2</td><td>  0</td><td>  1</td><td>  0</td><td>  0</td><td>  0</td><td>   0</td><td>  0</td><td>   0</td><td>  1</td></tr>\n",
       "\t<tr><th scope=row>LOC112268260</th><td>  2</td><td>  2</td><td>  5</td><td>  3</td><td>  3</td><td>  2</td><td>   7</td><td>  3</td><td> 18</td><td> 14</td><td> 12</td><td>  4</td><td>  2</td><td>   4</td><td>  4</td><td>   5</td><td>  4</td></tr>\n",
       "\t<tr><th scope=row>OR4F29</th><td>  0</td><td>  0</td><td>  0</td><td>  0</td><td>  0</td><td>  0</td><td>   0</td><td>  0</td><td>  0</td><td>  0</td><td>  0</td><td>  1</td><td>  0</td><td>   0</td><td>  0</td><td>   0</td><td>  0</td></tr>\n",
       "\t<tr><th scope=row>LOC100132287</th><td>209</td><td>119</td><td>165</td><td>156</td><td>164</td><td>141</td><td> 369</td><td>190</td><td>261</td><td>198</td><td>139</td><td> 47</td><td> 77</td><td>  82</td><td> 37</td><td>  83</td><td> 63</td></tr>\n",
       "\t<tr><th scope=row>LOC105378947</th><td>  0</td><td>  0</td><td>  1</td><td>  0</td><td>  0</td><td>  0</td><td>   0</td><td>  1</td><td>  1</td><td>  1</td><td>  1</td><td>  0</td><td>  0</td><td>   0</td><td>  0</td><td>   0</td><td>  0</td></tr>\n",
       "\t<tr><th scope=row>LOC101928626</th><td>  0</td><td>  0</td><td>  0</td><td>  0</td><td>  0</td><td>  0</td><td>   0</td><td>  0</td><td>  0</td><td>  0</td><td>  0</td><td>  0</td><td>  0</td><td>   0</td><td>  0</td><td>   0</td><td>  0</td></tr>\n",
       "\t<tr><th scope=row>MIR12136</th><td>445</td><td>318</td><td>818</td><td>736</td><td>532</td><td>489</td><td> 825</td><td>560</td><td>321</td><td>409</td><td>253</td><td>543</td><td>746</td><td>1252</td><td>873</td><td>1508</td><td>292</td></tr>\n",
       "\t<tr><th scope=row>OR4F16</th><td>  1</td><td>  0</td><td>  1</td><td>  2</td><td>  4</td><td>  3</td><td>   3</td><td>  1</td><td>  3</td><td>  5</td><td>  6</td><td>  2</td><td>  2</td><td>   1</td><td>  2</td><td>   1</td><td>  2</td></tr>\n",
       "\t<tr><th scope=row>100133331</th><td>152</td><td> 98</td><td>103</td><td>108</td><td>147</td><td>114</td><td> 303</td><td>163</td><td>223</td><td>155</td><td>137</td><td> 70</td><td> 76</td><td>  67</td><td> 37</td><td>  83</td><td> 57</td></tr>\n",
       "\t<tr><th scope=row>107984841</th><td> 54</td><td> 31</td><td> 36</td><td> 44</td><td> 35</td><td> 24</td><td> 108</td><td> 45</td><td> 31</td><td> 27</td><td> 31</td><td>  7</td><td>  9</td><td>   5</td><td>  9</td><td>   7</td><td> 11</td></tr>\n",
       "\t<tr><th scope=row>107984847</th><td> 53</td><td> 27</td><td> 42</td><td> 39</td><td> 64</td><td> 42</td><td>  98</td><td> 51</td><td> 52</td><td> 34</td><td> 25</td><td>  5</td><td>  9</td><td>  12</td><td>  5</td><td>   9</td><td> 18</td></tr>\n",
       "\t<tr><th scope=row>107984849</th><td> 27</td><td>  8</td><td> 19</td><td> 12</td><td> 16</td><td>  7</td><td>  39</td><td> 25</td><td> 21</td><td> 13</td><td>  5</td><td>  1</td><td>  2</td><td>   3</td><td>  1</td><td>   7</td><td>  4</td></tr>\n",
       "\t<tr><th scope=row>LOC100288069</th><td> 45</td><td> 14</td><td> 12</td><td> 34</td><td> 80</td><td> 28</td><td>  82</td><td> 56</td><td> 24</td><td> 15</td><td> 43</td><td>  3</td><td> 23</td><td>  12</td><td>  5</td><td>   9</td><td> 31</td></tr>\n",
       "\t<tr><th scope=row>LINC01409</th><td>  6</td><td>  8</td><td>  6</td><td>  6</td><td> 13</td><td> 12</td><td>  16</td><td>  4</td><td>  7</td><td>  4</td><td>  7</td><td>  8</td><td>  4</td><td>   9</td><td>  0</td><td>   3</td><td>  4</td></tr>\n",
       "\t<tr><th scope=row>FAM87B</th><td>  5</td><td>  3</td><td>  0</td><td>  3</td><td> 13</td><td>  5</td><td>   7</td><td> 11</td><td>  3</td><td>  8</td><td>  6</td><td>  3</td><td>  3</td><td>   6</td><td>  1</td><td>   0</td><td>  6</td></tr>\n",
       "\t<tr><th scope=row>LINC00115</th><td> 27</td><td> 28</td><td> 37</td><td> 18</td><td> 20</td><td> 36</td><td>  41</td><td> 49</td><td> 16</td><td>  9</td><td>  8</td><td>  7</td><td>  5</td><td>   2</td><td>  1</td><td>   6</td><td>  6</td></tr>\n",
       "\t<tr><th scope=row>LINC01128</th><td>237</td><td>254</td><td>185</td><td>200</td><td>324</td><td>169</td><td> 340</td><td>216</td><td>147</td><td>189</td><td>190</td><td> 92</td><td> 66</td><td>  77</td><td> 50</td><td> 106</td><td> 81</td></tr>\n",
       "\t<tr><th scope=row>LOC107984850</th><td>  0</td><td>  0</td><td>  1</td><td>  2</td><td>  0</td><td>  0</td><td>   0</td><td>  0</td><td>  0</td><td>  0</td><td>  0</td><td>  0</td><td>  0</td><td>   1</td><td>  0</td><td>   0</td><td>  0</td></tr>\n",
       "\t<tr><th scope=row>⋮</th><td>⋮</td><td>⋮</td><td>⋮</td><td>⋮</td><td>⋮</td><td>⋮</td><td>⋮</td><td>⋮</td><td>⋮</td><td>⋮</td><td>⋮</td><td>⋮</td><td>⋮</td><td>⋮</td><td>⋮</td><td>⋮</td><td>⋮</td></tr>\n",
       "\t<tr><th scope=row>TRNQ</th><td>    34</td><td>   21</td><td>    51</td><td>   229</td><td>    83</td><td>   161</td><td>    66</td><td>    77</td><td>    19</td><td>    20</td><td>    27</td><td>     6</td><td>     8</td><td>    63</td><td>    10</td><td>    16</td><td>     4</td></tr>\n",
       "\t<tr><th scope=row>TRNM</th><td>    32</td><td>   17</td><td>    43</td><td>   193</td><td>    97</td><td>   148</td><td>    69</td><td>    64</td><td>    19</td><td>    28</td><td>    36</td><td>    11</td><td>    10</td><td>    92</td><td>     6</td><td>    23</td><td>     7</td></tr>\n",
       "\t<tr><th scope=row>ND2</th><td> 33596</td><td>20821</td><td> 61423</td><td> 54273</td><td> 31705</td><td> 36916</td><td> 67361</td><td> 65248</td><td> 28747</td><td> 24870</td><td> 22873</td><td> 32178</td><td> 33784</td><td> 79558</td><td> 43230</td><td> 82437</td><td> 15834</td></tr>\n",
       "\t<tr><th scope=row>TRNW</th><td>    70</td><td>   65</td><td>   229</td><td>   177</td><td>    42</td><td>    86</td><td>    97</td><td>   142</td><td>    35</td><td>    38</td><td>    30</td><td>    65</td><td>    73</td><td>   143</td><td>    69</td><td>   150</td><td>    25</td></tr>\n",
       "\t<tr><th scope=row>TRNA</th><td>  1917</td><td> 1220</td><td>  2603</td><td>  4984</td><td>  2984</td><td>  4141</td><td>  2919</td><td>  2199</td><td>  3037</td><td>  2666</td><td>  2609</td><td>  7797</td><td> 11668</td><td> 19137</td><td> 14490</td><td> 22767</td><td>  7595</td></tr>\n",
       "\t<tr><th scope=row>TRNN</th><td>  2290</td><td> 1504</td><td>  3066</td><td>  5610</td><td>  3663</td><td>  4719</td><td>  3758</td><td>  2776</td><td>  3717</td><td>  3175</td><td>  3251</td><td>  9214</td><td> 13653</td><td> 22294</td><td> 16650</td><td> 26722</td><td>  8712</td></tr>\n",
       "\t<tr><th scope=row>TRNC</th><td>  2876</td><td> 1871</td><td>  3705</td><td>  6332</td><td>  4113</td><td>  5289</td><td>  4916</td><td>  3800</td><td>  4096</td><td>  3545</td><td>  3698</td><td>  9499</td><td> 14074</td><td> 22997</td><td> 17037</td><td> 27390</td><td>  9019</td></tr>\n",
       "\t<tr><th scope=row>TRNY</th><td>  4211</td><td> 2798</td><td>  6359</td><td>  9658</td><td>  4966</td><td>  6871</td><td>  6847</td><td>  5497</td><td>  4683</td><td>  4119</td><td>  4554</td><td>  9405</td><td> 14046</td><td> 23070</td><td> 16857</td><td> 26970</td><td>  9059</td></tr>\n",
       "\t<tr><th scope=row>COX1</th><td>120471</td><td>83512</td><td>215604</td><td>364316</td><td>202613</td><td>214321</td><td>278854</td><td>209483</td><td>198416</td><td>189657</td><td>170309</td><td>254064</td><td>360439</td><td>673826</td><td>409557</td><td>632379</td><td>149416</td></tr>\n",
       "\t<tr><th scope=row>TRNS1</th><td>  4171</td><td> 2817</td><td>  8300</td><td> 10332</td><td>  5748</td><td>  6905</td><td>  7416</td><td>  5343</td><td>  7199</td><td>  9230</td><td>  5836</td><td> 11969</td><td> 15730</td><td> 27393</td><td> 18022</td><td> 29477</td><td>  7080</td></tr>\n",
       "\t<tr><th scope=row>TRND</th><td>    24</td><td>   25</td><td>    73</td><td>   330</td><td>   101</td><td>   132</td><td>    72</td><td>    41</td><td>   104</td><td>   111</td><td>    89</td><td>    40</td><td>    50</td><td>    82</td><td>    75</td><td>   127</td><td>    31</td></tr>\n",
       "\t<tr><th scope=row>COX2</th><td> 63455</td><td>44196</td><td>124683</td><td>130262</td><td> 66042</td><td> 75578</td><td>117650</td><td>104290</td><td> 78924</td><td> 60776</td><td> 53612</td><td> 59368</td><td> 76634</td><td>148533</td><td>103702</td><td>158376</td><td> 40529</td></tr>\n",
       "\t<tr><th scope=row>TRNK</th><td>    41</td><td>   25</td><td>    36</td><td>    76</td><td>    66</td><td>    37</td><td>   127</td><td>    64</td><td>    64</td><td>    55</td><td>    36</td><td>    69</td><td>    94</td><td>   176</td><td>   108</td><td>   189</td><td>    58</td></tr>\n",
       "\t<tr><th scope=row>ATP8</th><td> 11340</td><td> 6210</td><td> 17466</td><td> 28653</td><td> 16762</td><td> 15883</td><td> 25819</td><td> 18596</td><td> 16833</td><td> 14321</td><td> 14086</td><td>  9665</td><td> 12735</td><td> 29813</td><td> 19763</td><td> 28349</td><td>  4128</td></tr>\n",
       "\t<tr><th scope=row>ATP6</th><td> 45674</td><td>25346</td><td> 67681</td><td> 95930</td><td> 54402</td><td> 55523</td><td> 91987</td><td> 71679</td><td> 59234</td><td> 53250</td><td> 47138</td><td> 35085</td><td> 43747</td><td>100326</td><td> 69119</td><td>101919</td><td> 13696</td></tr>\n",
       "\t<tr><th scope=row>COX3</th><td> 54006</td><td>30984</td><td> 66487</td><td> 84995</td><td> 43875</td><td> 56569</td><td> 79239</td><td> 75100</td><td> 93436</td><td> 89348</td><td> 68793</td><td> 25946</td><td> 39988</td><td> 79644</td><td> 54579</td><td> 86524</td><td> 13411</td></tr>\n",
       "\t<tr><th scope=row>TRNG</th><td>  1216</td><td>  749</td><td>  1414</td><td>  1154</td><td>   158</td><td>   571</td><td>   418</td><td>  1880</td><td>   185</td><td>   180</td><td>    72</td><td>    50</td><td>    63</td><td>   149</td><td>   188</td><td>   274</td><td>    46</td></tr>\n",
       "\t<tr><th scope=row>ND3</th><td>  7027</td><td> 3896</td><td> 11235</td><td> 13462</td><td> 10253</td><td>  9701</td><td> 15630</td><td> 13112</td><td> 13442</td><td> 10594</td><td> 11528</td><td>  6885</td><td>  9874</td><td> 19529</td><td> 11804</td><td> 18912</td><td>  4375</td></tr>\n",
       "\t<tr><th scope=row>TRNR</th><td>    47</td><td>   47</td><td>    52</td><td>    86</td><td>   108</td><td>    47</td><td>   285</td><td>    79</td><td>   105</td><td>   103</td><td>    37</td><td>    25</td><td>    31</td><td>    78</td><td>    84</td><td>   126</td><td>    26</td></tr>\n",
       "\t<tr><th scope=row>ND4L</th><td> 10038</td><td> 6961</td><td> 22927</td><td> 31235</td><td> 14329</td><td> 17073</td><td> 27772</td><td> 20710</td><td> 13725</td><td> 11355</td><td> 10546</td><td> 18783</td><td> 26044</td><td> 40870</td><td> 32895</td><td> 37343</td><td> 18013</td></tr>\n",
       "\t<tr><th scope=row>ND4</th><td> 73082</td><td>49349</td><td>140907</td><td>165815</td><td> 84127</td><td> 97578</td><td>189518</td><td>155061</td><td> 82976</td><td> 80645</td><td> 54652</td><td>128018</td><td>163739</td><td>261899</td><td>233585</td><td>253832</td><td>112342</td></tr>\n",
       "\t<tr><th scope=row>TRNH</th><td>    36</td><td>   27</td><td>    47</td><td>    95</td><td>    91</td><td>    46</td><td>   164</td><td>    53</td><td>    88</td><td>    95</td><td>    45</td><td>    20</td><td>    23</td><td>    51</td><td>    53</td><td>    94</td><td>    11</td></tr>\n",
       "\t<tr><th scope=row>TRNS2</th><td>    35</td><td>   26</td><td>    39</td><td>    61</td><td>   102</td><td>    40</td><td>   187</td><td>    53</td><td>    84</td><td>    99</td><td>    41</td><td>    25</td><td>    27</td><td>    59</td><td>   176</td><td>   109</td><td>    15</td></tr>\n",
       "\t<tr><th scope=row>TRNL2</th><td>    32</td><td>   21</td><td>    30</td><td>    37</td><td>    95</td><td>    27</td><td>   197</td><td>    54</td><td>    82</td><td>    94</td><td>    31</td><td>    28</td><td>    28</td><td>    64</td><td>    85</td><td>   121</td><td>    16</td></tr>\n",
       "\t<tr><th scope=row>ND5</th><td> 31079</td><td>16834</td><td> 40774</td><td> 63191</td><td> 38183</td><td> 43678</td><td> 71423</td><td> 37412</td><td> 30581</td><td> 25147</td><td> 29140</td><td> 35401</td><td> 44907</td><td> 89113</td><td> 60245</td><td> 98828</td><td> 23491</td></tr>\n",
       "\t<tr><th scope=row>ND6</th><td> 12074</td><td> 7317</td><td> 17913</td><td> 23346</td><td> 16043</td><td> 14168</td><td> 31423</td><td> 15967</td><td> 10993</td><td> 10808</td><td>  9141</td><td> 14324</td><td> 17008</td><td> 33927</td><td> 24406</td><td> 40802</td><td>  7029</td></tr>\n",
       "\t<tr><th scope=row>TRNE</th><td>  1140</td><td>  626</td><td>  1351</td><td>  1750</td><td>  1205</td><td>  1116</td><td>  2197</td><td>   970</td><td>  1234</td><td>  1271</td><td>  1071</td><td>  1397</td><td>  1580</td><td>  3083</td><td>  2476</td><td>  3884</td><td>   661</td></tr>\n",
       "\t<tr><th scope=row>CYTB</th><td> 29678</td><td>18567</td><td> 49526</td><td> 59193</td><td> 27181</td><td> 42942</td><td> 51567</td><td> 41676</td><td> 42663</td><td> 43775</td><td> 29524</td><td> 12929</td><td> 17462</td><td> 35050</td><td> 25611</td><td> 29662</td><td>  6904</td></tr>\n",
       "\t<tr><th scope=row>TRNT</th><td>   130</td><td>   87</td><td>   236</td><td>   542</td><td>   115</td><td>   157</td><td>   159</td><td>   144</td><td>   212</td><td>   255</td><td>   196</td><td>   100</td><td>   123</td><td>   187</td><td>   197</td><td>   345</td><td>    69</td></tr>\n",
       "\t<tr><th scope=row>TRNP</th><td>   872</td><td>  813</td><td>  2126</td><td>  1891</td><td>   743</td><td>   691</td><td>  1405</td><td>   865</td><td>  1174</td><td>  1558</td><td>  1407</td><td>  1782</td><td>  2292</td><td>  3745</td><td>  3087</td><td>  5902</td><td>   990</td></tr>\n",
       "</tbody>\n",
       "</table>\n"
      ],
      "text/latex": [
       "A data.frame: 39376 × 17\n",
       "\\begin{tabular}{r|lllllllllllllllll}\n",
       "  & GSM6614824 & GSM6614825 & GSM6614826 & GSM6614827 & GSM6614828 & GSM6614829 & GSM6614830 & GSM6614831 & GSM6614832 & GSM6614833 & GSM6614834 & GSM6614835 & GSM6614836 & GSM6614837 & GSM6614838 & GSM6614839 & GSM6614840\\\\\n",
       "  & <int> & <int> & <int> & <int> & <int> & <int> & <int> & <int> & <int> & <int> & <int> & <int> & <int> & <int> & <int> & <int> & <int>\\\\\n",
       "\\hline\n",
       "\tDDX11L1 &   1 &   0 &   0 &   0 &   1 &   0 &    0 &   0 &   1 &   0 &   1 &   0 &   0 &    0 &   0 &    1 &   0\\\\\n",
       "\tWASH7P & 189 & 136 & 175 & 234 & 314 & 210 &  497 & 293 & 321 & 243 & 237 & 166 & 168 &  218 & 180 &  249 & 128\\\\\n",
       "\tMIR6859-1 &   4 &   1 &   2 &   3 &   8 &   2 &   23 &  10 &  15 &   8 &  10 &   1 &   2 &    1 &   2 &    2 &   2\\\\\n",
       "\tMIR1302-2HG &   0 &   0 &   0 &   1 &   0 &   1 &    0 &   1 &   1 &   1 &   0 &   0 &   0 &    0 &   0 &    0 &   0\\\\\n",
       "\tMIR1302-2 &   0 &   0 &   0 &   0 &   0 &   1 &    0 &   0 &   0 &   0 &   0 &   0 &   0 &    0 &   0 &    0 &   0\\\\\n",
       "\tFAM138A &   0 &   0 &   0 &   0 &   0 &   0 &    0 &   0 &   1 &   3 &   0 &   1 &   0 &    0 &   0 &    0 &   0\\\\\n",
       "\tOR4F5 &   0 &   0 &   0 &   0 &   0 &   0 &    0 &   0 &   0 &   0 &   0 &   0 &   0 &    0 &   0 &    0 &   0\\\\\n",
       "\tLOC100996442 &  20 &   4 &  14 &  30 &  32 &  16 &   44 &  20 &  33 &  34 &  26 &   7 &  12 &   10 &   6 &    9 &   9\\\\\n",
       "\tLOC729737 & 736 & 298 & 487 & 494 & 332 & 361 & 1218 & 579 & 788 & 425 & 278 &  56 &  96 &   67 &  28 &   77 &  65\\\\\n",
       "\tDDX11L17 &   1 &   0 &   0 &   0 &   1 &   0 &    0 &   0 &   0 &   0 &   0 &   0 &   0 &    2 &   0 &    0 &   0\\\\\n",
       "\tWASH9P & 242 & 184 & 211 & 264 & 395 & 251 &  510 & 323 & 371 & 313 & 275 & 194 & 199 &  252 & 196 &  334 & 183\\\\\n",
       "\tMIR6859-2 &   2 &   1 &   2 &   5 &   5 &   3 &    8 &   8 &  15 &   4 &   6 &   1 &   2 &    2 &   1 &    2 &   1\\\\\n",
       "\t107985721 &   0 &   0 &   0 &   0 &   0 &   1 &    0 &   2 &   0 &   1 &   0 &   0 &   0 &    0 &   0 &    0 &   1\\\\\n",
       "\tLOC112268260 &   2 &   2 &   5 &   3 &   3 &   2 &    7 &   3 &  18 &  14 &  12 &   4 &   2 &    4 &   4 &    5 &   4\\\\\n",
       "\tOR4F29 &   0 &   0 &   0 &   0 &   0 &   0 &    0 &   0 &   0 &   0 &   0 &   1 &   0 &    0 &   0 &    0 &   0\\\\\n",
       "\tLOC100132287 & 209 & 119 & 165 & 156 & 164 & 141 &  369 & 190 & 261 & 198 & 139 &  47 &  77 &   82 &  37 &   83 &  63\\\\\n",
       "\tLOC105378947 &   0 &   0 &   1 &   0 &   0 &   0 &    0 &   1 &   1 &   1 &   1 &   0 &   0 &    0 &   0 &    0 &   0\\\\\n",
       "\tLOC101928626 &   0 &   0 &   0 &   0 &   0 &   0 &    0 &   0 &   0 &   0 &   0 &   0 &   0 &    0 &   0 &    0 &   0\\\\\n",
       "\tMIR12136 & 445 & 318 & 818 & 736 & 532 & 489 &  825 & 560 & 321 & 409 & 253 & 543 & 746 & 1252 & 873 & 1508 & 292\\\\\n",
       "\tOR4F16 &   1 &   0 &   1 &   2 &   4 &   3 &    3 &   1 &   3 &   5 &   6 &   2 &   2 &    1 &   2 &    1 &   2\\\\\n",
       "\t100133331 & 152 &  98 & 103 & 108 & 147 & 114 &  303 & 163 & 223 & 155 & 137 &  70 &  76 &   67 &  37 &   83 &  57\\\\\n",
       "\t107984841 &  54 &  31 &  36 &  44 &  35 &  24 &  108 &  45 &  31 &  27 &  31 &   7 &   9 &    5 &   9 &    7 &  11\\\\\n",
       "\t107984847 &  53 &  27 &  42 &  39 &  64 &  42 &   98 &  51 &  52 &  34 &  25 &   5 &   9 &   12 &   5 &    9 &  18\\\\\n",
       "\t107984849 &  27 &   8 &  19 &  12 &  16 &   7 &   39 &  25 &  21 &  13 &   5 &   1 &   2 &    3 &   1 &    7 &   4\\\\\n",
       "\tLOC100288069 &  45 &  14 &  12 &  34 &  80 &  28 &   82 &  56 &  24 &  15 &  43 &   3 &  23 &   12 &   5 &    9 &  31\\\\\n",
       "\tLINC01409 &   6 &   8 &   6 &   6 &  13 &  12 &   16 &   4 &   7 &   4 &   7 &   8 &   4 &    9 &   0 &    3 &   4\\\\\n",
       "\tFAM87B &   5 &   3 &   0 &   3 &  13 &   5 &    7 &  11 &   3 &   8 &   6 &   3 &   3 &    6 &   1 &    0 &   6\\\\\n",
       "\tLINC00115 &  27 &  28 &  37 &  18 &  20 &  36 &   41 &  49 &  16 &   9 &   8 &   7 &   5 &    2 &   1 &    6 &   6\\\\\n",
       "\tLINC01128 & 237 & 254 & 185 & 200 & 324 & 169 &  340 & 216 & 147 & 189 & 190 &  92 &  66 &   77 &  50 &  106 &  81\\\\\n",
       "\tLOC107984850 &   0 &   0 &   1 &   2 &   0 &   0 &    0 &   0 &   0 &   0 &   0 &   0 &   0 &    1 &   0 &    0 &   0\\\\\n",
       "\t⋮ & ⋮ & ⋮ & ⋮ & ⋮ & ⋮ & ⋮ & ⋮ & ⋮ & ⋮ & ⋮ & ⋮ & ⋮ & ⋮ & ⋮ & ⋮ & ⋮ & ⋮\\\\\n",
       "\tTRNQ &     34 &    21 &     51 &    229 &     83 &    161 &     66 &     77 &     19 &     20 &     27 &      6 &      8 &     63 &     10 &     16 &      4\\\\\n",
       "\tTRNM &     32 &    17 &     43 &    193 &     97 &    148 &     69 &     64 &     19 &     28 &     36 &     11 &     10 &     92 &      6 &     23 &      7\\\\\n",
       "\tND2 &  33596 & 20821 &  61423 &  54273 &  31705 &  36916 &  67361 &  65248 &  28747 &  24870 &  22873 &  32178 &  33784 &  79558 &  43230 &  82437 &  15834\\\\\n",
       "\tTRNW &     70 &    65 &    229 &    177 &     42 &     86 &     97 &    142 &     35 &     38 &     30 &     65 &     73 &    143 &     69 &    150 &     25\\\\\n",
       "\tTRNA &   1917 &  1220 &   2603 &   4984 &   2984 &   4141 &   2919 &   2199 &   3037 &   2666 &   2609 &   7797 &  11668 &  19137 &  14490 &  22767 &   7595\\\\\n",
       "\tTRNN &   2290 &  1504 &   3066 &   5610 &   3663 &   4719 &   3758 &   2776 &   3717 &   3175 &   3251 &   9214 &  13653 &  22294 &  16650 &  26722 &   8712\\\\\n",
       "\tTRNC &   2876 &  1871 &   3705 &   6332 &   4113 &   5289 &   4916 &   3800 &   4096 &   3545 &   3698 &   9499 &  14074 &  22997 &  17037 &  27390 &   9019\\\\\n",
       "\tTRNY &   4211 &  2798 &   6359 &   9658 &   4966 &   6871 &   6847 &   5497 &   4683 &   4119 &   4554 &   9405 &  14046 &  23070 &  16857 &  26970 &   9059\\\\\n",
       "\tCOX1 & 120471 & 83512 & 215604 & 364316 & 202613 & 214321 & 278854 & 209483 & 198416 & 189657 & 170309 & 254064 & 360439 & 673826 & 409557 & 632379 & 149416\\\\\n",
       "\tTRNS1 &   4171 &  2817 &   8300 &  10332 &   5748 &   6905 &   7416 &   5343 &   7199 &   9230 &   5836 &  11969 &  15730 &  27393 &  18022 &  29477 &   7080\\\\\n",
       "\tTRND &     24 &    25 &     73 &    330 &    101 &    132 &     72 &     41 &    104 &    111 &     89 &     40 &     50 &     82 &     75 &    127 &     31\\\\\n",
       "\tCOX2 &  63455 & 44196 & 124683 & 130262 &  66042 &  75578 & 117650 & 104290 &  78924 &  60776 &  53612 &  59368 &  76634 & 148533 & 103702 & 158376 &  40529\\\\\n",
       "\tTRNK &     41 &    25 &     36 &     76 &     66 &     37 &    127 &     64 &     64 &     55 &     36 &     69 &     94 &    176 &    108 &    189 &     58\\\\\n",
       "\tATP8 &  11340 &  6210 &  17466 &  28653 &  16762 &  15883 &  25819 &  18596 &  16833 &  14321 &  14086 &   9665 &  12735 &  29813 &  19763 &  28349 &   4128\\\\\n",
       "\tATP6 &  45674 & 25346 &  67681 &  95930 &  54402 &  55523 &  91987 &  71679 &  59234 &  53250 &  47138 &  35085 &  43747 & 100326 &  69119 & 101919 &  13696\\\\\n",
       "\tCOX3 &  54006 & 30984 &  66487 &  84995 &  43875 &  56569 &  79239 &  75100 &  93436 &  89348 &  68793 &  25946 &  39988 &  79644 &  54579 &  86524 &  13411\\\\\n",
       "\tTRNG &   1216 &   749 &   1414 &   1154 &    158 &    571 &    418 &   1880 &    185 &    180 &     72 &     50 &     63 &    149 &    188 &    274 &     46\\\\\n",
       "\tND3 &   7027 &  3896 &  11235 &  13462 &  10253 &   9701 &  15630 &  13112 &  13442 &  10594 &  11528 &   6885 &   9874 &  19529 &  11804 &  18912 &   4375\\\\\n",
       "\tTRNR &     47 &    47 &     52 &     86 &    108 &     47 &    285 &     79 &    105 &    103 &     37 &     25 &     31 &     78 &     84 &    126 &     26\\\\\n",
       "\tND4L &  10038 &  6961 &  22927 &  31235 &  14329 &  17073 &  27772 &  20710 &  13725 &  11355 &  10546 &  18783 &  26044 &  40870 &  32895 &  37343 &  18013\\\\\n",
       "\tND4 &  73082 & 49349 & 140907 & 165815 &  84127 &  97578 & 189518 & 155061 &  82976 &  80645 &  54652 & 128018 & 163739 & 261899 & 233585 & 253832 & 112342\\\\\n",
       "\tTRNH &     36 &    27 &     47 &     95 &     91 &     46 &    164 &     53 &     88 &     95 &     45 &     20 &     23 &     51 &     53 &     94 &     11\\\\\n",
       "\tTRNS2 &     35 &    26 &     39 &     61 &    102 &     40 &    187 &     53 &     84 &     99 &     41 &     25 &     27 &     59 &    176 &    109 &     15\\\\\n",
       "\tTRNL2 &     32 &    21 &     30 &     37 &     95 &     27 &    197 &     54 &     82 &     94 &     31 &     28 &     28 &     64 &     85 &    121 &     16\\\\\n",
       "\tND5 &  31079 & 16834 &  40774 &  63191 &  38183 &  43678 &  71423 &  37412 &  30581 &  25147 &  29140 &  35401 &  44907 &  89113 &  60245 &  98828 &  23491\\\\\n",
       "\tND6 &  12074 &  7317 &  17913 &  23346 &  16043 &  14168 &  31423 &  15967 &  10993 &  10808 &   9141 &  14324 &  17008 &  33927 &  24406 &  40802 &   7029\\\\\n",
       "\tTRNE &   1140 &   626 &   1351 &   1750 &   1205 &   1116 &   2197 &    970 &   1234 &   1271 &   1071 &   1397 &   1580 &   3083 &   2476 &   3884 &    661\\\\\n",
       "\tCYTB &  29678 & 18567 &  49526 &  59193 &  27181 &  42942 &  51567 &  41676 &  42663 &  43775 &  29524 &  12929 &  17462 &  35050 &  25611 &  29662 &   6904\\\\\n",
       "\tTRNT &    130 &    87 &    236 &    542 &    115 &    157 &    159 &    144 &    212 &    255 &    196 &    100 &    123 &    187 &    197 &    345 &     69\\\\\n",
       "\tTRNP &    872 &   813 &   2126 &   1891 &    743 &    691 &   1405 &    865 &   1174 &   1558 &   1407 &   1782 &   2292 &   3745 &   3087 &   5902 &    990\\\\\n",
       "\\end{tabular}\n"
      ],
      "text/markdown": [
       "\n",
       "A data.frame: 39376 × 17\n",
       "\n",
       "| <!--/--> | GSM6614824 &lt;int&gt; | GSM6614825 &lt;int&gt; | GSM6614826 &lt;int&gt; | GSM6614827 &lt;int&gt; | GSM6614828 &lt;int&gt; | GSM6614829 &lt;int&gt; | GSM6614830 &lt;int&gt; | GSM6614831 &lt;int&gt; | GSM6614832 &lt;int&gt; | GSM6614833 &lt;int&gt; | GSM6614834 &lt;int&gt; | GSM6614835 &lt;int&gt; | GSM6614836 &lt;int&gt; | GSM6614837 &lt;int&gt; | GSM6614838 &lt;int&gt; | GSM6614839 &lt;int&gt; | GSM6614840 &lt;int&gt; |\n",
       "|---|---|---|---|---|---|---|---|---|---|---|---|---|---|---|---|---|---|\n",
       "| DDX11L1 |   1 |   0 |   0 |   0 |   1 |   0 |    0 |   0 |   1 |   0 |   1 |   0 |   0 |    0 |   0 |    1 |   0 |\n",
       "| WASH7P | 189 | 136 | 175 | 234 | 314 | 210 |  497 | 293 | 321 | 243 | 237 | 166 | 168 |  218 | 180 |  249 | 128 |\n",
       "| MIR6859-1 |   4 |   1 |   2 |   3 |   8 |   2 |   23 |  10 |  15 |   8 |  10 |   1 |   2 |    1 |   2 |    2 |   2 |\n",
       "| MIR1302-2HG |   0 |   0 |   0 |   1 |   0 |   1 |    0 |   1 |   1 |   1 |   0 |   0 |   0 |    0 |   0 |    0 |   0 |\n",
       "| MIR1302-2 |   0 |   0 |   0 |   0 |   0 |   1 |    0 |   0 |   0 |   0 |   0 |   0 |   0 |    0 |   0 |    0 |   0 |\n",
       "| FAM138A |   0 |   0 |   0 |   0 |   0 |   0 |    0 |   0 |   1 |   3 |   0 |   1 |   0 |    0 |   0 |    0 |   0 |\n",
       "| OR4F5 |   0 |   0 |   0 |   0 |   0 |   0 |    0 |   0 |   0 |   0 |   0 |   0 |   0 |    0 |   0 |    0 |   0 |\n",
       "| LOC100996442 |  20 |   4 |  14 |  30 |  32 |  16 |   44 |  20 |  33 |  34 |  26 |   7 |  12 |   10 |   6 |    9 |   9 |\n",
       "| LOC729737 | 736 | 298 | 487 | 494 | 332 | 361 | 1218 | 579 | 788 | 425 | 278 |  56 |  96 |   67 |  28 |   77 |  65 |\n",
       "| DDX11L17 |   1 |   0 |   0 |   0 |   1 |   0 |    0 |   0 |   0 |   0 |   0 |   0 |   0 |    2 |   0 |    0 |   0 |\n",
       "| WASH9P | 242 | 184 | 211 | 264 | 395 | 251 |  510 | 323 | 371 | 313 | 275 | 194 | 199 |  252 | 196 |  334 | 183 |\n",
       "| MIR6859-2 |   2 |   1 |   2 |   5 |   5 |   3 |    8 |   8 |  15 |   4 |   6 |   1 |   2 |    2 |   1 |    2 |   1 |\n",
       "| 107985721 |   0 |   0 |   0 |   0 |   0 |   1 |    0 |   2 |   0 |   1 |   0 |   0 |   0 |    0 |   0 |    0 |   1 |\n",
       "| LOC112268260 |   2 |   2 |   5 |   3 |   3 |   2 |    7 |   3 |  18 |  14 |  12 |   4 |   2 |    4 |   4 |    5 |   4 |\n",
       "| OR4F29 |   0 |   0 |   0 |   0 |   0 |   0 |    0 |   0 |   0 |   0 |   0 |   1 |   0 |    0 |   0 |    0 |   0 |\n",
       "| LOC100132287 | 209 | 119 | 165 | 156 | 164 | 141 |  369 | 190 | 261 | 198 | 139 |  47 |  77 |   82 |  37 |   83 |  63 |\n",
       "| LOC105378947 |   0 |   0 |   1 |   0 |   0 |   0 |    0 |   1 |   1 |   1 |   1 |   0 |   0 |    0 |   0 |    0 |   0 |\n",
       "| LOC101928626 |   0 |   0 |   0 |   0 |   0 |   0 |    0 |   0 |   0 |   0 |   0 |   0 |   0 |    0 |   0 |    0 |   0 |\n",
       "| MIR12136 | 445 | 318 | 818 | 736 | 532 | 489 |  825 | 560 | 321 | 409 | 253 | 543 | 746 | 1252 | 873 | 1508 | 292 |\n",
       "| OR4F16 |   1 |   0 |   1 |   2 |   4 |   3 |    3 |   1 |   3 |   5 |   6 |   2 |   2 |    1 |   2 |    1 |   2 |\n",
       "| 100133331 | 152 |  98 | 103 | 108 | 147 | 114 |  303 | 163 | 223 | 155 | 137 |  70 |  76 |   67 |  37 |   83 |  57 |\n",
       "| 107984841 |  54 |  31 |  36 |  44 |  35 |  24 |  108 |  45 |  31 |  27 |  31 |   7 |   9 |    5 |   9 |    7 |  11 |\n",
       "| 107984847 |  53 |  27 |  42 |  39 |  64 |  42 |   98 |  51 |  52 |  34 |  25 |   5 |   9 |   12 |   5 |    9 |  18 |\n",
       "| 107984849 |  27 |   8 |  19 |  12 |  16 |   7 |   39 |  25 |  21 |  13 |   5 |   1 |   2 |    3 |   1 |    7 |   4 |\n",
       "| LOC100288069 |  45 |  14 |  12 |  34 |  80 |  28 |   82 |  56 |  24 |  15 |  43 |   3 |  23 |   12 |   5 |    9 |  31 |\n",
       "| LINC01409 |   6 |   8 |   6 |   6 |  13 |  12 |   16 |   4 |   7 |   4 |   7 |   8 |   4 |    9 |   0 |    3 |   4 |\n",
       "| FAM87B |   5 |   3 |   0 |   3 |  13 |   5 |    7 |  11 |   3 |   8 |   6 |   3 |   3 |    6 |   1 |    0 |   6 |\n",
       "| LINC00115 |  27 |  28 |  37 |  18 |  20 |  36 |   41 |  49 |  16 |   9 |   8 |   7 |   5 |    2 |   1 |    6 |   6 |\n",
       "| LINC01128 | 237 | 254 | 185 | 200 | 324 | 169 |  340 | 216 | 147 | 189 | 190 |  92 |  66 |   77 |  50 |  106 |  81 |\n",
       "| LOC107984850 |   0 |   0 |   1 |   2 |   0 |   0 |    0 |   0 |   0 |   0 |   0 |   0 |   0 |    1 |   0 |    0 |   0 |\n",
       "| ⋮ | ⋮ | ⋮ | ⋮ | ⋮ | ⋮ | ⋮ | ⋮ | ⋮ | ⋮ | ⋮ | ⋮ | ⋮ | ⋮ | ⋮ | ⋮ | ⋮ | ⋮ |\n",
       "| TRNQ |     34 |    21 |     51 |    229 |     83 |    161 |     66 |     77 |     19 |     20 |     27 |      6 |      8 |     63 |     10 |     16 |      4 |\n",
       "| TRNM |     32 |    17 |     43 |    193 |     97 |    148 |     69 |     64 |     19 |     28 |     36 |     11 |     10 |     92 |      6 |     23 |      7 |\n",
       "| ND2 |  33596 | 20821 |  61423 |  54273 |  31705 |  36916 |  67361 |  65248 |  28747 |  24870 |  22873 |  32178 |  33784 |  79558 |  43230 |  82437 |  15834 |\n",
       "| TRNW |     70 |    65 |    229 |    177 |     42 |     86 |     97 |    142 |     35 |     38 |     30 |     65 |     73 |    143 |     69 |    150 |     25 |\n",
       "| TRNA |   1917 |  1220 |   2603 |   4984 |   2984 |   4141 |   2919 |   2199 |   3037 |   2666 |   2609 |   7797 |  11668 |  19137 |  14490 |  22767 |   7595 |\n",
       "| TRNN |   2290 |  1504 |   3066 |   5610 |   3663 |   4719 |   3758 |   2776 |   3717 |   3175 |   3251 |   9214 |  13653 |  22294 |  16650 |  26722 |   8712 |\n",
       "| TRNC |   2876 |  1871 |   3705 |   6332 |   4113 |   5289 |   4916 |   3800 |   4096 |   3545 |   3698 |   9499 |  14074 |  22997 |  17037 |  27390 |   9019 |\n",
       "| TRNY |   4211 |  2798 |   6359 |   9658 |   4966 |   6871 |   6847 |   5497 |   4683 |   4119 |   4554 |   9405 |  14046 |  23070 |  16857 |  26970 |   9059 |\n",
       "| COX1 | 120471 | 83512 | 215604 | 364316 | 202613 | 214321 | 278854 | 209483 | 198416 | 189657 | 170309 | 254064 | 360439 | 673826 | 409557 | 632379 | 149416 |\n",
       "| TRNS1 |   4171 |  2817 |   8300 |  10332 |   5748 |   6905 |   7416 |   5343 |   7199 |   9230 |   5836 |  11969 |  15730 |  27393 |  18022 |  29477 |   7080 |\n",
       "| TRND |     24 |    25 |     73 |    330 |    101 |    132 |     72 |     41 |    104 |    111 |     89 |     40 |     50 |     82 |     75 |    127 |     31 |\n",
       "| COX2 |  63455 | 44196 | 124683 | 130262 |  66042 |  75578 | 117650 | 104290 |  78924 |  60776 |  53612 |  59368 |  76634 | 148533 | 103702 | 158376 |  40529 |\n",
       "| TRNK |     41 |    25 |     36 |     76 |     66 |     37 |    127 |     64 |     64 |     55 |     36 |     69 |     94 |    176 |    108 |    189 |     58 |\n",
       "| ATP8 |  11340 |  6210 |  17466 |  28653 |  16762 |  15883 |  25819 |  18596 |  16833 |  14321 |  14086 |   9665 |  12735 |  29813 |  19763 |  28349 |   4128 |\n",
       "| ATP6 |  45674 | 25346 |  67681 |  95930 |  54402 |  55523 |  91987 |  71679 |  59234 |  53250 |  47138 |  35085 |  43747 | 100326 |  69119 | 101919 |  13696 |\n",
       "| COX3 |  54006 | 30984 |  66487 |  84995 |  43875 |  56569 |  79239 |  75100 |  93436 |  89348 |  68793 |  25946 |  39988 |  79644 |  54579 |  86524 |  13411 |\n",
       "| TRNG |   1216 |   749 |   1414 |   1154 |    158 |    571 |    418 |   1880 |    185 |    180 |     72 |     50 |     63 |    149 |    188 |    274 |     46 |\n",
       "| ND3 |   7027 |  3896 |  11235 |  13462 |  10253 |   9701 |  15630 |  13112 |  13442 |  10594 |  11528 |   6885 |   9874 |  19529 |  11804 |  18912 |   4375 |\n",
       "| TRNR |     47 |    47 |     52 |     86 |    108 |     47 |    285 |     79 |    105 |    103 |     37 |     25 |     31 |     78 |     84 |    126 |     26 |\n",
       "| ND4L |  10038 |  6961 |  22927 |  31235 |  14329 |  17073 |  27772 |  20710 |  13725 |  11355 |  10546 |  18783 |  26044 |  40870 |  32895 |  37343 |  18013 |\n",
       "| ND4 |  73082 | 49349 | 140907 | 165815 |  84127 |  97578 | 189518 | 155061 |  82976 |  80645 |  54652 | 128018 | 163739 | 261899 | 233585 | 253832 | 112342 |\n",
       "| TRNH |     36 |    27 |     47 |     95 |     91 |     46 |    164 |     53 |     88 |     95 |     45 |     20 |     23 |     51 |     53 |     94 |     11 |\n",
       "| TRNS2 |     35 |    26 |     39 |     61 |    102 |     40 |    187 |     53 |     84 |     99 |     41 |     25 |     27 |     59 |    176 |    109 |     15 |\n",
       "| TRNL2 |     32 |    21 |     30 |     37 |     95 |     27 |    197 |     54 |     82 |     94 |     31 |     28 |     28 |     64 |     85 |    121 |     16 |\n",
       "| ND5 |  31079 | 16834 |  40774 |  63191 |  38183 |  43678 |  71423 |  37412 |  30581 |  25147 |  29140 |  35401 |  44907 |  89113 |  60245 |  98828 |  23491 |\n",
       "| ND6 |  12074 |  7317 |  17913 |  23346 |  16043 |  14168 |  31423 |  15967 |  10993 |  10808 |   9141 |  14324 |  17008 |  33927 |  24406 |  40802 |   7029 |\n",
       "| TRNE |   1140 |   626 |   1351 |   1750 |   1205 |   1116 |   2197 |    970 |   1234 |   1271 |   1071 |   1397 |   1580 |   3083 |   2476 |   3884 |    661 |\n",
       "| CYTB |  29678 | 18567 |  49526 |  59193 |  27181 |  42942 |  51567 |  41676 |  42663 |  43775 |  29524 |  12929 |  17462 |  35050 |  25611 |  29662 |   6904 |\n",
       "| TRNT |    130 |    87 |    236 |    542 |    115 |    157 |    159 |    144 |    212 |    255 |    196 |    100 |    123 |    187 |    197 |    345 |     69 |\n",
       "| TRNP |    872 |   813 |   2126 |   1891 |    743 |    691 |   1405 |    865 |   1174 |   1558 |   1407 |   1782 |   2292 |   3745 |   3087 |   5902 |    990 |\n",
       "\n"
      ],
      "text/plain": [
       "             GSM6614824 GSM6614825 GSM6614826 GSM6614827 GSM6614828 GSM6614829\n",
       "DDX11L1        1          0          0          0          1          0       \n",
       "WASH7P       189        136        175        234        314        210       \n",
       "MIR6859-1      4          1          2          3          8          2       \n",
       "MIR1302-2HG    0          0          0          1          0          1       \n",
       "MIR1302-2      0          0          0          0          0          1       \n",
       "FAM138A        0          0          0          0          0          0       \n",
       "OR4F5          0          0          0          0          0          0       \n",
       "LOC100996442  20          4         14         30         32         16       \n",
       "LOC729737    736        298        487        494        332        361       \n",
       "DDX11L17       1          0          0          0          1          0       \n",
       "WASH9P       242        184        211        264        395        251       \n",
       "MIR6859-2      2          1          2          5          5          3       \n",
       "107985721      0          0          0          0          0          1       \n",
       "LOC112268260   2          2          5          3          3          2       \n",
       "OR4F29         0          0          0          0          0          0       \n",
       "LOC100132287 209        119        165        156        164        141       \n",
       "LOC105378947   0          0          1          0          0          0       \n",
       "LOC101928626   0          0          0          0          0          0       \n",
       "MIR12136     445        318        818        736        532        489       \n",
       "OR4F16         1          0          1          2          4          3       \n",
       "100133331    152         98        103        108        147        114       \n",
       "107984841     54         31         36         44         35         24       \n",
       "107984847     53         27         42         39         64         42       \n",
       "107984849     27          8         19         12         16          7       \n",
       "LOC100288069  45         14         12         34         80         28       \n",
       "LINC01409      6          8          6          6         13         12       \n",
       "FAM87B         5          3          0          3         13          5       \n",
       "LINC00115     27         28         37         18         20         36       \n",
       "LINC01128    237        254        185        200        324        169       \n",
       "LOC107984850   0          0          1          2          0          0       \n",
       "⋮            ⋮          ⋮          ⋮          ⋮          ⋮          ⋮         \n",
       "TRNQ             34        21          51        229         83        161    \n",
       "TRNM             32        17          43        193         97        148    \n",
       "ND2           33596     20821       61423      54273      31705      36916    \n",
       "TRNW             70        65         229        177         42         86    \n",
       "TRNA           1917      1220        2603       4984       2984       4141    \n",
       "TRNN           2290      1504        3066       5610       3663       4719    \n",
       "TRNC           2876      1871        3705       6332       4113       5289    \n",
       "TRNY           4211      2798        6359       9658       4966       6871    \n",
       "COX1         120471     83512      215604     364316     202613     214321    \n",
       "TRNS1          4171      2817        8300      10332       5748       6905    \n",
       "TRND             24        25          73        330        101        132    \n",
       "COX2          63455     44196      124683     130262      66042      75578    \n",
       "TRNK             41        25          36         76         66         37    \n",
       "ATP8          11340      6210       17466      28653      16762      15883    \n",
       "ATP6          45674     25346       67681      95930      54402      55523    \n",
       "COX3          54006     30984       66487      84995      43875      56569    \n",
       "TRNG           1216       749        1414       1154        158        571    \n",
       "ND3            7027      3896       11235      13462      10253       9701    \n",
       "TRNR             47        47          52         86        108         47    \n",
       "ND4L          10038      6961       22927      31235      14329      17073    \n",
       "ND4           73082     49349      140907     165815      84127      97578    \n",
       "TRNH             36        27          47         95         91         46    \n",
       "TRNS2            35        26          39         61        102         40    \n",
       "TRNL2            32        21          30         37         95         27    \n",
       "ND5           31079     16834       40774      63191      38183      43678    \n",
       "ND6           12074      7317       17913      23346      16043      14168    \n",
       "TRNE           1140       626        1351       1750       1205       1116    \n",
       "CYTB          29678     18567       49526      59193      27181      42942    \n",
       "TRNT            130        87         236        542        115        157    \n",
       "TRNP            872       813        2126       1891        743        691    \n",
       "             GSM6614830 GSM6614831 GSM6614832 GSM6614833 GSM6614834 GSM6614835\n",
       "DDX11L1         0         0          1          0          1          0       \n",
       "WASH7P        497       293        321        243        237        166       \n",
       "MIR6859-1      23        10         15          8         10          1       \n",
       "MIR1302-2HG     0         1          1          1          0          0       \n",
       "MIR1302-2       0         0          0          0          0          0       \n",
       "FAM138A         0         0          1          3          0          1       \n",
       "OR4F5           0         0          0          0          0          0       \n",
       "LOC100996442   44        20         33         34         26          7       \n",
       "LOC729737    1218       579        788        425        278         56       \n",
       "DDX11L17        0         0          0          0          0          0       \n",
       "WASH9P        510       323        371        313        275        194       \n",
       "MIR6859-2       8         8         15          4          6          1       \n",
       "107985721       0         2          0          1          0          0       \n",
       "LOC112268260    7         3         18         14         12          4       \n",
       "OR4F29          0         0          0          0          0          1       \n",
       "LOC100132287  369       190        261        198        139         47       \n",
       "LOC105378947    0         1          1          1          1          0       \n",
       "LOC101928626    0         0          0          0          0          0       \n",
       "MIR12136      825       560        321        409        253        543       \n",
       "OR4F16          3         1          3          5          6          2       \n",
       "100133331     303       163        223        155        137         70       \n",
       "107984841     108        45         31         27         31          7       \n",
       "107984847      98        51         52         34         25          5       \n",
       "107984849      39        25         21         13          5          1       \n",
       "LOC100288069   82        56         24         15         43          3       \n",
       "LINC01409      16         4          7          4          7          8       \n",
       "FAM87B          7        11          3          8          6          3       \n",
       "LINC00115      41        49         16          9          8          7       \n",
       "LINC01128     340       216        147        189        190         92       \n",
       "LOC107984850    0         0          0          0          0          0       \n",
       "⋮            ⋮          ⋮          ⋮          ⋮          ⋮          ⋮         \n",
       "TRNQ             66         77         19         20         27          6    \n",
       "TRNM             69         64         19         28         36         11    \n",
       "ND2           67361      65248      28747      24870      22873      32178    \n",
       "TRNW             97        142         35         38         30         65    \n",
       "TRNA           2919       2199       3037       2666       2609       7797    \n",
       "TRNN           3758       2776       3717       3175       3251       9214    \n",
       "TRNC           4916       3800       4096       3545       3698       9499    \n",
       "TRNY           6847       5497       4683       4119       4554       9405    \n",
       "COX1         278854     209483     198416     189657     170309     254064    \n",
       "TRNS1          7416       5343       7199       9230       5836      11969    \n",
       "TRND             72         41        104        111         89         40    \n",
       "COX2         117650     104290      78924      60776      53612      59368    \n",
       "TRNK            127         64         64         55         36         69    \n",
       "ATP8          25819      18596      16833      14321      14086       9665    \n",
       "ATP6          91987      71679      59234      53250      47138      35085    \n",
       "COX3          79239      75100      93436      89348      68793      25946    \n",
       "TRNG            418       1880        185        180         72         50    \n",
       "ND3           15630      13112      13442      10594      11528       6885    \n",
       "TRNR            285         79        105        103         37         25    \n",
       "ND4L          27772      20710      13725      11355      10546      18783    \n",
       "ND4          189518     155061      82976      80645      54652     128018    \n",
       "TRNH            164         53         88         95         45         20    \n",
       "TRNS2           187         53         84         99         41         25    \n",
       "TRNL2           197         54         82         94         31         28    \n",
       "ND5           71423      37412      30581      25147      29140      35401    \n",
       "ND6           31423      15967      10993      10808       9141      14324    \n",
       "TRNE           2197        970       1234       1271       1071       1397    \n",
       "CYTB          51567      41676      42663      43775      29524      12929    \n",
       "TRNT            159        144        212        255        196        100    \n",
       "TRNP           1405        865       1174       1558       1407       1782    \n",
       "             GSM6614836 GSM6614837 GSM6614838 GSM6614839 GSM6614840\n",
       "DDX11L1        0           0         0           1         0       \n",
       "WASH7P       168         218       180         249       128       \n",
       "MIR6859-1      2           1         2           2         2       \n",
       "MIR1302-2HG    0           0         0           0         0       \n",
       "MIR1302-2      0           0         0           0         0       \n",
       "FAM138A        0           0         0           0         0       \n",
       "OR4F5          0           0         0           0         0       \n",
       "LOC100996442  12          10         6           9         9       \n",
       "LOC729737     96          67        28          77        65       \n",
       "DDX11L17       0           2         0           0         0       \n",
       "WASH9P       199         252       196         334       183       \n",
       "MIR6859-2      2           2         1           2         1       \n",
       "107985721      0           0         0           0         1       \n",
       "LOC112268260   2           4         4           5         4       \n",
       "OR4F29         0           0         0           0         0       \n",
       "LOC100132287  77          82        37          83        63       \n",
       "LOC105378947   0           0         0           0         0       \n",
       "LOC101928626   0           0         0           0         0       \n",
       "MIR12136     746        1252       873        1508       292       \n",
       "OR4F16         2           1         2           1         2       \n",
       "100133331     76          67        37          83        57       \n",
       "107984841      9           5         9           7        11       \n",
       "107984847      9          12         5           9        18       \n",
       "107984849      2           3         1           7         4       \n",
       "LOC100288069  23          12         5           9        31       \n",
       "LINC01409      4           9         0           3         4       \n",
       "FAM87B         3           6         1           0         6       \n",
       "LINC00115      5           2         1           6         6       \n",
       "LINC01128     66          77        50         106        81       \n",
       "LOC107984850   0           1         0           0         0       \n",
       "⋮            ⋮          ⋮          ⋮          ⋮          ⋮         \n",
       "TRNQ              8         63         10         16          4    \n",
       "TRNM             10         92          6         23          7    \n",
       "ND2           33784      79558      43230      82437      15834    \n",
       "TRNW             73        143         69        150         25    \n",
       "TRNA          11668      19137      14490      22767       7595    \n",
       "TRNN          13653      22294      16650      26722       8712    \n",
       "TRNC          14074      22997      17037      27390       9019    \n",
       "TRNY          14046      23070      16857      26970       9059    \n",
       "COX1         360439     673826     409557     632379     149416    \n",
       "TRNS1         15730      27393      18022      29477       7080    \n",
       "TRND             50         82         75        127         31    \n",
       "COX2          76634     148533     103702     158376      40529    \n",
       "TRNK             94        176        108        189         58    \n",
       "ATP8          12735      29813      19763      28349       4128    \n",
       "ATP6          43747     100326      69119     101919      13696    \n",
       "COX3          39988      79644      54579      86524      13411    \n",
       "TRNG             63        149        188        274         46    \n",
       "ND3            9874      19529      11804      18912       4375    \n",
       "TRNR             31         78         84        126         26    \n",
       "ND4L          26044      40870      32895      37343      18013    \n",
       "ND4          163739     261899     233585     253832     112342    \n",
       "TRNH             23         51         53         94         11    \n",
       "TRNS2            27         59        176        109         15    \n",
       "TRNL2            28         64         85        121         16    \n",
       "ND5           44907      89113      60245      98828      23491    \n",
       "ND6           17008      33927      24406      40802       7029    \n",
       "TRNE           1580       3083       2476       3884        661    \n",
       "CYTB          17462      35050      25611      29662       6904    \n",
       "TRNT            123        187        197        345         69    \n",
       "TRNP           2292       3745       3087       5902        990    "
      ]
     },
     "metadata": {},
     "output_type": "display_data"
    }
   ],
   "source": [
    "modified_counts_214715"
   ]
  }
 ],
 "metadata": {
  "kernelspec": {
   "display_name": "R",
   "language": "R",
   "name": "ros"
  },
  "language_info": {
   "codemirror_mode": "r",
   "file_extension": ".r",
   "mimetype": "text/x-r-source",
   "name": "R",
   "pygments_lexer": "r",
   "version": "4.2.2"
  }
 },
 "nbformat": 4,
 "nbformat_minor": 4
}
